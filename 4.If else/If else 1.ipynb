{
 "cells": [
  {
   "cell_type": "code",
   "execution_count": 3,
   "id": "60b1ec0c",
   "metadata": {},
   "outputs": [
    {
     "name": "stdout",
     "output_type": "stream",
     "text": [
      "This is false\n"
     ]
    }
   ],
   "source": [
    " if True:\n",
    "        print('This is false')"
   ]
  },
  {
   "cell_type": "code",
   "execution_count": 4,
   "id": "fbadceaf",
   "metadata": {},
   "outputs": [],
   "source": [
    "if False:\n",
    "    print('this is true')"
   ]
  },
  {
   "cell_type": "code",
   "execution_count": 6,
   "id": "310af7a5",
   "metadata": {},
   "outputs": [
    {
     "name": "stdout",
     "output_type": "stream",
     "text": [
      "x is lower\n"
     ]
    }
   ],
   "source": [
    "x=7\n",
    "if x>10:\n",
    "    print('x is larger')\n",
    "else:\n",
    "    print('x is lower')"
   ]
  },
  {
   "cell_type": "code",
   "execution_count": null,
   "id": "74fc6b89",
   "metadata": {},
   "outputs": [],
   "source": [
    "x=input('enter your name-:')"
   ]
  },
  {
   "cell_type": "code",
   "execution_count": 5,
   "id": "bcd2b6ec",
   "metadata": {},
   "outputs": [
    {
     "name": "stdout",
     "output_type": "stream",
     "text": [
      "Please enter the mark:45\n"
     ]
    }
   ],
   "source": [
    "mark=int(input('Please enter the mark:'))\n",
    "if mark>=80:\n",
    "    grade='A'\n",
    "elif mark>=65:\n",
    "    grade='B'\n",
    "elif mark>=50:\n",
    "    grade='C'\n",
    "else:\n",
    "    grade='F'"
   ]
  },
  {
   "cell_type": "code",
   "execution_count": 6,
   "id": "1abe900c",
   "metadata": {},
   "outputs": [
    {
     "data": {
      "text/plain": [
       "'F'"
      ]
     },
     "execution_count": 6,
     "metadata": {},
     "output_type": "execute_result"
    }
   ],
   "source": [
    "grade"
   ]
  },
  {
   "cell_type": "raw",
   "id": "bab24bd8",
   "metadata": {},
   "source": []
  },
  {
   "cell_type": "code",
   "execution_count": null,
   "id": "3fd34576",
   "metadata": {},
   "outputs": [],
   "source": []
  }
 ],
 "metadata": {
  "kernelspec": {
   "display_name": "Python 3 (ipykernel)",
   "language": "python",
   "name": "python3"
  },
  "language_info": {
   "codemirror_mode": {
    "name": "ipython",
    "version": 3
   },
   "file_extension": ".py",
   "mimetype": "text/x-python",
   "name": "python",
   "nbconvert_exporter": "python",
   "pygments_lexer": "ipython3",
   "version": "3.9.13"
  }
 },
 "nbformat": 4,
 "nbformat_minor": 5
}
