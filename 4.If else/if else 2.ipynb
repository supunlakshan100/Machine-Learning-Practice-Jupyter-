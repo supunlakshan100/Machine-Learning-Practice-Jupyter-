{
 "cells": [
  {
   "cell_type": "code",
   "execution_count": 12,
   "id": "a524cf3c",
   "metadata": {},
   "outputs": [
    {
     "name": "stdout",
     "output_type": "stream",
     "text": [
      "enter your marks:0\n",
      "your grade=F\n"
     ]
    }
   ],
   "source": [
    "x=int(input('enter your marks:'))\n",
    "if x>=80:\n",
    "    print('your grade=A')\n",
    "elif x>=65:\n",
    "    print('your grade=B')\n",
    "elif x>=50:\n",
    "    print('your grade=C')\n",
    "else:\n",
    "    print('your grade=F')"
   ]
  },
  {
   "cell_type": "code",
   "execution_count": 13,
   "id": "2970b659",
   "metadata": {},
   "outputs": [],
   "source": [
    "L=[1,2,3,4,5,6]"
   ]
  },
  {
   "cell_type": "code",
   "execution_count": 19,
   "id": "94096230",
   "metadata": {},
   "outputs": [
    {
     "name": "stdout",
     "output_type": "stream",
     "text": [
      "8000\n",
      "10000\n",
      "12000\n"
     ]
    }
   ],
   "source": [
    "for i in L:\n",
    "    if i>=4:\n",
    "        print(2000*i)"
   ]
  },
  {
   "cell_type": "code",
   "execution_count": 20,
   "id": "7a3bf611",
   "metadata": {},
   "outputs": [],
   "source": [
    "y=0\n",
    "for i in L:\n",
    "    y=y+i"
   ]
  },
  {
   "cell_type": "code",
   "execution_count": 21,
   "id": "fa2d9aa1",
   "metadata": {},
   "outputs": [
    {
     "data": {
      "text/plain": [
       "21"
      ]
     },
     "execution_count": 21,
     "metadata": {},
     "output_type": "execute_result"
    }
   ],
   "source": [
    "y"
   ]
  },
  {
   "cell_type": "code",
   "execution_count": null,
   "id": "82562911",
   "metadata": {},
   "outputs": [],
   "source": []
  }
 ],
 "metadata": {
  "kernelspec": {
   "display_name": "Python 3 (ipykernel)",
   "language": "python",
   "name": "python3"
  },
  "language_info": {
   "codemirror_mode": {
    "name": "ipython",
    "version": 3
   },
   "file_extension": ".py",
   "mimetype": "text/x-python",
   "name": "python",
   "nbconvert_exporter": "python",
   "pygments_lexer": "ipython3",
   "version": "3.9.13"
  }
 },
 "nbformat": 4,
 "nbformat_minor": 5
}
