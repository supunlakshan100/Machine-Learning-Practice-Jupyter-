{
  "cells": [
    {
      "cell_type": "code",
      "source": [
        "from google.colab import drive\n",
        "drive.mount('/content/drive')"
      ],
      "metadata": {
        "colab": {
          "base_uri": "https://localhost:8080/"
        },
        "id": "U_OUuhsouU5t",
        "outputId": "b73a9ad4-fc7b-440d-f6b8-da62d99d47c0"
      },
      "execution_count": 79,
      "outputs": [
        {
          "output_type": "stream",
          "name": "stdout",
          "text": [
            "Drive already mounted at /content/drive; to attempt to forcibly remount, call drive.mount(\"/content/drive\", force_remount=True).\n"
          ]
        }
      ]
    },
    {
      "cell_type": "code",
      "execution_count": 80,
      "metadata": {
        "id": "HbFKdtiYSrY1"
      },
      "outputs": [],
      "source": [
        "import pandas as pd\n",
        "import numpy as np\n",
        "import matplotlib.pyplot as plt\n",
        "from sklearn.model_selection import train_test_split\n",
        "from sklearn.linear_model import LinearRegression # LinearRegression is a class.\n",
        "from sklearn.metrics import mean_squared_error\n",
        "import statsmodels.api as sm\n",
        "from statsmodels.stats.outliers_influence import variance_inflation_factor\n",
        "import seaborn as sns\n",
        "import pylab as py"
      ]
    },
    {
      "cell_type": "code",
      "execution_count": 81,
      "metadata": {
        "colab": {
          "base_uri": "https://localhost:8080/",
          "height": 424
        },
        "id": "ccMCZhgMSrY3",
        "outputId": "ad859e02-d855-4516-f198-4c9ddb31470c"
      },
      "outputs": [
        {
          "output_type": "execute_result",
          "data": {
            "text/plain": [
              "        crim    zn  indus    nox     rm   age     dis  rad  tax  ptratio  \\\n",
              "0    0.00632  18.0   2.31  0.538  6.575  65.2  4.0900    1  296     15.3   \n",
              "1    0.02731   0.0   7.07  0.469  6.421  78.9  4.9671    2  242     17.8   \n",
              "2    0.02729   0.0   7.07  0.469  7.185  61.1  4.9671    2  242     17.8   \n",
              "3    0.03237   0.0   2.18  0.458  6.998  45.8  6.0622    3  222     18.7   \n",
              "4    0.06905   0.0   2.18  0.458  7.147  54.2  6.0622    3  222     18.7   \n",
              "..       ...   ...    ...    ...    ...   ...     ...  ...  ...      ...   \n",
              "501  0.06263   0.0  11.93  0.573  6.593  69.1  2.4786    1  273     21.0   \n",
              "502  0.04527   0.0  11.93  0.573  6.120  76.7  2.2875    1  273     21.0   \n",
              "503  0.06076   0.0  11.93  0.573  6.976  91.0  2.1675    1  273     21.0   \n",
              "504  0.10959   0.0  11.93  0.573  6.794  89.3  2.3889    1  273     21.0   \n",
              "505  0.04741   0.0  11.93  0.573  6.030  80.8  2.5050    1  273     21.0   \n",
              "\n",
              "      black  lstat  medv  \n",
              "0    396.90   4.98  24.0  \n",
              "1    396.90   9.14  21.6  \n",
              "2    392.83   4.03  34.7  \n",
              "3    394.63   2.94  33.4  \n",
              "4    396.90   5.33  36.2  \n",
              "..      ...    ...   ...  \n",
              "501  391.99   9.67  22.4  \n",
              "502  396.90   9.08  20.6  \n",
              "503  396.90   5.64  23.9  \n",
              "504  393.45   6.48  22.0  \n",
              "505  396.90   7.88  11.9  \n",
              "\n",
              "[506 rows x 13 columns]"
            ],
            "text/html": [
              "\n",
              "\n",
              "  <div id=\"df-a654c07c-5eeb-452a-8d9d-e993f7092101\">\n",
              "    <div class=\"colab-df-container\">\n",
              "      <div>\n",
              "<style scoped>\n",
              "    .dataframe tbody tr th:only-of-type {\n",
              "        vertical-align: middle;\n",
              "    }\n",
              "\n",
              "    .dataframe tbody tr th {\n",
              "        vertical-align: top;\n",
              "    }\n",
              "\n",
              "    .dataframe thead th {\n",
              "        text-align: right;\n",
              "    }\n",
              "</style>\n",
              "<table border=\"1\" class=\"dataframe\">\n",
              "  <thead>\n",
              "    <tr style=\"text-align: right;\">\n",
              "      <th></th>\n",
              "      <th>crim</th>\n",
              "      <th>zn</th>\n",
              "      <th>indus</th>\n",
              "      <th>nox</th>\n",
              "      <th>rm</th>\n",
              "      <th>age</th>\n",
              "      <th>dis</th>\n",
              "      <th>rad</th>\n",
              "      <th>tax</th>\n",
              "      <th>ptratio</th>\n",
              "      <th>black</th>\n",
              "      <th>lstat</th>\n",
              "      <th>medv</th>\n",
              "    </tr>\n",
              "  </thead>\n",
              "  <tbody>\n",
              "    <tr>\n",
              "      <th>0</th>\n",
              "      <td>0.00632</td>\n",
              "      <td>18.0</td>\n",
              "      <td>2.31</td>\n",
              "      <td>0.538</td>\n",
              "      <td>6.575</td>\n",
              "      <td>65.2</td>\n",
              "      <td>4.0900</td>\n",
              "      <td>1</td>\n",
              "      <td>296</td>\n",
              "      <td>15.3</td>\n",
              "      <td>396.90</td>\n",
              "      <td>4.98</td>\n",
              "      <td>24.0</td>\n",
              "    </tr>\n",
              "    <tr>\n",
              "      <th>1</th>\n",
              "      <td>0.02731</td>\n",
              "      <td>0.0</td>\n",
              "      <td>7.07</td>\n",
              "      <td>0.469</td>\n",
              "      <td>6.421</td>\n",
              "      <td>78.9</td>\n",
              "      <td>4.9671</td>\n",
              "      <td>2</td>\n",
              "      <td>242</td>\n",
              "      <td>17.8</td>\n",
              "      <td>396.90</td>\n",
              "      <td>9.14</td>\n",
              "      <td>21.6</td>\n",
              "    </tr>\n",
              "    <tr>\n",
              "      <th>2</th>\n",
              "      <td>0.02729</td>\n",
              "      <td>0.0</td>\n",
              "      <td>7.07</td>\n",
              "      <td>0.469</td>\n",
              "      <td>7.185</td>\n",
              "      <td>61.1</td>\n",
              "      <td>4.9671</td>\n",
              "      <td>2</td>\n",
              "      <td>242</td>\n",
              "      <td>17.8</td>\n",
              "      <td>392.83</td>\n",
              "      <td>4.03</td>\n",
              "      <td>34.7</td>\n",
              "    </tr>\n",
              "    <tr>\n",
              "      <th>3</th>\n",
              "      <td>0.03237</td>\n",
              "      <td>0.0</td>\n",
              "      <td>2.18</td>\n",
              "      <td>0.458</td>\n",
              "      <td>6.998</td>\n",
              "      <td>45.8</td>\n",
              "      <td>6.0622</td>\n",
              "      <td>3</td>\n",
              "      <td>222</td>\n",
              "      <td>18.7</td>\n",
              "      <td>394.63</td>\n",
              "      <td>2.94</td>\n",
              "      <td>33.4</td>\n",
              "    </tr>\n",
              "    <tr>\n",
              "      <th>4</th>\n",
              "      <td>0.06905</td>\n",
              "      <td>0.0</td>\n",
              "      <td>2.18</td>\n",
              "      <td>0.458</td>\n",
              "      <td>7.147</td>\n",
              "      <td>54.2</td>\n",
              "      <td>6.0622</td>\n",
              "      <td>3</td>\n",
              "      <td>222</td>\n",
              "      <td>18.7</td>\n",
              "      <td>396.90</td>\n",
              "      <td>5.33</td>\n",
              "      <td>36.2</td>\n",
              "    </tr>\n",
              "    <tr>\n",
              "      <th>...</th>\n",
              "      <td>...</td>\n",
              "      <td>...</td>\n",
              "      <td>...</td>\n",
              "      <td>...</td>\n",
              "      <td>...</td>\n",
              "      <td>...</td>\n",
              "      <td>...</td>\n",
              "      <td>...</td>\n",
              "      <td>...</td>\n",
              "      <td>...</td>\n",
              "      <td>...</td>\n",
              "      <td>...</td>\n",
              "      <td>...</td>\n",
              "    </tr>\n",
              "    <tr>\n",
              "      <th>501</th>\n",
              "      <td>0.06263</td>\n",
              "      <td>0.0</td>\n",
              "      <td>11.93</td>\n",
              "      <td>0.573</td>\n",
              "      <td>6.593</td>\n",
              "      <td>69.1</td>\n",
              "      <td>2.4786</td>\n",
              "      <td>1</td>\n",
              "      <td>273</td>\n",
              "      <td>21.0</td>\n",
              "      <td>391.99</td>\n",
              "      <td>9.67</td>\n",
              "      <td>22.4</td>\n",
              "    </tr>\n",
              "    <tr>\n",
              "      <th>502</th>\n",
              "      <td>0.04527</td>\n",
              "      <td>0.0</td>\n",
              "      <td>11.93</td>\n",
              "      <td>0.573</td>\n",
              "      <td>6.120</td>\n",
              "      <td>76.7</td>\n",
              "      <td>2.2875</td>\n",
              "      <td>1</td>\n",
              "      <td>273</td>\n",
              "      <td>21.0</td>\n",
              "      <td>396.90</td>\n",
              "      <td>9.08</td>\n",
              "      <td>20.6</td>\n",
              "    </tr>\n",
              "    <tr>\n",
              "      <th>503</th>\n",
              "      <td>0.06076</td>\n",
              "      <td>0.0</td>\n",
              "      <td>11.93</td>\n",
              "      <td>0.573</td>\n",
              "      <td>6.976</td>\n",
              "      <td>91.0</td>\n",
              "      <td>2.1675</td>\n",
              "      <td>1</td>\n",
              "      <td>273</td>\n",
              "      <td>21.0</td>\n",
              "      <td>396.90</td>\n",
              "      <td>5.64</td>\n",
              "      <td>23.9</td>\n",
              "    </tr>\n",
              "    <tr>\n",
              "      <th>504</th>\n",
              "      <td>0.10959</td>\n",
              "      <td>0.0</td>\n",
              "      <td>11.93</td>\n",
              "      <td>0.573</td>\n",
              "      <td>6.794</td>\n",
              "      <td>89.3</td>\n",
              "      <td>2.3889</td>\n",
              "      <td>1</td>\n",
              "      <td>273</td>\n",
              "      <td>21.0</td>\n",
              "      <td>393.45</td>\n",
              "      <td>6.48</td>\n",
              "      <td>22.0</td>\n",
              "    </tr>\n",
              "    <tr>\n",
              "      <th>505</th>\n",
              "      <td>0.04741</td>\n",
              "      <td>0.0</td>\n",
              "      <td>11.93</td>\n",
              "      <td>0.573</td>\n",
              "      <td>6.030</td>\n",
              "      <td>80.8</td>\n",
              "      <td>2.5050</td>\n",
              "      <td>1</td>\n",
              "      <td>273</td>\n",
              "      <td>21.0</td>\n",
              "      <td>396.90</td>\n",
              "      <td>7.88</td>\n",
              "      <td>11.9</td>\n",
              "    </tr>\n",
              "  </tbody>\n",
              "</table>\n",
              "<p>506 rows × 13 columns</p>\n",
              "</div>\n",
              "      <button class=\"colab-df-convert\" onclick=\"convertToInteractive('df-a654c07c-5eeb-452a-8d9d-e993f7092101')\"\n",
              "              title=\"Convert this dataframe to an interactive table.\"\n",
              "              style=\"display:none;\">\n",
              "\n",
              "  <svg xmlns=\"http://www.w3.org/2000/svg\" height=\"24px\"viewBox=\"0 0 24 24\"\n",
              "       width=\"24px\">\n",
              "    <path d=\"M0 0h24v24H0V0z\" fill=\"none\"/>\n",
              "    <path d=\"M18.56 5.44l.94 2.06.94-2.06 2.06-.94-2.06-.94-.94-2.06-.94 2.06-2.06.94zm-11 1L8.5 8.5l.94-2.06 2.06-.94-2.06-.94L8.5 2.5l-.94 2.06-2.06.94zm10 10l.94 2.06.94-2.06 2.06-.94-2.06-.94-.94-2.06-.94 2.06-2.06.94z\"/><path d=\"M17.41 7.96l-1.37-1.37c-.4-.4-.92-.59-1.43-.59-.52 0-1.04.2-1.43.59L10.3 9.45l-7.72 7.72c-.78.78-.78 2.05 0 2.83L4 21.41c.39.39.9.59 1.41.59.51 0 1.02-.2 1.41-.59l7.78-7.78 2.81-2.81c.8-.78.8-2.07 0-2.86zM5.41 20L4 18.59l7.72-7.72 1.47 1.35L5.41 20z\"/>\n",
              "  </svg>\n",
              "      </button>\n",
              "\n",
              "\n",
              "\n",
              "    <div id=\"df-5b9e5ab5-25b3-4bc7-9957-2eed113798bc\">\n",
              "      <button class=\"colab-df-quickchart\" onclick=\"quickchart('df-5b9e5ab5-25b3-4bc7-9957-2eed113798bc')\"\n",
              "              title=\"Suggest charts.\"\n",
              "              style=\"display:none;\">\n",
              "\n",
              "<svg xmlns=\"http://www.w3.org/2000/svg\" height=\"24px\"viewBox=\"0 0 24 24\"\n",
              "     width=\"24px\">\n",
              "    <g>\n",
              "        <path d=\"M19 3H5c-1.1 0-2 .9-2 2v14c0 1.1.9 2 2 2h14c1.1 0 2-.9 2-2V5c0-1.1-.9-2-2-2zM9 17H7v-7h2v7zm4 0h-2V7h2v10zm4 0h-2v-4h2v4z\"/>\n",
              "    </g>\n",
              "</svg>\n",
              "      </button>\n",
              "    </div>\n",
              "\n",
              "<style>\n",
              "  .colab-df-quickchart {\n",
              "    background-color: #E8F0FE;\n",
              "    border: none;\n",
              "    border-radius: 50%;\n",
              "    cursor: pointer;\n",
              "    display: none;\n",
              "    fill: #1967D2;\n",
              "    height: 32px;\n",
              "    padding: 0 0 0 0;\n",
              "    width: 32px;\n",
              "  }\n",
              "\n",
              "  .colab-df-quickchart:hover {\n",
              "    background-color: #E2EBFA;\n",
              "    box-shadow: 0px 1px 2px rgba(60, 64, 67, 0.3), 0px 1px 3px 1px rgba(60, 64, 67, 0.15);\n",
              "    fill: #174EA6;\n",
              "  }\n",
              "\n",
              "  [theme=dark] .colab-df-quickchart {\n",
              "    background-color: #3B4455;\n",
              "    fill: #D2E3FC;\n",
              "  }\n",
              "\n",
              "  [theme=dark] .colab-df-quickchart:hover {\n",
              "    background-color: #434B5C;\n",
              "    box-shadow: 0px 1px 3px 1px rgba(0, 0, 0, 0.15);\n",
              "    filter: drop-shadow(0px 1px 2px rgba(0, 0, 0, 0.3));\n",
              "    fill: #FFFFFF;\n",
              "  }\n",
              "</style>\n",
              "\n",
              "    <script>\n",
              "      async function quickchart(key) {\n",
              "        const containerElement = document.querySelector('#' + key);\n",
              "        const charts = await google.colab.kernel.invokeFunction(\n",
              "            'suggestCharts', [key], {});\n",
              "      }\n",
              "    </script>\n",
              "\n",
              "      <script>\n",
              "\n",
              "function displayQuickchartButton(domScope) {\n",
              "  let quickchartButtonEl =\n",
              "    domScope.querySelector('#df-5b9e5ab5-25b3-4bc7-9957-2eed113798bc button.colab-df-quickchart');\n",
              "  quickchartButtonEl.style.display =\n",
              "    google.colab.kernel.accessAllowed ? 'block' : 'none';\n",
              "}\n",
              "\n",
              "        displayQuickchartButton(document);\n",
              "      </script>\n",
              "      <style>\n",
              "    .colab-df-container {\n",
              "      display:flex;\n",
              "      flex-wrap:wrap;\n",
              "      gap: 12px;\n",
              "    }\n",
              "\n",
              "    .colab-df-convert {\n",
              "      background-color: #E8F0FE;\n",
              "      border: none;\n",
              "      border-radius: 50%;\n",
              "      cursor: pointer;\n",
              "      display: none;\n",
              "      fill: #1967D2;\n",
              "      height: 32px;\n",
              "      padding: 0 0 0 0;\n",
              "      width: 32px;\n",
              "    }\n",
              "\n",
              "    .colab-df-convert:hover {\n",
              "      background-color: #E2EBFA;\n",
              "      box-shadow: 0px 1px 2px rgba(60, 64, 67, 0.3), 0px 1px 3px 1px rgba(60, 64, 67, 0.15);\n",
              "      fill: #174EA6;\n",
              "    }\n",
              "\n",
              "    [theme=dark] .colab-df-convert {\n",
              "      background-color: #3B4455;\n",
              "      fill: #D2E3FC;\n",
              "    }\n",
              "\n",
              "    [theme=dark] .colab-df-convert:hover {\n",
              "      background-color: #434B5C;\n",
              "      box-shadow: 0px 1px 3px 1px rgba(0, 0, 0, 0.15);\n",
              "      filter: drop-shadow(0px 1px 2px rgba(0, 0, 0, 0.3));\n",
              "      fill: #FFFFFF;\n",
              "    }\n",
              "  </style>\n",
              "\n",
              "      <script>\n",
              "        const buttonEl =\n",
              "          document.querySelector('#df-a654c07c-5eeb-452a-8d9d-e993f7092101 button.colab-df-convert');\n",
              "        buttonEl.style.display =\n",
              "          google.colab.kernel.accessAllowed ? 'block' : 'none';\n",
              "\n",
              "        async function convertToInteractive(key) {\n",
              "          const element = document.querySelector('#df-a654c07c-5eeb-452a-8d9d-e993f7092101');\n",
              "          const dataTable =\n",
              "            await google.colab.kernel.invokeFunction('convertToInteractive',\n",
              "                                                     [key], {});\n",
              "          if (!dataTable) return;\n",
              "\n",
              "          const docLinkHtml = 'Like what you see? Visit the ' +\n",
              "            '<a target=\"_blank\" href=https://colab.research.google.com/notebooks/data_table.ipynb>data table notebook</a>'\n",
              "            + ' to learn more about interactive tables.';\n",
              "          element.innerHTML = '';\n",
              "          dataTable['output_type'] = 'display_data';\n",
              "          await google.colab.output.renderOutput(dataTable, element);\n",
              "          const docLink = document.createElement('div');\n",
              "          docLink.innerHTML = docLinkHtml;\n",
              "          element.appendChild(docLink);\n",
              "        }\n",
              "      </script>\n",
              "    </div>\n",
              "  </div>\n"
            ]
          },
          "metadata": {},
          "execution_count": 81
        }
      ],
      "source": [
        "file_path= \"/content/drive/MyDrive/Colab Notebooks/AI & Machine Learning/Machine Learning/ML Practice/12.New/Boston.csv\"\n",
        "data=pd.read_csv(file_path)\n",
        "data\n"
      ]
    },
    {
      "cell_type": "code",
      "execution_count": 82,
      "metadata": {
        "id": "59IX68JXSrY5",
        "colab": {
          "base_uri": "https://localhost:8080/",
          "height": 363
        },
        "outputId": "2c817f20-ac7c-481f-8abf-e62a083ecef9"
      },
      "outputs": [
        {
          "output_type": "execute_result",
          "data": {
            "text/plain": [
              "      crim    zn  indus    nox     rm    age     dis  rad  tax  ptratio  \\\n",
              "0  0.00632  18.0   2.31  0.538  6.575   65.2  4.0900    1  296     15.3   \n",
              "1  0.02731   0.0   7.07  0.469  6.421   78.9  4.9671    2  242     17.8   \n",
              "2  0.02729   0.0   7.07  0.469  7.185   61.1  4.9671    2  242     17.8   \n",
              "3  0.03237   0.0   2.18  0.458  6.998   45.8  6.0622    3  222     18.7   \n",
              "4  0.06905   0.0   2.18  0.458  7.147   54.2  6.0622    3  222     18.7   \n",
              "5  0.02985   0.0   2.18  0.458  6.430   58.7  6.0622    3  222     18.7   \n",
              "6  0.08829  12.5   7.87  0.524  6.012   66.6  5.5605    5  311     15.2   \n",
              "7  0.14455  12.5   7.87  0.524  6.172   96.1  5.9505    5  311     15.2   \n",
              "8  0.21124  12.5   7.87  0.524  5.631  100.0  6.0821    5  311     15.2   \n",
              "9  0.17004  12.5   7.87  0.524  6.004   85.9  6.5921    5  311     15.2   \n",
              "\n",
              "    black  lstat  medv  \n",
              "0  396.90   4.98  24.0  \n",
              "1  396.90   9.14  21.6  \n",
              "2  392.83   4.03  34.7  \n",
              "3  394.63   2.94  33.4  \n",
              "4  396.90   5.33  36.2  \n",
              "5  394.12   5.21  28.7  \n",
              "6  395.60  12.43  22.9  \n",
              "7  396.90  19.15  27.1  \n",
              "8  386.63  29.93  16.5  \n",
              "9  386.71  17.10  18.9  "
            ],
            "text/html": [
              "\n",
              "\n",
              "  <div id=\"df-ea2639bf-ed59-4db9-a7c6-6a14dad2adb1\">\n",
              "    <div class=\"colab-df-container\">\n",
              "      <div>\n",
              "<style scoped>\n",
              "    .dataframe tbody tr th:only-of-type {\n",
              "        vertical-align: middle;\n",
              "    }\n",
              "\n",
              "    .dataframe tbody tr th {\n",
              "        vertical-align: top;\n",
              "    }\n",
              "\n",
              "    .dataframe thead th {\n",
              "        text-align: right;\n",
              "    }\n",
              "</style>\n",
              "<table border=\"1\" class=\"dataframe\">\n",
              "  <thead>\n",
              "    <tr style=\"text-align: right;\">\n",
              "      <th></th>\n",
              "      <th>crim</th>\n",
              "      <th>zn</th>\n",
              "      <th>indus</th>\n",
              "      <th>nox</th>\n",
              "      <th>rm</th>\n",
              "      <th>age</th>\n",
              "      <th>dis</th>\n",
              "      <th>rad</th>\n",
              "      <th>tax</th>\n",
              "      <th>ptratio</th>\n",
              "      <th>black</th>\n",
              "      <th>lstat</th>\n",
              "      <th>medv</th>\n",
              "    </tr>\n",
              "  </thead>\n",
              "  <tbody>\n",
              "    <tr>\n",
              "      <th>0</th>\n",
              "      <td>0.00632</td>\n",
              "      <td>18.0</td>\n",
              "      <td>2.31</td>\n",
              "      <td>0.538</td>\n",
              "      <td>6.575</td>\n",
              "      <td>65.2</td>\n",
              "      <td>4.0900</td>\n",
              "      <td>1</td>\n",
              "      <td>296</td>\n",
              "      <td>15.3</td>\n",
              "      <td>396.90</td>\n",
              "      <td>4.98</td>\n",
              "      <td>24.0</td>\n",
              "    </tr>\n",
              "    <tr>\n",
              "      <th>1</th>\n",
              "      <td>0.02731</td>\n",
              "      <td>0.0</td>\n",
              "      <td>7.07</td>\n",
              "      <td>0.469</td>\n",
              "      <td>6.421</td>\n",
              "      <td>78.9</td>\n",
              "      <td>4.9671</td>\n",
              "      <td>2</td>\n",
              "      <td>242</td>\n",
              "      <td>17.8</td>\n",
              "      <td>396.90</td>\n",
              "      <td>9.14</td>\n",
              "      <td>21.6</td>\n",
              "    </tr>\n",
              "    <tr>\n",
              "      <th>2</th>\n",
              "      <td>0.02729</td>\n",
              "      <td>0.0</td>\n",
              "      <td>7.07</td>\n",
              "      <td>0.469</td>\n",
              "      <td>7.185</td>\n",
              "      <td>61.1</td>\n",
              "      <td>4.9671</td>\n",
              "      <td>2</td>\n",
              "      <td>242</td>\n",
              "      <td>17.8</td>\n",
              "      <td>392.83</td>\n",
              "      <td>4.03</td>\n",
              "      <td>34.7</td>\n",
              "    </tr>\n",
              "    <tr>\n",
              "      <th>3</th>\n",
              "      <td>0.03237</td>\n",
              "      <td>0.0</td>\n",
              "      <td>2.18</td>\n",
              "      <td>0.458</td>\n",
              "      <td>6.998</td>\n",
              "      <td>45.8</td>\n",
              "      <td>6.0622</td>\n",
              "      <td>3</td>\n",
              "      <td>222</td>\n",
              "      <td>18.7</td>\n",
              "      <td>394.63</td>\n",
              "      <td>2.94</td>\n",
              "      <td>33.4</td>\n",
              "    </tr>\n",
              "    <tr>\n",
              "      <th>4</th>\n",
              "      <td>0.06905</td>\n",
              "      <td>0.0</td>\n",
              "      <td>2.18</td>\n",
              "      <td>0.458</td>\n",
              "      <td>7.147</td>\n",
              "      <td>54.2</td>\n",
              "      <td>6.0622</td>\n",
              "      <td>3</td>\n",
              "      <td>222</td>\n",
              "      <td>18.7</td>\n",
              "      <td>396.90</td>\n",
              "      <td>5.33</td>\n",
              "      <td>36.2</td>\n",
              "    </tr>\n",
              "    <tr>\n",
              "      <th>5</th>\n",
              "      <td>0.02985</td>\n",
              "      <td>0.0</td>\n",
              "      <td>2.18</td>\n",
              "      <td>0.458</td>\n",
              "      <td>6.430</td>\n",
              "      <td>58.7</td>\n",
              "      <td>6.0622</td>\n",
              "      <td>3</td>\n",
              "      <td>222</td>\n",
              "      <td>18.7</td>\n",
              "      <td>394.12</td>\n",
              "      <td>5.21</td>\n",
              "      <td>28.7</td>\n",
              "    </tr>\n",
              "    <tr>\n",
              "      <th>6</th>\n",
              "      <td>0.08829</td>\n",
              "      <td>12.5</td>\n",
              "      <td>7.87</td>\n",
              "      <td>0.524</td>\n",
              "      <td>6.012</td>\n",
              "      <td>66.6</td>\n",
              "      <td>5.5605</td>\n",
              "      <td>5</td>\n",
              "      <td>311</td>\n",
              "      <td>15.2</td>\n",
              "      <td>395.60</td>\n",
              "      <td>12.43</td>\n",
              "      <td>22.9</td>\n",
              "    </tr>\n",
              "    <tr>\n",
              "      <th>7</th>\n",
              "      <td>0.14455</td>\n",
              "      <td>12.5</td>\n",
              "      <td>7.87</td>\n",
              "      <td>0.524</td>\n",
              "      <td>6.172</td>\n",
              "      <td>96.1</td>\n",
              "      <td>5.9505</td>\n",
              "      <td>5</td>\n",
              "      <td>311</td>\n",
              "      <td>15.2</td>\n",
              "      <td>396.90</td>\n",
              "      <td>19.15</td>\n",
              "      <td>27.1</td>\n",
              "    </tr>\n",
              "    <tr>\n",
              "      <th>8</th>\n",
              "      <td>0.21124</td>\n",
              "      <td>12.5</td>\n",
              "      <td>7.87</td>\n",
              "      <td>0.524</td>\n",
              "      <td>5.631</td>\n",
              "      <td>100.0</td>\n",
              "      <td>6.0821</td>\n",
              "      <td>5</td>\n",
              "      <td>311</td>\n",
              "      <td>15.2</td>\n",
              "      <td>386.63</td>\n",
              "      <td>29.93</td>\n",
              "      <td>16.5</td>\n",
              "    </tr>\n",
              "    <tr>\n",
              "      <th>9</th>\n",
              "      <td>0.17004</td>\n",
              "      <td>12.5</td>\n",
              "      <td>7.87</td>\n",
              "      <td>0.524</td>\n",
              "      <td>6.004</td>\n",
              "      <td>85.9</td>\n",
              "      <td>6.5921</td>\n",
              "      <td>5</td>\n",
              "      <td>311</td>\n",
              "      <td>15.2</td>\n",
              "      <td>386.71</td>\n",
              "      <td>17.10</td>\n",
              "      <td>18.9</td>\n",
              "    </tr>\n",
              "  </tbody>\n",
              "</table>\n",
              "</div>\n",
              "      <button class=\"colab-df-convert\" onclick=\"convertToInteractive('df-ea2639bf-ed59-4db9-a7c6-6a14dad2adb1')\"\n",
              "              title=\"Convert this dataframe to an interactive table.\"\n",
              "              style=\"display:none;\">\n",
              "\n",
              "  <svg xmlns=\"http://www.w3.org/2000/svg\" height=\"24px\"viewBox=\"0 0 24 24\"\n",
              "       width=\"24px\">\n",
              "    <path d=\"M0 0h24v24H0V0z\" fill=\"none\"/>\n",
              "    <path d=\"M18.56 5.44l.94 2.06.94-2.06 2.06-.94-2.06-.94-.94-2.06-.94 2.06-2.06.94zm-11 1L8.5 8.5l.94-2.06 2.06-.94-2.06-.94L8.5 2.5l-.94 2.06-2.06.94zm10 10l.94 2.06.94-2.06 2.06-.94-2.06-.94-.94-2.06-.94 2.06-2.06.94z\"/><path d=\"M17.41 7.96l-1.37-1.37c-.4-.4-.92-.59-1.43-.59-.52 0-1.04.2-1.43.59L10.3 9.45l-7.72 7.72c-.78.78-.78 2.05 0 2.83L4 21.41c.39.39.9.59 1.41.59.51 0 1.02-.2 1.41-.59l7.78-7.78 2.81-2.81c.8-.78.8-2.07 0-2.86zM5.41 20L4 18.59l7.72-7.72 1.47 1.35L5.41 20z\"/>\n",
              "  </svg>\n",
              "      </button>\n",
              "\n",
              "\n",
              "\n",
              "    <div id=\"df-0e52b410-d481-48af-a6b6-bc4545325679\">\n",
              "      <button class=\"colab-df-quickchart\" onclick=\"quickchart('df-0e52b410-d481-48af-a6b6-bc4545325679')\"\n",
              "              title=\"Suggest charts.\"\n",
              "              style=\"display:none;\">\n",
              "\n",
              "<svg xmlns=\"http://www.w3.org/2000/svg\" height=\"24px\"viewBox=\"0 0 24 24\"\n",
              "     width=\"24px\">\n",
              "    <g>\n",
              "        <path d=\"M19 3H5c-1.1 0-2 .9-2 2v14c0 1.1.9 2 2 2h14c1.1 0 2-.9 2-2V5c0-1.1-.9-2-2-2zM9 17H7v-7h2v7zm4 0h-2V7h2v10zm4 0h-2v-4h2v4z\"/>\n",
              "    </g>\n",
              "</svg>\n",
              "      </button>\n",
              "    </div>\n",
              "\n",
              "<style>\n",
              "  .colab-df-quickchart {\n",
              "    background-color: #E8F0FE;\n",
              "    border: none;\n",
              "    border-radius: 50%;\n",
              "    cursor: pointer;\n",
              "    display: none;\n",
              "    fill: #1967D2;\n",
              "    height: 32px;\n",
              "    padding: 0 0 0 0;\n",
              "    width: 32px;\n",
              "  }\n",
              "\n",
              "  .colab-df-quickchart:hover {\n",
              "    background-color: #E2EBFA;\n",
              "    box-shadow: 0px 1px 2px rgba(60, 64, 67, 0.3), 0px 1px 3px 1px rgba(60, 64, 67, 0.15);\n",
              "    fill: #174EA6;\n",
              "  }\n",
              "\n",
              "  [theme=dark] .colab-df-quickchart {\n",
              "    background-color: #3B4455;\n",
              "    fill: #D2E3FC;\n",
              "  }\n",
              "\n",
              "  [theme=dark] .colab-df-quickchart:hover {\n",
              "    background-color: #434B5C;\n",
              "    box-shadow: 0px 1px 3px 1px rgba(0, 0, 0, 0.15);\n",
              "    filter: drop-shadow(0px 1px 2px rgba(0, 0, 0, 0.3));\n",
              "    fill: #FFFFFF;\n",
              "  }\n",
              "</style>\n",
              "\n",
              "    <script>\n",
              "      async function quickchart(key) {\n",
              "        const containerElement = document.querySelector('#' + key);\n",
              "        const charts = await google.colab.kernel.invokeFunction(\n",
              "            'suggestCharts', [key], {});\n",
              "      }\n",
              "    </script>\n",
              "\n",
              "      <script>\n",
              "\n",
              "function displayQuickchartButton(domScope) {\n",
              "  let quickchartButtonEl =\n",
              "    domScope.querySelector('#df-0e52b410-d481-48af-a6b6-bc4545325679 button.colab-df-quickchart');\n",
              "  quickchartButtonEl.style.display =\n",
              "    google.colab.kernel.accessAllowed ? 'block' : 'none';\n",
              "}\n",
              "\n",
              "        displayQuickchartButton(document);\n",
              "      </script>\n",
              "      <style>\n",
              "    .colab-df-container {\n",
              "      display:flex;\n",
              "      flex-wrap:wrap;\n",
              "      gap: 12px;\n",
              "    }\n",
              "\n",
              "    .colab-df-convert {\n",
              "      background-color: #E8F0FE;\n",
              "      border: none;\n",
              "      border-radius: 50%;\n",
              "      cursor: pointer;\n",
              "      display: none;\n",
              "      fill: #1967D2;\n",
              "      height: 32px;\n",
              "      padding: 0 0 0 0;\n",
              "      width: 32px;\n",
              "    }\n",
              "\n",
              "    .colab-df-convert:hover {\n",
              "      background-color: #E2EBFA;\n",
              "      box-shadow: 0px 1px 2px rgba(60, 64, 67, 0.3), 0px 1px 3px 1px rgba(60, 64, 67, 0.15);\n",
              "      fill: #174EA6;\n",
              "    }\n",
              "\n",
              "    [theme=dark] .colab-df-convert {\n",
              "      background-color: #3B4455;\n",
              "      fill: #D2E3FC;\n",
              "    }\n",
              "\n",
              "    [theme=dark] .colab-df-convert:hover {\n",
              "      background-color: #434B5C;\n",
              "      box-shadow: 0px 1px 3px 1px rgba(0, 0, 0, 0.15);\n",
              "      filter: drop-shadow(0px 1px 2px rgba(0, 0, 0, 0.3));\n",
              "      fill: #FFFFFF;\n",
              "    }\n",
              "  </style>\n",
              "\n",
              "      <script>\n",
              "        const buttonEl =\n",
              "          document.querySelector('#df-ea2639bf-ed59-4db9-a7c6-6a14dad2adb1 button.colab-df-convert');\n",
              "        buttonEl.style.display =\n",
              "          google.colab.kernel.accessAllowed ? 'block' : 'none';\n",
              "\n",
              "        async function convertToInteractive(key) {\n",
              "          const element = document.querySelector('#df-ea2639bf-ed59-4db9-a7c6-6a14dad2adb1');\n",
              "          const dataTable =\n",
              "            await google.colab.kernel.invokeFunction('convertToInteractive',\n",
              "                                                     [key], {});\n",
              "          if (!dataTable) return;\n",
              "\n",
              "          const docLinkHtml = 'Like what you see? Visit the ' +\n",
              "            '<a target=\"_blank\" href=https://colab.research.google.com/notebooks/data_table.ipynb>data table notebook</a>'\n",
              "            + ' to learn more about interactive tables.';\n",
              "          element.innerHTML = '';\n",
              "          dataTable['output_type'] = 'display_data';\n",
              "          await google.colab.output.renderOutput(dataTable, element);\n",
              "          const docLink = document.createElement('div');\n",
              "          docLink.innerHTML = docLinkHtml;\n",
              "          element.appendChild(docLink);\n",
              "        }\n",
              "      </script>\n",
              "    </div>\n",
              "  </div>\n"
            ]
          },
          "metadata": {},
          "execution_count": 82
        }
      ],
      "source": [
        "data.head(10)"
      ]
    },
    {
      "cell_type": "code",
      "execution_count": 83,
      "metadata": {
        "id": "I05gqXUESrY5",
        "colab": {
          "base_uri": "https://localhost:8080/",
          "height": 70
        },
        "outputId": "be9cfe9d-4f7e-415f-f9c2-ea1472a2d6ca"
      },
      "outputs": [
        {
          "output_type": "execute_result",
          "data": {
            "text/plain": [
              "'x = data.iloc[:,:12].values: This line extracts the values from the DataFrame object data for all rows and the first 12 columns.\\nThe .iloc attribute is used to access the DataFrame by integer-based indexing.\\n The [:,:12] indexing syntax specifies all rows (indicated by :) and the first 12 columns (indicated by :12).\\n The .values attribute returns the extracted values as a NumPy array and assigns it to the variable x.'"
            ],
            "application/vnd.google.colaboratory.intrinsic+json": {
              "type": "string"
            }
          },
          "metadata": {},
          "execution_count": 83
        }
      ],
      "source": [
        "x=data.iloc[:,:12].values\n",
        "y=data.iloc[:,12].values\n",
        "\n",
        "\"\"\"x = data.iloc[:,:12].values: This line extracts the values from the DataFrame object data for all rows and the first 12 columns.\n",
        "The .iloc attribute is used to access the DataFrame by integer-based indexing.\n",
        " The [:,:12] indexing syntax specifies all rows (indicated by :) and the first 12 columns (indicated by :12).\n",
        " The .values attribute returns the extracted values as a NumPy array and assigns it to the variable x.\"\"\""
      ]
    },
    {
      "cell_type": "code",
      "execution_count": 84,
      "metadata": {
        "id": "GvEj41wjSrY6",
        "colab": {
          "base_uri": "https://localhost:8080/"
        },
        "outputId": "c96ef0b6-abfb-4d87-e279-87e9a5d87ee0"
      },
      "outputs": [
        {
          "output_type": "execute_result",
          "data": {
            "text/plain": [
              "array([[6.3200e-03, 1.8000e+01, 2.3100e+00, ..., 1.5300e+01, 3.9690e+02,\n",
              "        4.9800e+00],\n",
              "       [2.7310e-02, 0.0000e+00, 7.0700e+00, ..., 1.7800e+01, 3.9690e+02,\n",
              "        9.1400e+00],\n",
              "       [2.7290e-02, 0.0000e+00, 7.0700e+00, ..., 1.7800e+01, 3.9283e+02,\n",
              "        4.0300e+00],\n",
              "       ...,\n",
              "       [6.0760e-02, 0.0000e+00, 1.1930e+01, ..., 2.1000e+01, 3.9690e+02,\n",
              "        5.6400e+00],\n",
              "       [1.0959e-01, 0.0000e+00, 1.1930e+01, ..., 2.1000e+01, 3.9345e+02,\n",
              "        6.4800e+00],\n",
              "       [4.7410e-02, 0.0000e+00, 1.1930e+01, ..., 2.1000e+01, 3.9690e+02,\n",
              "        7.8800e+00]])"
            ]
          },
          "metadata": {},
          "execution_count": 84
        }
      ],
      "source": [
        "x # x must have been 2 dimentian for training."
      ]
    },
    {
      "cell_type": "code",
      "execution_count": 85,
      "metadata": {
        "id": "KRhM36iFSrY6",
        "colab": {
          "base_uri": "https://localhost:8080/"
        },
        "outputId": "0ed6131f-ce57-4948-b9ce-949039701e88"
      },
      "outputs": [
        {
          "output_type": "execute_result",
          "data": {
            "text/plain": [
              "array([24. , 21.6, 34.7, 33.4, 36.2, 28.7, 22.9, 27.1, 16.5, 18.9, 15. ,\n",
              "       18.9, 21.7, 20.4, 18.2, 19.9, 23.1, 17.5, 20.2, 18.2, 13.6, 19.6,\n",
              "       15.2, 14.5, 15.6, 13.9, 16.6, 14.8, 18.4, 21. , 12.7, 14.5, 13.2,\n",
              "       13.1, 13.5, 18.9, 20. , 21. , 24.7, 30.8, 34.9, 26.6, 25.3, 24.7,\n",
              "       21.2, 19.3, 20. , 16.6, 14.4, 19.4, 19.7, 20.5, 25. , 23.4, 18.9,\n",
              "       35.4, 24.7, 31.6, 23.3, 19.6, 18.7, 16. , 22.2, 25. , 33. , 23.5,\n",
              "       19.4, 22. , 17.4, 20.9, 24.2, 21.7, 22.8, 23.4, 24.1, 21.4, 20. ,\n",
              "       20.8, 21.2, 20.3, 28. , 23.9, 24.8, 22.9, 23.9, 26.6, 22.5, 22.2,\n",
              "       23.6, 28.7, 22.6, 22. , 22.9, 25. , 20.6, 28.4, 21.4, 38.7, 43.8,\n",
              "       33.2, 27.5, 26.5, 18.6, 19.3, 20.1, 19.5, 19.5, 20.4, 19.8, 19.4,\n",
              "       21.7, 22.8, 18.8, 18.7, 18.5, 18.3, 21.2, 19.2, 20.4, 19.3, 22. ,\n",
              "       20.3, 20.5, 17.3, 18.8, 21.4, 15.7, 16.2, 18. , 14.3, 19.2, 19.6,\n",
              "       23. , 18.4, 15.6, 18.1, 17.4, 17.1, 13.3, 17.8, 14. , 14.4, 13.4,\n",
              "       15.6, 11.8, 13.8, 15.6, 14.6, 17.8, 15.4, 21.5, 19.6, 15.3, 19.4,\n",
              "       17. , 15.6, 13.1, 41.3, 24.3, 23.3, 27. , 50. , 50. , 50. , 22.7,\n",
              "       25. , 50. , 23.8, 23.8, 22.3, 17.4, 19.1, 23.1, 23.6, 22.6, 29.4,\n",
              "       23.2, 24.6, 29.9, 37.2, 39.8, 36.2, 37.9, 32.5, 26.4, 29.6, 50. ,\n",
              "       32. , 29.8, 34.9, 37. , 30.5, 36.4, 31.1, 29.1, 50. , 33.3, 30.3,\n",
              "       34.6, 34.9, 32.9, 24.1, 42.3, 48.5, 50. , 22.6, 24.4, 22.5, 24.4,\n",
              "       20. , 21.7, 19.3, 22.4, 28.1, 23.7, 25. , 23.3, 28.7, 21.5, 23. ,\n",
              "       26.7, 21.7, 27.5, 30.1, 44.8, 50. , 37.6, 31.6, 46.7, 31.5, 24.3,\n",
              "       31.7, 41.7, 48.3, 29. , 24. , 25.1, 31.5, 23.7, 23.3, 22. , 20.1,\n",
              "       22.2, 23.7, 17.6, 18.5, 24.3, 20.5, 24.5, 26.2, 24.4, 24.8, 29.6,\n",
              "       42.8, 21.9, 20.9, 44. , 50. , 36. , 30.1, 33.8, 43.1, 48.8, 31. ,\n",
              "       36.5, 22.8, 30.7, 50. , 43.5, 20.7, 21.1, 25.2, 24.4, 35.2, 32.4,\n",
              "       32. , 33.2, 33.1, 29.1, 35.1, 45.4, 35.4, 46. , 50. , 32.2, 22. ,\n",
              "       20.1, 23.2, 22.3, 24.8, 28.5, 37.3, 27.9, 23.9, 21.7, 28.6, 27.1,\n",
              "       20.3, 22.5, 29. , 24.8, 22. , 26.4, 33.1, 36.1, 28.4, 33.4, 28.2,\n",
              "       22.8, 20.3, 16.1, 22.1, 19.4, 21.6, 23.8, 16.2, 17.8, 19.8, 23.1,\n",
              "       21. , 23.8, 23.1, 20.4, 18.5, 25. , 24.6, 23. , 22.2, 19.3, 22.6,\n",
              "       19.8, 17.1, 19.4, 22.2, 20.7, 21.1, 19.5, 18.5, 20.6, 19. , 18.7,\n",
              "       32.7, 16.5, 23.9, 31.2, 17.5, 17.2, 23.1, 24.5, 26.6, 22.9, 24.1,\n",
              "       18.6, 30.1, 18.2, 20.6, 17.8, 21.7, 22.7, 22.6, 25. , 19.9, 20.8,\n",
              "       16.8, 21.9, 27.5, 21.9, 23.1, 50. , 50. , 50. , 50. , 50. , 13.8,\n",
              "       13.8, 15. , 13.9, 13.3, 13.1, 10.2, 10.4, 10.9, 11.3, 12.3,  8.8,\n",
              "        7.2, 10.5,  7.4, 10.2, 11.5, 15.1, 23.2,  9.7, 13.8, 12.7, 13.1,\n",
              "       12.5,  8.5,  5. ,  6.3,  5.6,  7.2, 12.1,  8.3,  8.5,  5. , 11.9,\n",
              "       27.9, 17.2, 27.5, 15. , 17.2, 17.9, 16.3,  7. ,  7.2,  7.5, 10.4,\n",
              "        8.8,  8.4, 16.7, 14.2, 20.8, 13.4, 11.7,  8.3, 10.2, 10.9, 11. ,\n",
              "        9.5, 14.5, 14.1, 16.1, 14.3, 11.7, 13.4,  9.6,  8.7,  8.4, 12.8,\n",
              "       10.5, 17.1, 18.4, 15.4, 10.8, 11.8, 14.9, 12.6, 14.1, 13. , 13.4,\n",
              "       15.2, 16.1, 17.8, 14.9, 14.1, 12.7, 13.5, 14.9, 20. , 16.4, 17.7,\n",
              "       19.5, 20.2, 21.4, 19.9, 19. , 19.1, 19.1, 20.1, 19.9, 19.6, 23.2,\n",
              "       29.8, 13.8, 13.3, 16.7, 12. , 14.6, 21.4, 23. , 23.7, 25. , 21.8,\n",
              "       20.6, 21.2, 19.1, 20.6, 15.2,  7. ,  8.1, 13.6, 20.1, 21.8, 24.5,\n",
              "       23.1, 19.7, 18.3, 21.2, 17.5, 16.8, 22.4, 20.6, 23.9, 22. , 11.9])"
            ]
          },
          "metadata": {},
          "execution_count": 85
        }
      ],
      "source": [
        "y"
      ]
    },
    {
      "cell_type": "code",
      "execution_count": 86,
      "metadata": {
        "id": "VCYm5f_ZSrY6"
      },
      "outputs": [],
      "source": [
        "x_train,x_test,y_train,y_test=train_test_split(x,y,test_size=0.2,random_state=1)"
      ]
    },
    {
      "cell_type": "code",
      "execution_count": 87,
      "metadata": {
        "id": "vN5qKlyISrY7",
        "colab": {
          "base_uri": "https://localhost:8080/"
        },
        "outputId": "a55e396c-19fa-4ccb-c2e7-4c638378ca73"
      },
      "outputs": [
        {
          "output_type": "execute_result",
          "data": {
            "text/plain": [
              "(506, 12)"
            ]
          },
          "metadata": {},
          "execution_count": 87
        }
      ],
      "source": [
        "x.shape"
      ]
    },
    {
      "cell_type": "code",
      "execution_count": 88,
      "metadata": {
        "id": "Yk8lMWtnSrY7",
        "colab": {
          "base_uri": "https://localhost:8080/"
        },
        "outputId": "9b22aa61-6bac-42b3-c3ef-3209b22612a1"
      },
      "outputs": [
        {
          "output_type": "execute_result",
          "data": {
            "text/plain": [
              "(506,)"
            ]
          },
          "metadata": {},
          "execution_count": 88
        }
      ],
      "source": [
        "y.shape"
      ]
    },
    {
      "cell_type": "code",
      "execution_count": 89,
      "metadata": {
        "id": "jhszHGewSrY7",
        "colab": {
          "base_uri": "https://localhost:8080/"
        },
        "outputId": "7b6b55ea-9e7b-4a76-f5b6-3ef859658b97"
      },
      "outputs": [
        {
          "output_type": "execute_result",
          "data": {
            "text/plain": [
              "(404, 12)"
            ]
          },
          "metadata": {},
          "execution_count": 89
        }
      ],
      "source": [
        "x_train.shape"
      ]
    },
    {
      "cell_type": "code",
      "execution_count": 90,
      "metadata": {
        "id": "yLoHfmboSrY8",
        "colab": {
          "base_uri": "https://localhost:8080/"
        },
        "outputId": "c619564a-605c-40ad-c4f6-a3628aaf333b"
      },
      "outputs": [
        {
          "output_type": "execute_result",
          "data": {
            "text/plain": [
              "(404,)"
            ]
          },
          "metadata": {},
          "execution_count": 90
        }
      ],
      "source": [
        "y_train.shape"
      ]
    },
    {
      "cell_type": "code",
      "execution_count": 91,
      "metadata": {
        "id": "ufSWyA3CSrY8",
        "colab": {
          "base_uri": "https://localhost:8080/"
        },
        "outputId": "f5a0461d-7e11-4c18-de57-ef2b504c6e55"
      },
      "outputs": [
        {
          "output_type": "execute_result",
          "data": {
            "text/plain": [
              "(102, 12)"
            ]
          },
          "metadata": {},
          "execution_count": 91
        }
      ],
      "source": [
        "x_test.shape"
      ]
    },
    {
      "cell_type": "code",
      "execution_count": 92,
      "metadata": {
        "id": "HKkh14DlSrY8",
        "colab": {
          "base_uri": "https://localhost:8080/"
        },
        "outputId": "e930974c-28f0-4301-ff64-a3603e709cbf"
      },
      "outputs": [
        {
          "output_type": "execute_result",
          "data": {
            "text/plain": [
              "(102,)"
            ]
          },
          "metadata": {},
          "execution_count": 92
        }
      ],
      "source": [
        "y_test.shape"
      ]
    },
    {
      "cell_type": "code",
      "execution_count": 93,
      "metadata": {
        "id": "c767jw-MSrY9"
      },
      "outputs": [],
      "source": [
        "model=LinearRegression() #create a object, \"model\" is a variable"
      ]
    },
    {
      "cell_type": "code",
      "execution_count": 94,
      "metadata": {
        "id": "cDaZzC9-SrY9",
        "colab": {
          "base_uri": "https://localhost:8080/",
          "height": 75
        },
        "outputId": "11837f49-b228-472a-af4a-ed47c00d209d"
      },
      "outputs": [
        {
          "output_type": "execute_result",
          "data": {
            "text/plain": [
              "LinearRegression()"
            ],
            "text/html": [
              "<style>#sk-container-id-3 {color: black;background-color: white;}#sk-container-id-3 pre{padding: 0;}#sk-container-id-3 div.sk-toggleable {background-color: white;}#sk-container-id-3 label.sk-toggleable__label {cursor: pointer;display: block;width: 100%;margin-bottom: 0;padding: 0.3em;box-sizing: border-box;text-align: center;}#sk-container-id-3 label.sk-toggleable__label-arrow:before {content: \"▸\";float: left;margin-right: 0.25em;color: #696969;}#sk-container-id-3 label.sk-toggleable__label-arrow:hover:before {color: black;}#sk-container-id-3 div.sk-estimator:hover label.sk-toggleable__label-arrow:before {color: black;}#sk-container-id-3 div.sk-toggleable__content {max-height: 0;max-width: 0;overflow: hidden;text-align: left;background-color: #f0f8ff;}#sk-container-id-3 div.sk-toggleable__content pre {margin: 0.2em;color: black;border-radius: 0.25em;background-color: #f0f8ff;}#sk-container-id-3 input.sk-toggleable__control:checked~div.sk-toggleable__content {max-height: 200px;max-width: 100%;overflow: auto;}#sk-container-id-3 input.sk-toggleable__control:checked~label.sk-toggleable__label-arrow:before {content: \"▾\";}#sk-container-id-3 div.sk-estimator input.sk-toggleable__control:checked~label.sk-toggleable__label {background-color: #d4ebff;}#sk-container-id-3 div.sk-label input.sk-toggleable__control:checked~label.sk-toggleable__label {background-color: #d4ebff;}#sk-container-id-3 input.sk-hidden--visually {border: 0;clip: rect(1px 1px 1px 1px);clip: rect(1px, 1px, 1px, 1px);height: 1px;margin: -1px;overflow: hidden;padding: 0;position: absolute;width: 1px;}#sk-container-id-3 div.sk-estimator {font-family: monospace;background-color: #f0f8ff;border: 1px dotted black;border-radius: 0.25em;box-sizing: border-box;margin-bottom: 0.5em;}#sk-container-id-3 div.sk-estimator:hover {background-color: #d4ebff;}#sk-container-id-3 div.sk-parallel-item::after {content: \"\";width: 100%;border-bottom: 1px solid gray;flex-grow: 1;}#sk-container-id-3 div.sk-label:hover label.sk-toggleable__label {background-color: #d4ebff;}#sk-container-id-3 div.sk-serial::before {content: \"\";position: absolute;border-left: 1px solid gray;box-sizing: border-box;top: 0;bottom: 0;left: 50%;z-index: 0;}#sk-container-id-3 div.sk-serial {display: flex;flex-direction: column;align-items: center;background-color: white;padding-right: 0.2em;padding-left: 0.2em;position: relative;}#sk-container-id-3 div.sk-item {position: relative;z-index: 1;}#sk-container-id-3 div.sk-parallel {display: flex;align-items: stretch;justify-content: center;background-color: white;position: relative;}#sk-container-id-3 div.sk-item::before, #sk-container-id-3 div.sk-parallel-item::before {content: \"\";position: absolute;border-left: 1px solid gray;box-sizing: border-box;top: 0;bottom: 0;left: 50%;z-index: -1;}#sk-container-id-3 div.sk-parallel-item {display: flex;flex-direction: column;z-index: 1;position: relative;background-color: white;}#sk-container-id-3 div.sk-parallel-item:first-child::after {align-self: flex-end;width: 50%;}#sk-container-id-3 div.sk-parallel-item:last-child::after {align-self: flex-start;width: 50%;}#sk-container-id-3 div.sk-parallel-item:only-child::after {width: 0;}#sk-container-id-3 div.sk-dashed-wrapped {border: 1px dashed gray;margin: 0 0.4em 0.5em 0.4em;box-sizing: border-box;padding-bottom: 0.4em;background-color: white;}#sk-container-id-3 div.sk-label label {font-family: monospace;font-weight: bold;display: inline-block;line-height: 1.2em;}#sk-container-id-3 div.sk-label-container {text-align: center;}#sk-container-id-3 div.sk-container {/* jupyter's `normalize.less` sets `[hidden] { display: none; }` but bootstrap.min.css set `[hidden] { display: none !important; }` so we also need the `!important` here to be able to override the default hidden behavior on the sphinx rendered scikit-learn.org. See: https://github.com/scikit-learn/scikit-learn/issues/21755 */display: inline-block !important;position: relative;}#sk-container-id-3 div.sk-text-repr-fallback {display: none;}</style><div id=\"sk-container-id-3\" class=\"sk-top-container\"><div class=\"sk-text-repr-fallback\"><pre>LinearRegression()</pre><b>In a Jupyter environment, please rerun this cell to show the HTML representation or trust the notebook. <br />On GitHub, the HTML representation is unable to render, please try loading this page with nbviewer.org.</b></div><div class=\"sk-container\" hidden><div class=\"sk-item\"><div class=\"sk-estimator sk-toggleable\"><input class=\"sk-toggleable__control sk-hidden--visually\" id=\"sk-estimator-id-3\" type=\"checkbox\" checked><label for=\"sk-estimator-id-3\" class=\"sk-toggleable__label sk-toggleable__label-arrow\">LinearRegression</label><div class=\"sk-toggleable__content\"><pre>LinearRegression()</pre></div></div></div></div></div>"
            ]
          },
          "metadata": {},
          "execution_count": 94
        }
      ],
      "source": [
        "model.fit(x_train,y_train) # \"fit\" is a function, model created"
      ]
    },
    {
      "cell_type": "code",
      "execution_count": 95,
      "metadata": {
        "id": "uKOomtMuSrY9",
        "colab": {
          "base_uri": "https://localhost:8080/"
        },
        "outputId": "7ad50751-a134-4e4d-c7ad-a44b3f263866"
      },
      "outputs": [
        {
          "output_type": "execute_result",
          "data": {
            "text/plain": [
              "43.05414355323629"
            ]
          },
          "metadata": {},
          "execution_count": 95
        }
      ],
      "source": [
        "model.intercept_ # beta note"
      ]
    },
    {
      "cell_type": "markdown",
      "source": [
        "# **model.intercept_**\n",
        "\n",
        "In regression analysis, the term \"model.intercept_\" refers to the intercept or bias term of the regression model.\n",
        "\n",
        "In a linear regression model, the relationship between the dependent variable (the variable you are trying to predict) and the independent variables (the variables used to predict the dependent variable) is defined by a linear equation of the form:\n",
        "\n",
        "y = b0 + b1x1 + b2x2 + ... + bn*xn\n",
        "\n",
        "Here, \"y\" represents the dependent variable, \"b0\" represents the intercept, \"x1\" to \"xn\" represent the independent variables, and \"b1\" to \"bn\" represent the coefficients or slopes associated with each independent variable.\n",
        "\n",
        "The intercept, denoted as \"b0\" or often referred to as the bias term, represents the value of the dependent variable when all the independent variables are set to zero. It determines the starting point or the y-intercept of the regression line.\n",
        "\n",
        "In machine learning libraries or frameworks like scikit-learn, \"model.intercept_\" is a property of a trained regression model that provides the estimated value of the intercept term based on the data it was trained on. It allows you to access and examine the intercept value of the model after it has been trained."
      ],
      "metadata": {
        "id": "p2QQQKj6QJKV"
      }
    },
    {
      "cell_type": "code",
      "execution_count": 96,
      "metadata": {
        "id": "ypX_epItSrY9",
        "colab": {
          "base_uri": "https://localhost:8080/"
        },
        "outputId": "15879046-10fb-4c47-b05f-3c2461c17b3b"
      },
      "outputs": [
        {
          "output_type": "execute_result",
          "data": {
            "text/plain": [
              "array([-1.16864610e-01,  5.89919351e-02,  3.13788055e-02, -1.89083776e+01,\n",
              "        3.13767259e+00,  5.91799939e-03, -1.51102394e+00,  3.24766367e-01,\n",
              "       -1.24228129e-02, -1.01509615e+00,  7.67905631e-03, -5.51889602e-01])"
            ]
          },
          "metadata": {},
          "execution_count": 96
        }
      ],
      "source": [
        "model.coef_ # There are 12 beta values"
      ]
    },
    {
      "cell_type": "markdown",
      "source": [
        "# **model.coef_**\n",
        "\n",
        "In a regression model, the term \"model.coef_\" refers to the coefficients or slopes associated with the independent variables.\n",
        "\n",
        "In a linear regression model, the relationship between the dependent variable and the independent variables is defined by the equation:\n",
        "\n",
        "y = b0 + b1x1 + b2x2 + ... + bn*xn\n",
        "\n",
        "Here, \"y\" represents the dependent variable, \"b0\" represents the intercept, \"x1\" to \"xn\" represent the independent variables, and \"b1\" to \"bn\" represent the coefficients or slopes associated with each independent variable.\n",
        "\n",
        "The \"model.coef_\" attribute is used in machine learning libraries or frameworks, such as scikit-learn, to access the estimated coefficients of the trained regression model. It provides the values of the slopes associated with each independent variable, indicating the impact or contribution of each variable in predicting the dependent variable.\n",
        "\n",
        "For example, if you have a linear regression model with two independent variables, \"x1\" and \"x2\", \"model.coef_\" will provide an array or vector of coefficients [b1, b2], indicating the weight or influence of each variable on the dependent variable."
      ],
      "metadata": {
        "id": "FknC-AGERVRE"
      }
    },
    {
      "cell_type": "code",
      "source": [
        "model.score(x_train,y_train)*100 # R scored value"
      ],
      "metadata": {
        "colab": {
          "base_uri": "https://localhost:8080/"
        },
        "id": "_yh9E-SqOSIk",
        "outputId": "9fea0c39-5492-4229-ccc3-e763172dcd9d"
      },
      "execution_count": 97,
      "outputs": [
        {
          "output_type": "execute_result",
          "data": {
            "text/plain": [
              "72.55484607372183"
            ]
          },
          "metadata": {},
          "execution_count": 97
        }
      ]
    },
    {
      "cell_type": "markdown",
      "source": [
        "# **R scored value**\n",
        "\n",
        "In machine learning, the score() method of a model in Python typically calculates the coefficient of determination, also\n",
        " known as R-squared (R²) value.R-squared is a statistical measure that represents the proportion of the variance in the\n",
        " dependent variable (y) that can be explained by the independent variables (x) in a regression model. It provides an\n",
        " indication of how well the model fits the data.\n",
        "\n",
        "The score() method usually returns the R² value, which ranges from 0 to 1. A higher R² value indicates a better fit,\n",
        " with 1 representing a perfect fit where the model explains all the variance in the data. However,\n",
        " it's important to note that a high R² value does not necessarily mean that the model is the best choice or that it is making\n",
        " accurate predictions.\n",
        "\n",
        "To calculate the R-squared value using the score() method, you can use the following code:\n",
        "\n",
        "python\n",
        "\n",
        "r_squared = model.score(x_train, y_train) * 100\n",
        "\n",
        "The x_train and y_train variables represent the training data for your regression model.\n",
        "The model is an instance of the trained regression model, such as a linear regression, decision tree, or any other regression\n",
        "algorithm.\n",
        "\n",
        "By multiplying the result of score() by 100, the R-squared value is converted to a percentage, which makes it easier to interpret.\n"
      ],
      "metadata": {
        "id": "4OZJmCEJSrY9"
      }
    },
    {
      "cell_type": "code",
      "execution_count": 98,
      "metadata": {
        "id": "AZzcGBipSrY-"
      },
      "outputs": [],
      "source": [
        "y_pred=model.predict(x_test)"
      ]
    },
    {
      "cell_type": "code",
      "execution_count": 99,
      "metadata": {
        "id": "ovIMK46ISrY-",
        "colab": {
          "base_uri": "https://localhost:8080/"
        },
        "outputId": "695be7e9-e060-4196-b916-8ee618d0d590"
      },
      "outputs": [
        {
          "output_type": "execute_result",
          "data": {
            "text/plain": [
              "array([32.96540397, 28.19192469, 18.15247013, 21.39306239, 19.16392749,\n",
              "       20.10462506, 32.58261643, 18.17829727, 22.64456262, 27.13864685,\n",
              "       27.24666686, 28.82410814, 21.2154481 , 26.86621687, 23.61882642,\n",
              "       20.88229249, 17.50790461, 38.65097502, 30.54886676,  9.14394785,\n",
              "       20.99042765, 16.71289383, 25.4758171 , 24.98866705, 31.44071094,\n",
              "       10.72289218, 13.8175315 , 16.54661521, 37.07704997, 14.87650711,\n",
              "       20.97213675, 13.93179854, 43.53982947, 18.2603354 , 21.66164092,\n",
              "       20.66035034, 17.87044101, 27.38039766,  9.51353444, 19.99536125,\n",
              "       24.17590391, 21.34372594, 29.86448901, 16.45013968, 19.49660397,\n",
              "       14.65681071, 37.62012578, 18.33670345, 26.25599238, 20.27892212,\n",
              "       25.40105129, 24.54668886, 25.20677748, 27.03358045,  4.31945457,\n",
              "       24.25794297, 10.98711609, 27.11028966, 16.93148254, 36.24998112,\n",
              "       19.82291127, 27.66300901, 16.81224805, 18.83432636, 11.07296569,\n",
              "       32.64345011, 37.1094768 , 21.88322828, 24.78378806, 25.52402913,\n",
              "       23.5371855 ,  6.96297895, 16.79546413, 20.54835962, 20.83572798,\n",
              "       21.64103197, 32.09366272, 27.96331982, 25.79715831, 34.85754109,\n",
              "       18.83300098, 24.09531807, 34.74119918, 13.49157703, 20.58852023,\n",
              "       30.12033737, 17.37041426, 24.40537152, 19.35959233, 17.1669018 ,\n",
              "       27.29016861, 42.47140346, 14.01772649, 23.48468634, 14.63961381,\n",
              "       22.10807795, 23.22671848, 29.39032584, 37.50154428, 20.52530436,\n",
              "       17.34381933, 17.99782131])"
            ]
          },
          "metadata": {},
          "execution_count": 99
        }
      ],
      "source": [
        "y_pred # predicted data"
      ]
    },
    {
      "cell_type": "code",
      "execution_count": 100,
      "metadata": {
        "id": "0FfXjO8aSrY-",
        "colab": {
          "base_uri": "https://localhost:8080/"
        },
        "outputId": "36c9fe1f-7dee-439f-ede7-2c40d0e6b902"
      },
      "outputs": [
        {
          "output_type": "execute_result",
          "data": {
            "text/plain": [
              "array([28.2, 23.9, 16.6, 22. , 20.8, 23. , 27.9, 14.5, 21.5, 22.6, 23.7,\n",
              "       31.2, 19.3, 19.4, 19.4, 27.9, 13.9, 50. , 24.1, 14.6, 16.2, 15.6,\n",
              "       23.8, 25. , 23.5,  8.3, 13.5, 17.5, 43.1, 11.5, 24.1, 18.5, 50. ,\n",
              "       12.6, 19.8, 24.5, 14.9, 36.2, 11.9, 19.1, 22.6, 20.7, 30.1, 13.3,\n",
              "       14.6,  8.4, 50. , 12.7, 25. , 18.6, 29.8, 22.2, 28.7, 23.8,  8.1,\n",
              "       22.2,  6.3, 22.1, 17.5, 48.3, 16.7, 26.6,  8.5, 14.5, 23.7, 37.2,\n",
              "       41.7, 16.5, 21.7, 22.7, 23. , 10.5, 21.9, 21. , 20.4, 21.8, 50. ,\n",
              "       22. , 23.3, 37.3, 18. , 19.2, 34.9, 13.4, 22.9, 22.5, 13. , 24.6,\n",
              "       18.3, 18.1, 23.9, 50. , 13.6, 22.9, 10.9, 18.9, 22.4, 22.9, 44.8,\n",
              "       21.7, 10.2, 15.4])"
            ]
          },
          "metadata": {},
          "execution_count": 100
        }
      ],
      "source": [
        "y_test # real data"
      ]
    },
    {
      "cell_type": "code",
      "source": [
        "MSE=mean_squared_error(y_pred,y_test)\n",
        "MSE"
      ],
      "metadata": {
        "colab": {
          "base_uri": "https://localhost:8080/"
        },
        "id": "FxIwoecESx-i",
        "outputId": "be625cb8-e363-4e29-dfa7-8583ca9c4e3c"
      },
      "execution_count": 101,
      "outputs": [
        {
          "output_type": "execute_result",
          "data": {
            "text/plain": [
              "24.178715197042937"
            ]
          },
          "metadata": {},
          "execution_count": 101
        }
      ]
    },
    {
      "cell_type": "markdown",
      "source": [
        "## **Mean squared error (MSE)**\n",
        "\n",
        "Mean squared error (MSE) is a commonly used metric for measuring the average squared difference between the predicted and actual values\n",
        " in regression tasks. It provides a way to quantify the quality of a regression model by assessing how close the model's predictions are to the true values.\n",
        "\n",
        "To calculate the mean squared error, you typically follow these steps:\n",
        "\n",
        "Take the predicted values from your regression model.\n",
        "Take the corresponding actual (observed) values.\n",
        "Compute the squared difference between each predicted value and its corresponding actual value.\n",
        "Sum up all the squared differences.\n",
        "Divide the sum by the total number of samples (observations) to get the mean.\n",
        "The resulting value is the mean squared error.\n",
        "The formula for mean squared error is:\n",
        "\n",
        "MSE = (1/n) * Σ(yᵢ - ŷᵢ)²\n",
        "\n",
        "Where:\n",
        "\n",
        "MSE is the mean squared error.\n",
        "n is the number of samples.\n",
        "yᵢ represents the actual (observed) value for the i-th sample.\n",
        "ŷᵢ represents the predicted value for the i-th sample.\n",
        "Σ denotes the summation operator, which sums up the squared differences over all the samples.\n",
        "The MSE metric is useful for evaluating regression models because it penalizes larger errors more heavily due to the squaring operation.\n",
        "A lower MSE value indicates better performance, with zero representing a perfect match between predictions and actual values.\n",
        " However, it's worth noting that MSE is sensitive to outliers, as their squared differences can significantly impact the overall value.\"\"\""
      ],
      "metadata": {
        "id": "qN_yaQTySrY-"
      }
    },
    {
      "cell_type": "code",
      "source": [
        "RMSE=np.sqrt(MSE) # How much has changed from the value of y\n",
        "RMSE"
      ],
      "metadata": {
        "colab": {
          "base_uri": "https://localhost:8080/"
        },
        "id": "VnNdulXoTCf5",
        "outputId": "b5cfbe05-1e5a-4f8e-8f9f-967652f6ac1a"
      },
      "execution_count": 102,
      "outputs": [
        {
          "output_type": "execute_result",
          "data": {
            "text/plain": [
              "4.917185698856912"
            ]
          },
          "metadata": {},
          "execution_count": 102
        }
      ]
    },
    {
      "cell_type": "markdown",
      "source": [
        "## **Root Mean Squared Error (RMSE)**\n",
        "\n",
        "RMSE stands for Root Mean Squared Error.\n",
        "It is another commonly used metric for evaluating the performance of a regression model.\n",
        "RMSE is derived from the mean squared error (MSE) and provides an easily interpretable measure of the average magnitude of the prediction errors.\n",
        "\n",
        "To calculate the root mean squared error, you follow these steps:\n",
        "\n",
        "Calculate the mean squared error (MSE) using the predicted and actual values, as explained earlier.\n",
        "Take the square root of the MSE to obtain the RMSE.\n",
        "\n",
        "The formula for RMSE is:\n",
        "\n",
        "RMSE = sqrt(MSE)\n",
        "\n",
        "\n",
        "RMSE is advantageous because it is in the same unit as the target variable,\n",
        "which makes it easier to interpret.\n",
        "\n",
        "***For example, if you are predicting house prices in dollars,\n",
        "the RMSE will also be in dollars. It represents the average deviation between the predicted and actual values,\n",
        "providing a measure of the typical magnitude of prediction errors.***\n",
        "\n",
        "Similar to MSE, a lower RMSE value indicates better model performance,\n",
        "with zero representing a perfect match between predictions and actual values.\n",
        "RMSE is widely used for comparing different models or tuning model parameters.\n",
        "It is less sensitive to outliers compared to MSE since it takes the square root of the squared errors,\n",
        "which mitigates the impact of large errors.\"\"\""
      ],
      "metadata": {
        "id": "1rYxGeAESrY_"
      }
    },
    {
      "cell_type": "code",
      "execution_count": 103,
      "metadata": {
        "id": "VEcSwsZ7SrZA",
        "colab": {
          "base_uri": "https://localhost:8080/"
        },
        "outputId": "7c68fb2b-537c-4a57-d135-d5460a7a7412"
      },
      "outputs": [
        {
          "output_type": "execute_result",
          "data": {
            "text/plain": [
              "array([[1.41500e-01, 0.00000e+00, 6.91000e+00, ..., 1.79000e+01,\n",
              "        3.83370e+02, 5.81000e+00],\n",
              "       [1.54450e-01, 2.50000e+01, 5.13000e+00, ..., 1.97000e+01,\n",
              "        3.90680e+02, 6.86000e+00],\n",
              "       [1.68118e+01, 0.00000e+00, 1.81000e+01, ..., 2.02000e+01,\n",
              "        3.96900e+02, 3.08100e+01],\n",
              "       ...,\n",
              "       [5.87205e+00, 0.00000e+00, 1.81000e+01, ..., 2.02000e+01,\n",
              "        3.96900e+02, 1.93700e+01],\n",
              "       [3.30450e-01, 0.00000e+00, 6.20000e+00, ..., 1.74000e+01,\n",
              "        3.76750e+02, 1.08800e+01],\n",
              "       [8.01400e-02, 0.00000e+00, 5.96000e+00, ..., 1.92000e+01,\n",
              "        3.96900e+02, 8.77000e+00]])"
            ]
          },
          "metadata": {},
          "execution_count": 103
        }
      ],
      "source": [
        "x_train"
      ]
    },
    {
      "cell_type": "code",
      "execution_count": 104,
      "metadata": {
        "id": "WD3nGD7ySrZA"
      },
      "outputs": [],
      "source": [
        "x_with_constant=sm.add_constant(x_train) # design metrix"
      ]
    },
    {
      "cell_type": "markdown",
      "source": [
        "## **sm.add_constant(x_train)**\n",
        "\n",
        "In regression analysis, \"sm.add_constant(x_train)\" is a function used in the statsmodels library in Python to add a constant column of 1s to the independent variable(s) or predictors in a dataset.\n",
        "\n",
        "In some regression models, such as ordinary least squares (OLS) regression, it is common to include a constant term or intercept in the regression equation. This constant term allows for a baseline or starting point for the regression line.\n",
        "\n",
        "The \"sm.add_constant(x_train)\" function is used to add this constant term to the independent variable(s) in the training dataset. It takes the independent variable(s) array or dataframe, denoted as \"x_train,\" as an input and returns a new array or dataframe with the constant term added as the first column.\n",
        "\n",
        "By adding a constant term, the regression model will estimate both the slope coefficients (weights) associated with the independent variables and the intercept term.\n",
        "\n",
        "Here's an example of how you can use \"sm.add_constant(x_train)\":\n",
        "\n",
        "            python\n",
        "            Copy code\n",
        "            import statsmodels.api as sm\n",
        "\n",
        "            #Assuming x_train is a 2D array or dataframe of independent variables\n",
        "            x_train_with_constant = sm.add_constant(x_train)\n",
        "\n",
        "            #Fit the regression model\n",
        "\n",
        "            model = sm.OLS(y_train, x_train_with_constant)\n",
        "            results = model.fit()\n",
        "\n",
        "In this example, \"x_train_with_constant\" will be a new array or dataframe that includes the constant term, and the \"sm.OLS\" function is used to fit the ordinary least squares regression model with the constant term included."
      ],
      "metadata": {
        "id": "eKk7LCGIaTQy"
      }
    },
    {
      "cell_type": "code",
      "source": [
        "model_sm=sm.OLS(y_train,x_with_constant)"
      ],
      "metadata": {
        "id": "YBhauvrYZiZB"
      },
      "execution_count": 105,
      "outputs": []
    },
    {
      "cell_type": "code",
      "source": [
        "results=model_sm.fit()"
      ],
      "metadata": {
        "id": "rX6SFceXc5ih"
      },
      "execution_count": 106,
      "outputs": []
    },
    {
      "cell_type": "code",
      "source": [
        "print(results.summary())"
      ],
      "metadata": {
        "colab": {
          "base_uri": "https://localhost:8080/"
        },
        "id": "FeAffQEydivQ",
        "outputId": "25ae8c7e-0c02-46a1-fbc1-9fda4e785cdf"
      },
      "execution_count": 107,
      "outputs": [
        {
          "output_type": "stream",
          "name": "stdout",
          "text": [
            "                            OLS Regression Results                            \n",
            "==============================================================================\n",
            "Dep. Variable:                      y   R-squared:                       0.726\n",
            "Model:                            OLS   Adj. R-squared:                  0.717\n",
            "Method:                 Least Squares   F-statistic:                     86.14\n",
            "Date:                Tue, 11 Jul 2023   Prob (F-statistic):          8.65e-102\n",
            "Time:                        13:27:11   Log-Likelihood:                -1199.2\n",
            "No. Observations:                 404   AIC:                             2424.\n",
            "Df Residuals:                     391   BIC:                             2476.\n",
            "Df Model:                          12                                         \n",
            "Covariance Type:            nonrobust                                         \n",
            "==============================================================================\n",
            "                 coef    std err          t      P>|t|      [0.025      0.975]\n",
            "------------------------------------------------------------------------------\n",
            "const         43.0541      5.785      7.443      0.000      31.681      54.427\n",
            "x1            -0.1169      0.034     -3.405      0.001      -0.184      -0.049\n",
            "x2             0.0590      0.016      3.634      0.000       0.027       0.091\n",
            "x3             0.0314      0.068      0.463      0.644      -0.102       0.165\n",
            "x4           -18.9084      4.291     -4.407      0.000     -27.344     -10.473\n",
            "x5             3.1377      0.481      6.520      0.000       2.192       4.084\n",
            "x6             0.0059      0.015      0.395      0.693      -0.024       0.035\n",
            "x7            -1.5110      0.231     -6.553      0.000      -1.964      -1.058\n",
            "x8             0.3248      0.078      4.166      0.000       0.171       0.478\n",
            "x9            -0.0124      0.004     -2.835      0.005      -0.021      -0.004\n",
            "x10           -1.0151      0.150     -6.786      0.000      -1.309      -0.721\n",
            "x11            0.0077      0.003      2.535      0.012       0.002       0.014\n",
            "x12           -0.5519      0.058     -9.575      0.000      -0.665      -0.439\n",
            "==============================================================================\n",
            "Omnibus:                      169.095   Durbin-Watson:                   1.908\n",
            "Prob(Omnibus):                  0.000   Jarque-Bera (JB):              863.994\n",
            "Skew:                           1.747   Prob(JB):                    2.43e-188\n",
            "Kurtosis:                       9.254   Cond. No.                     1.50e+04\n",
            "==============================================================================\n",
            "\n",
            "Notes:\n",
            "[1] Standard Errors assume that the covariance matrix of the errors is correctly specified.\n",
            "[2] The condition number is large, 1.5e+04. This might indicate that there are\n",
            "strong multicollinearity or other numerical problems.\n"
          ]
        }
      ]
    },
    {
      "cell_type": "markdown",
      "source": [
        "# **F-statistic**\n",
        "\n",
        "The F-statistic is a statistical measure used in regression analysis to assess the overall significance and fit of a regression model. It helps determine whether the independent variables, taken together, have a significant impact on the dependent variable.\n",
        "\n",
        "In regression analysis, we aim to build a model that explains the relationship between the independent variables (predictors) and the dependent variable (response). The F-statistic is calculated by comparing the variability explained by the regression model to the variability not explained by the model.\n",
        "\n",
        "The F-statistic is derived from the analysis of variance (ANOVA) table, which decomposes the total sum of squares (SS) of the dependent variable into two components: the explained sum of squares (ESS) and the residual sum of squares (RSS).\n",
        "\n",
        "Here's how the F-statistic is calculated:\n",
        "\n",
        "Calculate the explained sum of squares (ESS) by taking the difference between the total sum of squares (SS) and the residual sum of squares (RSS):\n",
        "\n",
        "ESS = SS - RSS\n",
        "\n",
        "Determine the degrees of freedom (DF) associated with the ESS and RSS:\n",
        "\n",
        "Degrees of freedom for ESS: Equal to the number of independent variables in the model\n",
        "Degrees of freedom for RSS: Equal to the total number of observations minus the number of independent variables\n",
        "Calculate the mean square values (MS) for both ESS and RSS:\n",
        "\n",
        "Mean square for ESS: ESS divided by its degrees of freedom\n",
        "Mean square for RSS: RSS divided by its degrees of freedom\n",
        "Calculate the F-statistic by dividing the mean square for ESS by the mean square for RSS:\n",
        "\n",
        "F-statistic = (Mean square for ESS) / (Mean square for RSS)\n",
        "\n",
        "The F-statistic follows an F-distribution with degrees of freedom associated with ESS and RSS. By comparing the F-statistic to the critical value from the F-distribution at a given significance level, we can determine whether the regression model as a whole is statistically significant.\n",
        "\n",
        "If the F-statistic is larger than the critical value, it suggests that at least one independent variable has a significant impact on the dependent variable. Conversely, if the F-statistic is smaller, it indicates that the independent variables, as a group, do not significantly explain the variation in the dependent variable.\n",
        "\n",
        "In summary, the F-statistic is used to test the overall significance and fit of a regression model by comparing the explained variability to the unexplained variability in the dependent variable."
      ],
      "metadata": {
        "id": "K7bBShOodkCP"
      }
    },
    {
      "cell_type": "markdown",
      "source": [
        "# **Prob (F-statistic)**\n",
        "\n",
        "\"Prob (F-statistic)\" in regression analysis refers to the p-value associated with the F-statistic. It represents the probability of obtaining an F-statistic as extreme as the one observed in the regression model, assuming that the null hypothesis is true.\n",
        "\n",
        "In regression analysis, the null hypothesis states that all of the coefficients (slopes) of the independent variables in the model are zero, indicating that the independent variables do not have a significant effect on the dependent variable. The alternative hypothesis, on the other hand, suggests that at least one of the coefficients is non-zero, indicating a significant relationship between the independent variables and the dependent variable.\n",
        "\n",
        "The p-value associated with the F-statistic provides a measure of evidence against the null hypothesis. A low p-value (typically less than a chosen significance level, such as 0.05) indicates that the observed F-statistic is statistically significant, and we can reject the null hypothesis in favor of the alternative hypothesis.\n",
        "\n",
        "If the p-value is less than the significance level, it suggests that there is strong evidence to conclude that the independent variables, as a group, have a significant impact on the dependent variable. Conversely, if the p-value is greater than the significance level, it suggests that the independent variables, as a group, do not have a significant effect on the dependent variable.\n",
        "\n",
        "In summary, the \"Prob (F-statistic)\" or p-value associated with the F-statistic in regression analysis helps determine the statistical significance of the overall model by assessing whether the independent variables jointly explain a significant portion of the variation in the dependent variable."
      ],
      "metadata": {
        "id": "SbUdmcUcfK0V"
      }
    },
    {
      "cell_type": "markdown",
      "source": [
        "#**Special Note**\n",
        "\n",
        "These \"statsmodels\" p value,F-statistic like those concepts are not worth much in machine learning therefour these\n",
        "are not included in sk-learn"
      ],
      "metadata": {
        "id": "Xm9T8c1Be4O3"
      }
    },
    {
      "cell_type": "markdown",
      "source": [
        "**********************************************************"
      ],
      "metadata": {
        "id": "cZ2vw8EnygUk"
      }
    },
    {
      "cell_type": "code",
      "source": [
        "print(variance_inflation_factor(x_train,0))\n",
        "print(variance_inflation_factor(x_train,1))\n",
        "print(variance_inflation_factor(x_train,2))\n",
        "print(variance_inflation_factor(x_train,3))"
      ],
      "metadata": {
        "colab": {
          "base_uri": "https://localhost:8080/"
        },
        "id": "ZuPcPUYgAGL4",
        "outputId": "93a62637-658b-4375-9ab5-8e74591df7c7"
      },
      "execution_count": 108,
      "outputs": [
        {
          "output_type": "stream",
          "name": "stdout",
          "text": [
            "2.0112435423079824\n",
            "3.1308379978428142\n",
            "13.66416847765701\n",
            "72.71969860908884\n"
          ]
        }
      ]
    },
    {
      "cell_type": "code",
      "source": [
        "vif_values=[variance_inflation_factor(x_train,i) for i in range(x_train.shape[1])]"
      ],
      "metadata": {
        "id": "Wg3y3JDCAVHg"
      },
      "execution_count": 109,
      "outputs": []
    },
    {
      "cell_type": "code",
      "source": [
        "vif_values"
      ],
      "metadata": {
        "colab": {
          "base_uri": "https://localhost:8080/"
        },
        "id": "PP6svxIPBfOu",
        "outputId": "52fca121-f346-4d79-fab3-be344d3e6800"
      },
      "execution_count": 110,
      "outputs": [
        {
          "output_type": "execute_result",
          "data": {
            "text/plain": [
              "[2.0112435423079824,\n",
              " 3.1308379978428142,\n",
              " 13.66416847765701,\n",
              " 72.71969860908884,\n",
              " 78.69694632582174,\n",
              " 21.415843721462533,\n",
              " 15.956656472241617,\n",
              " 16.299432366383982,\n",
              " 64.10515210085619,\n",
              " 86.37181217641898,\n",
              " 20.318309154670516,\n",
              " 11.563386569122697]"
            ]
          },
          "metadata": {},
          "execution_count": 110
        }
      ]
    },
    {
      "cell_type": "code",
      "source": [
        "pd.DataFrame({\"Features\" :data.iloc[:,:12].columns,\"VIF\":vif_values})"
      ],
      "metadata": {
        "colab": {
          "base_uri": "https://localhost:8080/",
          "height": 426
        },
        "id": "DEG3xi3GBtbw",
        "outputId": "3a79009d-a61b-4cff-8757-12cb49d7bb90"
      },
      "execution_count": 111,
      "outputs": [
        {
          "output_type": "execute_result",
          "data": {
            "text/plain": [
              "   Features        VIF\n",
              "0      crim   2.011244\n",
              "1        zn   3.130838\n",
              "2     indus  13.664168\n",
              "3       nox  72.719699\n",
              "4        rm  78.696946\n",
              "5       age  21.415844\n",
              "6       dis  15.956656\n",
              "7       rad  16.299432\n",
              "8       tax  64.105152\n",
              "9   ptratio  86.371812\n",
              "10    black  20.318309\n",
              "11    lstat  11.563387"
            ],
            "text/html": [
              "\n",
              "\n",
              "  <div id=\"df-7f4461a7-1dab-4aef-af44-9383b0a04038\">\n",
              "    <div class=\"colab-df-container\">\n",
              "      <div>\n",
              "<style scoped>\n",
              "    .dataframe tbody tr th:only-of-type {\n",
              "        vertical-align: middle;\n",
              "    }\n",
              "\n",
              "    .dataframe tbody tr th {\n",
              "        vertical-align: top;\n",
              "    }\n",
              "\n",
              "    .dataframe thead th {\n",
              "        text-align: right;\n",
              "    }\n",
              "</style>\n",
              "<table border=\"1\" class=\"dataframe\">\n",
              "  <thead>\n",
              "    <tr style=\"text-align: right;\">\n",
              "      <th></th>\n",
              "      <th>Features</th>\n",
              "      <th>VIF</th>\n",
              "    </tr>\n",
              "  </thead>\n",
              "  <tbody>\n",
              "    <tr>\n",
              "      <th>0</th>\n",
              "      <td>crim</td>\n",
              "      <td>2.011244</td>\n",
              "    </tr>\n",
              "    <tr>\n",
              "      <th>1</th>\n",
              "      <td>zn</td>\n",
              "      <td>3.130838</td>\n",
              "    </tr>\n",
              "    <tr>\n",
              "      <th>2</th>\n",
              "      <td>indus</td>\n",
              "      <td>13.664168</td>\n",
              "    </tr>\n",
              "    <tr>\n",
              "      <th>3</th>\n",
              "      <td>nox</td>\n",
              "      <td>72.719699</td>\n",
              "    </tr>\n",
              "    <tr>\n",
              "      <th>4</th>\n",
              "      <td>rm</td>\n",
              "      <td>78.696946</td>\n",
              "    </tr>\n",
              "    <tr>\n",
              "      <th>5</th>\n",
              "      <td>age</td>\n",
              "      <td>21.415844</td>\n",
              "    </tr>\n",
              "    <tr>\n",
              "      <th>6</th>\n",
              "      <td>dis</td>\n",
              "      <td>15.956656</td>\n",
              "    </tr>\n",
              "    <tr>\n",
              "      <th>7</th>\n",
              "      <td>rad</td>\n",
              "      <td>16.299432</td>\n",
              "    </tr>\n",
              "    <tr>\n",
              "      <th>8</th>\n",
              "      <td>tax</td>\n",
              "      <td>64.105152</td>\n",
              "    </tr>\n",
              "    <tr>\n",
              "      <th>9</th>\n",
              "      <td>ptratio</td>\n",
              "      <td>86.371812</td>\n",
              "    </tr>\n",
              "    <tr>\n",
              "      <th>10</th>\n",
              "      <td>black</td>\n",
              "      <td>20.318309</td>\n",
              "    </tr>\n",
              "    <tr>\n",
              "      <th>11</th>\n",
              "      <td>lstat</td>\n",
              "      <td>11.563387</td>\n",
              "    </tr>\n",
              "  </tbody>\n",
              "</table>\n",
              "</div>\n",
              "      <button class=\"colab-df-convert\" onclick=\"convertToInteractive('df-7f4461a7-1dab-4aef-af44-9383b0a04038')\"\n",
              "              title=\"Convert this dataframe to an interactive table.\"\n",
              "              style=\"display:none;\">\n",
              "\n",
              "  <svg xmlns=\"http://www.w3.org/2000/svg\" height=\"24px\"viewBox=\"0 0 24 24\"\n",
              "       width=\"24px\">\n",
              "    <path d=\"M0 0h24v24H0V0z\" fill=\"none\"/>\n",
              "    <path d=\"M18.56 5.44l.94 2.06.94-2.06 2.06-.94-2.06-.94-.94-2.06-.94 2.06-2.06.94zm-11 1L8.5 8.5l.94-2.06 2.06-.94-2.06-.94L8.5 2.5l-.94 2.06-2.06.94zm10 10l.94 2.06.94-2.06 2.06-.94-2.06-.94-.94-2.06-.94 2.06-2.06.94z\"/><path d=\"M17.41 7.96l-1.37-1.37c-.4-.4-.92-.59-1.43-.59-.52 0-1.04.2-1.43.59L10.3 9.45l-7.72 7.72c-.78.78-.78 2.05 0 2.83L4 21.41c.39.39.9.59 1.41.59.51 0 1.02-.2 1.41-.59l7.78-7.78 2.81-2.81c.8-.78.8-2.07 0-2.86zM5.41 20L4 18.59l7.72-7.72 1.47 1.35L5.41 20z\"/>\n",
              "  </svg>\n",
              "      </button>\n",
              "\n",
              "\n",
              "\n",
              "    <div id=\"df-0a2ca770-533a-4851-9a22-5f0e28eeff8d\">\n",
              "      <button class=\"colab-df-quickchart\" onclick=\"quickchart('df-0a2ca770-533a-4851-9a22-5f0e28eeff8d')\"\n",
              "              title=\"Suggest charts.\"\n",
              "              style=\"display:none;\">\n",
              "\n",
              "<svg xmlns=\"http://www.w3.org/2000/svg\" height=\"24px\"viewBox=\"0 0 24 24\"\n",
              "     width=\"24px\">\n",
              "    <g>\n",
              "        <path d=\"M19 3H5c-1.1 0-2 .9-2 2v14c0 1.1.9 2 2 2h14c1.1 0 2-.9 2-2V5c0-1.1-.9-2-2-2zM9 17H7v-7h2v7zm4 0h-2V7h2v10zm4 0h-2v-4h2v4z\"/>\n",
              "    </g>\n",
              "</svg>\n",
              "      </button>\n",
              "    </div>\n",
              "\n",
              "<style>\n",
              "  .colab-df-quickchart {\n",
              "    background-color: #E8F0FE;\n",
              "    border: none;\n",
              "    border-radius: 50%;\n",
              "    cursor: pointer;\n",
              "    display: none;\n",
              "    fill: #1967D2;\n",
              "    height: 32px;\n",
              "    padding: 0 0 0 0;\n",
              "    width: 32px;\n",
              "  }\n",
              "\n",
              "  .colab-df-quickchart:hover {\n",
              "    background-color: #E2EBFA;\n",
              "    box-shadow: 0px 1px 2px rgba(60, 64, 67, 0.3), 0px 1px 3px 1px rgba(60, 64, 67, 0.15);\n",
              "    fill: #174EA6;\n",
              "  }\n",
              "\n",
              "  [theme=dark] .colab-df-quickchart {\n",
              "    background-color: #3B4455;\n",
              "    fill: #D2E3FC;\n",
              "  }\n",
              "\n",
              "  [theme=dark] .colab-df-quickchart:hover {\n",
              "    background-color: #434B5C;\n",
              "    box-shadow: 0px 1px 3px 1px rgba(0, 0, 0, 0.15);\n",
              "    filter: drop-shadow(0px 1px 2px rgba(0, 0, 0, 0.3));\n",
              "    fill: #FFFFFF;\n",
              "  }\n",
              "</style>\n",
              "\n",
              "    <script>\n",
              "      async function quickchart(key) {\n",
              "        const containerElement = document.querySelector('#' + key);\n",
              "        const charts = await google.colab.kernel.invokeFunction(\n",
              "            'suggestCharts', [key], {});\n",
              "      }\n",
              "    </script>\n",
              "\n",
              "      <script>\n",
              "\n",
              "function displayQuickchartButton(domScope) {\n",
              "  let quickchartButtonEl =\n",
              "    domScope.querySelector('#df-0a2ca770-533a-4851-9a22-5f0e28eeff8d button.colab-df-quickchart');\n",
              "  quickchartButtonEl.style.display =\n",
              "    google.colab.kernel.accessAllowed ? 'block' : 'none';\n",
              "}\n",
              "\n",
              "        displayQuickchartButton(document);\n",
              "      </script>\n",
              "      <style>\n",
              "    .colab-df-container {\n",
              "      display:flex;\n",
              "      flex-wrap:wrap;\n",
              "      gap: 12px;\n",
              "    }\n",
              "\n",
              "    .colab-df-convert {\n",
              "      background-color: #E8F0FE;\n",
              "      border: none;\n",
              "      border-radius: 50%;\n",
              "      cursor: pointer;\n",
              "      display: none;\n",
              "      fill: #1967D2;\n",
              "      height: 32px;\n",
              "      padding: 0 0 0 0;\n",
              "      width: 32px;\n",
              "    }\n",
              "\n",
              "    .colab-df-convert:hover {\n",
              "      background-color: #E2EBFA;\n",
              "      box-shadow: 0px 1px 2px rgba(60, 64, 67, 0.3), 0px 1px 3px 1px rgba(60, 64, 67, 0.15);\n",
              "      fill: #174EA6;\n",
              "    }\n",
              "\n",
              "    [theme=dark] .colab-df-convert {\n",
              "      background-color: #3B4455;\n",
              "      fill: #D2E3FC;\n",
              "    }\n",
              "\n",
              "    [theme=dark] .colab-df-convert:hover {\n",
              "      background-color: #434B5C;\n",
              "      box-shadow: 0px 1px 3px 1px rgba(0, 0, 0, 0.15);\n",
              "      filter: drop-shadow(0px 1px 2px rgba(0, 0, 0, 0.3));\n",
              "      fill: #FFFFFF;\n",
              "    }\n",
              "  </style>\n",
              "\n",
              "      <script>\n",
              "        const buttonEl =\n",
              "          document.querySelector('#df-7f4461a7-1dab-4aef-af44-9383b0a04038 button.colab-df-convert');\n",
              "        buttonEl.style.display =\n",
              "          google.colab.kernel.accessAllowed ? 'block' : 'none';\n",
              "\n",
              "        async function convertToInteractive(key) {\n",
              "          const element = document.querySelector('#df-7f4461a7-1dab-4aef-af44-9383b0a04038');\n",
              "          const dataTable =\n",
              "            await google.colab.kernel.invokeFunction('convertToInteractive',\n",
              "                                                     [key], {});\n",
              "          if (!dataTable) return;\n",
              "\n",
              "          const docLinkHtml = 'Like what you see? Visit the ' +\n",
              "            '<a target=\"_blank\" href=https://colab.research.google.com/notebooks/data_table.ipynb>data table notebook</a>'\n",
              "            + ' to learn more about interactive tables.';\n",
              "          element.innerHTML = '';\n",
              "          dataTable['output_type'] = 'display_data';\n",
              "          await google.colab.output.renderOutput(dataTable, element);\n",
              "          const docLink = document.createElement('div');\n",
              "          docLink.innerHTML = docLinkHtml;\n",
              "          element.appendChild(docLink);\n",
              "        }\n",
              "      </script>\n",
              "    </div>\n",
              "  </div>\n"
            ]
          },
          "metadata": {},
          "execution_count": 111
        }
      ]
    },
    {
      "cell_type": "markdown",
      "source": [
        "Thease kind of things do in statistics. But in ML using 'dimentiality reduction','Regulitations' like that teqniches."
      ],
      "metadata": {
        "id": "QSLgAn8bCUnF"
      }
    },
    {
      "cell_type": "code",
      "source": [
        "residuals= y_test-y_pred # real-predicted values"
      ],
      "metadata": {
        "id": "78wTMHRuFnJk"
      },
      "execution_count": 112,
      "outputs": []
    },
    {
      "cell_type": "code",
      "source": [
        "residuals"
      ],
      "metadata": {
        "colab": {
          "base_uri": "https://localhost:8080/"
        },
        "id": "DtL7zquoGZsn",
        "outputId": "ad6ca144-f52b-44be-cc84-b8542169a182"
      },
      "execution_count": 113,
      "outputs": [
        {
          "output_type": "execute_result",
          "data": {
            "text/plain": [
              "array([-4.76540397e+00, -4.29192469e+00, -1.55247013e+00,  6.06937612e-01,\n",
              "        1.63607251e+00,  2.89537494e+00, -4.68261643e+00, -3.67829727e+00,\n",
              "       -1.14456262e+00, -4.53864685e+00, -3.54666686e+00,  2.37589186e+00,\n",
              "       -1.91544810e+00, -7.46621687e+00, -4.21882642e+00,  7.01770751e+00,\n",
              "       -3.60790461e+00,  1.13490250e+01, -6.44886676e+00,  5.45605215e+00,\n",
              "       -4.79042765e+00, -1.11289383e+00, -1.67581710e+00,  1.13329501e-02,\n",
              "       -7.94071094e+00, -2.42289218e+00, -3.17531500e-01,  9.53384792e-01,\n",
              "        6.02295003e+00, -3.37650711e+00,  3.12786325e+00,  4.56820146e+00,\n",
              "        6.46017053e+00, -5.66033540e+00, -1.86164092e+00,  3.83964966e+00,\n",
              "       -2.97044101e+00,  8.81960234e+00,  2.38646556e+00, -8.95361246e-01,\n",
              "       -1.57590391e+00, -6.43725944e-01,  2.35510987e-01, -3.15013968e+00,\n",
              "       -4.89660397e+00, -6.25681071e+00,  1.23798742e+01, -5.63670345e+00,\n",
              "       -1.25599238e+00, -1.67892212e+00,  4.39894871e+00, -2.34668886e+00,\n",
              "        3.49322252e+00, -3.23358045e+00,  3.78054543e+00, -2.05794297e+00,\n",
              "       -4.68711609e+00, -5.01028966e+00,  5.68517461e-01,  1.20500189e+01,\n",
              "       -3.12291127e+00, -1.06300901e+00, -8.31224805e+00, -4.33432636e+00,\n",
              "        1.26270343e+01,  4.55654989e+00,  4.59052320e+00, -5.38322828e+00,\n",
              "       -3.08378806e+00, -2.82402913e+00, -5.37185502e-01,  3.53702105e+00,\n",
              "        5.10453587e+00,  4.51640380e-01, -4.35727975e-01,  1.58968030e-01,\n",
              "        1.79063373e+01, -5.96331982e+00, -2.49715831e+00,  2.44245891e+00,\n",
              "       -8.33000975e-01, -4.89531807e+00,  1.58800819e-01, -9.15770278e-02,\n",
              "        2.31147977e+00, -7.62033737e+00, -4.37041426e+00,  1.94628479e-01,\n",
              "       -1.05959233e+00,  9.33098195e-01, -3.39016861e+00,  7.52859654e+00,\n",
              "       -4.17726486e-01, -5.84686336e-01, -3.73961381e+00, -3.20807795e+00,\n",
              "       -8.26718477e-01, -6.49032584e+00,  7.29845572e+00,  1.17469564e+00,\n",
              "       -7.14381933e+00, -2.59782131e+00])"
            ]
          },
          "metadata": {},
          "execution_count": 113
        }
      ]
    },
    {
      "cell_type": "code",
      "source": [
        "sns.displot(residuals)\n",
        "plt.show()"
      ],
      "metadata": {
        "colab": {
          "base_uri": "https://localhost:8080/",
          "height": 507
        },
        "id": "554ExXLFGcIA",
        "outputId": "afd5f5c6-3669-4ca2-92af-de77601e4126"
      },
      "execution_count": 114,
      "outputs": [
        {
          "output_type": "display_data",
          "data": {
            "text/plain": [
              "<Figure size 500x500 with 1 Axes>"
            ],
            "image/png": "[encoded data removed]"
          },
          "metadata": {}
        }
      ]
    },
    {
      "cell_type": "markdown",
      "source": [
        "# Q-Q plot (Quantile - Quantile plot)"
      ],
      "metadata": {
        "id": "gn3mUYrWG3b8"
      }
    },
    {
      "cell_type": "code",
      "source": [
        "sm.qqplot(residuals,line=\"45\")\n",
        "py.show()"
      ],
      "metadata": {
        "colab": {
          "base_uri": "https://localhost:8080/",
          "height": 449
        },
        "id": "xziJLXhEIPOI",
        "outputId": "9f6b5f66-793f-47e9-9c02-c83eba57b887"
      },
      "execution_count": 116,
      "outputs": [
        {
          "output_type": "display_data",
          "data": {
            "text/plain": [
              "<Figure size 640x480 with 1 Axes>"
            ],
            "image/png": "[encoded data removed]"
          },
          "metadata": {}
        }
      ]
    },
    {
      "cell_type": "code",
      "source": [
        "plt.scatter(y_pred,residuals)\n",
        "plt.show()"
      ],
      "metadata": {
        "colab": {
          "base_uri": "https://localhost:8080/",
          "height": 430
        },
        "id": "lOdz6LWHIXNh",
        "outputId": "9dac24e0-ee8d-447a-9c74-221747e08d32"
      },
      "execution_count": 118,
      "outputs": [
        {
          "output_type": "display_data",
          "data": {
            "text/plain": [
              "<Figure size 640x480 with 1 Axes>"
            ],
            "image/png": "[encoded data removed]"
          },
          "metadata": {}
        }
      ]
    },
    {
      "cell_type": "code",
      "source": [],
      "metadata": {
        "id": "HJInP90ZJZtC"
      },
      "execution_count": null,
      "outputs": []
    }
  ],
  "metadata": {
    "kernelspec": {
      "display_name": "Python 3",
      "name": "python3"
    },
    "language_info": {
      "codemirror_mode": {
        "name": "ipython",
        "version": 3
      },
      "file_extension": ".py",
      "mimetype": "text/x-python",
      "name": "python",
      "nbconvert_exporter": "python",
      "pygments_lexer": "ipython3",
      "version": "3.10.11"
    },
    "orig_nbformat": 4,
    "colab": {
      "provenance": [],
      "gpuType": "T4"
    },
    "accelerator": "GPU"
  },
  "nbformat": 4,
  "nbformat_minor": 0
}