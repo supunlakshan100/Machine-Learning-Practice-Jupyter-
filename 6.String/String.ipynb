{
 "cells": [
  {
   "cell_type": "code",
   "execution_count": 1,
   "id": "dc4e5bbf",
   "metadata": {},
   "outputs": [],
   "source": [
    "x='c'\n",
    "y='B'\n",
    "z='ct is eating'"
   ]
  },
  {
   "cell_type": "code",
   "execution_count": 3,
   "id": "f9207c12",
   "metadata": {},
   "outputs": [
    {
     "data": {
      "text/plain": [
       "str"
      ]
     },
     "execution_count": 3,
     "metadata": {},
     "output_type": "execute_result"
    }
   ],
   "source": [
    "type(x)"
   ]
  },
  {
   "cell_type": "code",
   "execution_count": 12,
   "id": "c6b59343",
   "metadata": {},
   "outputs": [],
   "source": [
    "a='sam '\n",
    "b='is a good boy'\n",
    "c='He is realxing with his dog'\n",
    "d='during weekends'\n",
    "e=''\n",
    "f='.'"
   ]
  },
  {
   "cell_type": "code",
   "execution_count": 13,
   "id": "6a00a622",
   "metadata": {},
   "outputs": [
    {
     "data": {
      "text/plain": [
       "'sam is a good boyHe is realxing with his dogduring weekends'"
      ]
     },
     "execution_count": 13,
     "metadata": {},
     "output_type": "execute_result"
    }
   ],
   "source": [
    "a+b+c+d"
   ]
  },
  {
   "cell_type": "code",
   "execution_count": 14,
   "id": "c7031247",
   "metadata": {},
   "outputs": [
    {
     "data": {
      "text/plain": [
       "str"
      ]
     },
     "execution_count": 14,
     "metadata": {},
     "output_type": "execute_result"
    }
   ],
   "source": [
    "type(e)"
   ]
  },
  {
   "cell_type": "code",
   "execution_count": 15,
   "id": "748b29b3",
   "metadata": {},
   "outputs": [
    {
     "data": {
      "text/plain": [
       "str"
      ]
     },
     "execution_count": 15,
     "metadata": {},
     "output_type": "execute_result"
    }
   ],
   "source": [
    "type(f)"
   ]
  },
  {
   "cell_type": "code",
   "execution_count": 16,
   "id": "2a3a7036",
   "metadata": {},
   "outputs": [
    {
     "data": {
      "text/plain": [
       "'sam sam sam sam '"
      ]
     },
     "execution_count": 16,
     "metadata": {},
     "output_type": "execute_result"
    }
   ],
   "source": [
    "a*4"
   ]
  },
  {
   "cell_type": "code",
   "execution_count": 17,
   "id": "5102b2be",
   "metadata": {},
   "outputs": [],
   "source": [
    "x='today is a beautiful day'"
   ]
  },
  {
   "cell_type": "code",
   "execution_count": 19,
   "id": "34a3dd26",
   "metadata": {},
   "outputs": [
    {
     "data": {
      "text/plain": [
       "True"
      ]
     },
     "execution_count": 19,
     "metadata": {},
     "output_type": "execute_result"
    }
   ],
   "source": [
    "'Today' not in x"
   ]
  },
  {
   "cell_type": "code",
   "execution_count": 20,
   "id": "d27a6328",
   "metadata": {},
   "outputs": [
    {
     "data": {
      "text/plain": [
       "True"
      ]
     },
     "execution_count": 20,
     "metadata": {},
     "output_type": "execute_result"
    }
   ],
   "source": [
    "'is' in x"
   ]
  },
  {
   "cell_type": "code",
   "execution_count": 21,
   "id": "e20ea568",
   "metadata": {},
   "outputs": [
    {
     "data": {
      "text/plain": [
       "24"
      ]
     },
     "execution_count": 21,
     "metadata": {},
     "output_type": "execute_result"
    }
   ],
   "source": [
    "len(x)"
   ]
  },
  {
   "cell_type": "code",
   "execution_count": 23,
   "id": "cfee114a",
   "metadata": {},
   "outputs": [
    {
     "data": {
      "text/plain": [
       "'Today is a beautiful day'"
      ]
     },
     "execution_count": 23,
     "metadata": {},
     "output_type": "execute_result"
    }
   ],
   "source": [
    "x.capitalize()"
   ]
  },
  {
   "cell_type": "code",
   "execution_count": 25,
   "id": "df8173af",
   "metadata": {},
   "outputs": [
    {
     "data": {
      "text/plain": [
       "'today is a beautiful day'"
      ]
     },
     "execution_count": 25,
     "metadata": {},
     "output_type": "execute_result"
    }
   ],
   "source": [
    "x.format()"
   ]
  },
  {
   "cell_type": "code",
   "execution_count": 26,
   "id": "309a59b8",
   "metadata": {},
   "outputs": [
    {
     "data": {
      "text/plain": [
       "b'today is a beautiful day'"
      ]
     },
     "execution_count": 26,
     "metadata": {},
     "output_type": "execute_result"
    }
   ],
   "source": [
    "x.encode()"
   ]
  },
  {
   "cell_type": "code",
   "execution_count": 27,
   "id": "83e2a0c3",
   "metadata": {},
   "outputs": [
    {
     "data": {
      "text/plain": [
       "'t'"
      ]
     },
     "execution_count": 27,
     "metadata": {},
     "output_type": "execute_result"
    }
   ],
   "source": [
    "x[0]"
   ]
  },
  {
   "cell_type": "code",
   "execution_count": 28,
   "id": "8c2cbb9c",
   "metadata": {},
   "outputs": [
    {
     "data": {
      "text/plain": [
       "'e'"
      ]
     },
     "execution_count": 28,
     "metadata": {},
     "output_type": "execute_result"
    }
   ],
   "source": [
    "x[12]"
   ]
  },
  {
   "cell_type": "code",
   "execution_count": 29,
   "id": "433ea444",
   "metadata": {},
   "outputs": [
    {
     "data": {
      "text/plain": [
       "'day'"
      ]
     },
     "execution_count": 29,
     "metadata": {},
     "output_type": "execute_result"
    }
   ],
   "source": [
    "x[2:5] #slicing"
   ]
  },
  {
   "cell_type": "code",
   "execution_count": 32,
   "id": "3b82cba9",
   "metadata": {},
   "outputs": [
    {
     "data": {
      "text/plain": [
       "'d'"
      ]
     },
     "execution_count": 32,
     "metadata": {},
     "output_type": "execute_result"
    }
   ],
   "source": [
    "x[2]"
   ]
  },
  {
   "cell_type": "code",
   "execution_count": 33,
   "id": "f9f8a318",
   "metadata": {},
   "outputs": [
    {
     "data": {
      "text/plain": [
       "'a'"
      ]
     },
     "execution_count": 33,
     "metadata": {},
     "output_type": "execute_result"
    }
   ],
   "source": [
    "x[-2]"
   ]
  },
  {
   "cell_type": "code",
   "execution_count": 34,
   "id": "66c2865d",
   "metadata": {},
   "outputs": [
    {
     "data": {
      "text/plain": [
       "'i'"
      ]
     },
     "execution_count": 34,
     "metadata": {},
     "output_type": "execute_result"
    }
   ],
   "source": [
    "x[-18]"
   ]
  },
  {
   "cell_type": "code",
   "execution_count": 37,
   "id": "7a4461b1",
   "metadata": {},
   "outputs": [
    {
     "data": {
      "text/plain": [
       "'Gayan is 28 years old'"
      ]
     },
     "execution_count": 37,
     "metadata": {},
     "output_type": "execute_result"
    }
   ],
   "source": [
    "name='Gayan'\n",
    "age=28\n",
    "name+' is '+ str(28) + ' years old'"
   ]
  },
  {
   "cell_type": "code",
   "execution_count": 44,
   "id": "2499b011",
   "metadata": {},
   "outputs": [
    {
     "data": {
      "text/plain": [
       "'supun is 28 years old'"
      ]
     },
     "execution_count": 44,
     "metadata": {},
     "output_type": "execute_result"
    }
   ],
   "source": [
    "name='supun'\n",
    "age=28\n",
    "\n",
    "msg=f\"{name} is {age} years old\"\n",
    "msg"
   ]
  },
  {
   "cell_type": "code",
   "execution_count": 47,
   "id": "33b5d344",
   "metadata": {},
   "outputs": [
    {
     "name": "stdout",
     "output_type": "stream",
     "text": [
      "Enter your name:Srimal\n",
      "Enter your age:29\n"
     ]
    },
    {
     "data": {
      "text/plain": [
       "'Srimal is 29 years old'"
      ]
     },
     "execution_count": 47,
     "metadata": {},
     "output_type": "execute_result"
    }
   ],
   "source": [
    "name=input(\"Enter your name:\")\n",
    "age=int(input('Enter your age:'))\n",
    "\n",
    "msg=\"{} is {} years old\".format(name,age)\n",
    "msg"
   ]
  },
  {
   "cell_type": "code",
   "execution_count": 54,
   "id": "0364dc93",
   "metadata": {},
   "outputs": [
    {
     "name": "stdout",
     "output_type": "stream",
     "text": [
      "Enter the value 01:200\n",
      "Enter the value 02:300\n"
     ]
    },
    {
     "data": {
      "text/plain": [
       "'200 +300= 500'"
      ]
     },
     "execution_count": 54,
     "metadata": {},
     "output_type": "execute_result"
    }
   ],
   "source": [
    "num1=int(input(\"Enter the value 01:\"))\n",
    "num2=int(input(\"Enter the value 02:\"))\n",
    "\n",
    "f\"{num1} +{num2}= {num1+num2}\""
   ]
  },
  {
   "cell_type": "code",
   "execution_count": 55,
   "id": "35de18f0",
   "metadata": {},
   "outputs": [
    {
     "name": "stdout",
     "output_type": "stream",
     "text": [
      "Enter the value 01:250\n",
      "Enter the value 02:500\n"
     ]
    },
    {
     "data": {
      "text/plain": [
       "'250 +500= 750'"
      ]
     },
     "execution_count": 55,
     "metadata": {},
     "output_type": "execute_result"
    }
   ],
   "source": [
    "num1=int(input(\"Enter the value 01:\"))\n",
    "num2=int(input(\"Enter the value 02:\"))\n",
    "\n",
    "\"{} +{}= {}\".format(num1,num2,num1+num2)"
   ]
  },
  {
   "cell_type": "code",
   "execution_count": 56,
   "id": "f50ac079",
   "metadata": {},
   "outputs": [],
   "source": [
    "msg=\"Have a nice day\""
   ]
  },
  {
   "cell_type": "code",
   "execution_count": 57,
   "id": "6a2b9750",
   "metadata": {},
   "outputs": [
    {
     "data": {
      "text/plain": [
       "str"
      ]
     },
     "execution_count": 57,
     "metadata": {},
     "output_type": "execute_result"
    }
   ],
   "source": [
    "type(msg)"
   ]
  },
  {
   "cell_type": "code",
   "execution_count": 58,
   "id": "a077bbfc",
   "metadata": {},
   "outputs": [
    {
     "data": {
      "text/plain": [
       "'Have a nice day'"
      ]
     },
     "execution_count": 58,
     "metadata": {},
     "output_type": "execute_result"
    }
   ],
   "source": [
    "msg.capitalize()"
   ]
  },
  {
   "cell_type": "code",
   "execution_count": 59,
   "id": "08ea7dba",
   "metadata": {},
   "outputs": [
    {
     "data": {
      "text/plain": [
       "b'Have a nice day'"
      ]
     },
     "execution_count": 59,
     "metadata": {},
     "output_type": "execute_result"
    }
   ],
   "source": [
    "msg.encode()"
   ]
  },
  {
   "cell_type": "code",
   "execution_count": 60,
   "id": "4e9550a3",
   "metadata": {},
   "outputs": [
    {
     "data": {
      "text/plain": [
       "'HAVE A NICE DAY'"
      ]
     },
     "execution_count": 60,
     "metadata": {},
     "output_type": "execute_result"
    }
   ],
   "source": [
    "msg.upper()"
   ]
  },
  {
   "cell_type": "code",
   "execution_count": 61,
   "id": "1884c00f",
   "metadata": {},
   "outputs": [
    {
     "data": {
      "text/plain": [
       "7"
      ]
     },
     "execution_count": 61,
     "metadata": {},
     "output_type": "execute_result"
    }
   ],
   "source": [
    "msg.find(\"ni\")"
   ]
  },
  {
   "cell_type": "code",
   "execution_count": 67,
   "id": "91d12273",
   "metadata": {},
   "outputs": [
    {
     "data": {
      "text/plain": [
       "3"
      ]
     },
     "execution_count": 67,
     "metadata": {},
     "output_type": "execute_result"
    }
   ],
   "source": [
    "msg.count(\"a\")"
   ]
  },
  {
   "cell_type": "code",
   "execution_count": 68,
   "id": "df21e2b7",
   "metadata": {},
   "outputs": [
    {
     "data": {
      "text/plain": [
       "'Have a good day'"
      ]
     },
     "execution_count": 68,
     "metadata": {},
     "output_type": "execute_result"
    }
   ],
   "source": [
    "msg.replace('nice','good')"
   ]
  },
  {
   "cell_type": "code",
   "execution_count": 69,
   "id": "b1e0ecd6",
   "metadata": {},
   "outputs": [],
   "source": [
    "k=\"Have a nice day\""
   ]
  },
  {
   "cell_type": "code",
   "execution_count": 70,
   "id": "4f81faf0",
   "metadata": {},
   "outputs": [
    {
     "data": {
      "text/plain": [
       "['H', 've ', ' nice d', 'y']"
      ]
     },
     "execution_count": 70,
     "metadata": {},
     "output_type": "execute_result"
    }
   ],
   "source": [
    "k.split('a')"
   ]
  },
  {
   "cell_type": "code",
   "execution_count": 71,
   "id": "a86350c6",
   "metadata": {},
   "outputs": [],
   "source": [
    "s=[\"cat\",\"Dog\", \"cow\"]"
   ]
  },
  {
   "cell_type": "code",
   "execution_count": 72,
   "id": "8d049931",
   "metadata": {},
   "outputs": [],
   "source": [
    "nimal=\" \".join(s)"
   ]
  },
  {
   "cell_type": "code",
   "execution_count": 73,
   "id": "0488c145",
   "metadata": {},
   "outputs": [
    {
     "data": {
      "text/plain": [
       "'cat Dog cow'"
      ]
     },
     "execution_count": 73,
     "metadata": {},
     "output_type": "execute_result"
    }
   ],
   "source": [
    "nimal"
   ]
  },
  {
   "cell_type": "code",
   "execution_count": 74,
   "id": "2a2e572a",
   "metadata": {},
   "outputs": [
    {
     "data": {
      "text/plain": [
       "['H', 'a', 'v', 'e', ' ', 'a', ' ', 'n', 'i', 'c', 'e', ' ', 'd', 'a', 'y']"
      ]
     },
     "execution_count": 74,
     "metadata": {},
     "output_type": "execute_result"
    }
   ],
   "source": [
    "list(msg)"
   ]
  },
  {
   "cell_type": "code",
   "execution_count": 75,
   "id": "15ebd871",
   "metadata": {},
   "outputs": [
    {
     "data": {
      "text/plain": [
       "('H', 'a', 'v', 'e', ' ', 'a', ' ', 'n', 'i', 'c', 'e', ' ', 'd', 'a', 'y')"
      ]
     },
     "execution_count": 75,
     "metadata": {},
     "output_type": "execute_result"
    }
   ],
   "source": [
    "tuple(msg)"
   ]
  },
  {
   "cell_type": "code",
   "execution_count": 77,
   "id": "2655dab4",
   "metadata": {},
   "outputs": [
    {
     "data": {
      "text/plain": [
       "{' ', 'H', 'a', 'c', 'd', 'e', 'i', 'n', 'v', 'y'}"
      ]
     },
     "execution_count": 77,
     "metadata": {},
     "output_type": "execute_result"
    }
   ],
   "source": [
    "set(msg) #unic values are hear"
   ]
  },
  {
   "cell_type": "code",
   "execution_count": 81,
   "id": "89715b43",
   "metadata": {},
   "outputs": [
    {
     "name": "stdout",
     "output_type": "stream",
     "text": [
      "Today is sunny day. \n",
      "But it will be raining in the evening \n"
     ]
    }
   ],
   "source": [
    "print(\"Today is sunny day. \\nBut it will be raining in the evening \") #escaping characters-new line"
   ]
  },
  {
   "cell_type": "code",
   "execution_count": 87,
   "id": "3e0ebb16",
   "metadata": {},
   "outputs": [
    {
     "name": "stdout",
     "output_type": "stream",
     "text": [
      "Today is sunny day.\bBut it will be raining in the evening \n"
     ]
    }
   ],
   "source": [
    "print(\"Today is sunny day.\\bBut it will be raining in the evening \") #escaping characters-back space"
   ]
  },
  {
   "cell_type": "code",
   "execution_count": 88,
   "id": "cf14fc76",
   "metadata": {},
   "outputs": [
    {
     "name": "stdout",
     "output_type": "stream",
     "text": [
      "Today is sunny day. \tBut it will be raining in the evening \n"
     ]
    }
   ],
   "source": [
    "print(\"Today is sunny day. \\tBut it will be raining in the evening \") #escaping characters-tab space"
   ]
  },
  {
   "cell_type": "code",
   "execution_count": 90,
   "id": "41b4868b",
   "metadata": {},
   "outputs": [
    {
     "name": "stdout",
     "output_type": "stream",
     "text": [
      "Today is sunny day.\b\b\bBut it will be raining in the evening \n"
     ]
    }
   ],
   "source": [
    "print(\"Today is sunny day.\\b\\b\\bBut it will be raining in the evening \") #escaping characters"
   ]
  },
  {
   "cell_type": "code",
   "execution_count": 92,
   "id": "2933c65f",
   "metadata": {},
   "outputs": [
    {
     "name": "stdout",
     "output_type": "stream",
     "text": [
      "Saman says that 'I am so hungry'\n"
     ]
    }
   ],
   "source": [
    "print('Saman says that \\'I am so hungry\\'')"
   ]
  },
  {
   "cell_type": "code",
   "execution_count": 93,
   "id": "cdfe07ef",
   "metadata": {},
   "outputs": [
    {
     "name": "stdout",
     "output_type": "stream",
     "text": [
      "Saman says that \"I am so hungry\" \n"
     ]
    }
   ],
   "source": [
    "print('Saman says that \"I am so hungry\" ')"
   ]
  },
  {
   "cell_type": "code",
   "execution_count": 1,
   "id": "3b2567ad",
   "metadata": {},
   "outputs": [
    {
     "name": "stdout",
     "output_type": "stream",
     "text": [
      "I like to eat mango \\banana\n"
     ]
    }
   ],
   "source": [
    "print(\"I like to eat mango \\\\banana\")"
   ]
  },
  {
   "cell_type": "code",
   "execution_count": null,
   "id": "a4a9157a",
   "metadata": {},
   "outputs": [],
   "source": []
  }
 ],
 "metadata": {
  "kernelspec": {
   "display_name": "Python 3 (ipykernel)",
   "language": "python",
   "name": "python3"
  },
  "language_info": {
   "codemirror_mode": {
    "name": "ipython",
    "version": 3
   },
   "file_extension": ".py",
   "mimetype": "text/x-python",
   "name": "python",
   "nbconvert_exporter": "python",
   "pygments_lexer": "ipython3",
   "version": "3.9.13"
  }
 },
 "nbformat": 4,
 "nbformat_minor": 5
}
