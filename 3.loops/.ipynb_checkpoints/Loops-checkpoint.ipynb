{
 "cells": [
  {
   "cell_type": "code",
   "execution_count": 3,
   "id": "b1493832",
   "metadata": {},
   "outputs": [
    {
     "name": "stdout",
     "output_type": "stream",
     "text": [
      "2\n",
      "3\n",
      "3\n",
      "4\n",
      "5\n",
      "7\n",
      "9\n"
     ]
    }
   ],
   "source": [
    "L=[2,3,3,4,5,7,9]\n",
    "\n",
    "for k in L:\n",
    "    print(k)"
   ]
  },
  {
   "cell_type": "code",
   "execution_count": 4,
   "id": "6c4568ca",
   "metadata": {},
   "outputs": [
    {
     "data": {
      "text/plain": [
       "False"
      ]
     },
     "execution_count": 4,
     "metadata": {},
     "output_type": "execute_result"
    }
   ],
   "source": [
    "x=5\n",
    "x%2==0"
   ]
  },
  {
   "cell_type": "code",
   "execution_count": 12,
   "id": "2b1e2440",
   "metadata": {},
   "outputs": [
    {
     "name": "stdout",
     "output_type": "stream",
     "text": [
      "8\n",
      "16\n",
      "24\n",
      "32\n",
      "48\n",
      "56\n",
      "64\n",
      "72\n",
      "72\n"
     ]
    }
   ],
   "source": [
    "a=[1,2,3,4,6,7,8,9,9]\n",
    "a1=[]\n",
    "for i in a:\n",
    "    print(8*i)\n",
    "    "
   ]
  },
  {
   "cell_type": "code",
   "execution_count": 6,
   "id": "0cbdd620",
   "metadata": {},
   "outputs": [
    {
     "name": "stdout",
     "output_type": "stream",
     "text": [
      "[2, 4]\n"
     ]
    }
   ],
   "source": [
    "L=[2,3,4,5,7,9]\n",
    "L1=[]\n",
    "for k in L:\n",
    "    if k%2==0:\n",
    "        L1.append(k)\n",
    "        \n",
    "print(L1)\n",
    "       "
   ]
  },
  {
   "cell_type": "code",
   "execution_count": 2,
   "id": "59417e64",
   "metadata": {},
   "outputs": [
    {
     "data": {
      "text/plain": [
       "True"
      ]
     },
     "execution_count": 2,
     "metadata": {},
     "output_type": "execute_result"
    }
   ],
   "source": [
    "x=4\n",
    "x%2==0"
   ]
  },
  {
   "cell_type": "code",
   "execution_count": 7,
   "id": "e49e4a81",
   "metadata": {},
   "outputs": [],
   "source": [
    "?print"
   ]
  },
  {
   "cell_type": "code",
   "execution_count": 11,
   "id": "fcd21b72",
   "metadata": {},
   "outputs": [
    {
     "name": "stdout",
     "output_type": "stream",
     "text": [
      "Cat Dog\n"
     ]
    }
   ],
   "source": [
    " print(\"Cat\",end=\" \")\n",
    "print(\"Dog\")"
   ]
  },
  {
   "cell_type": "code",
   "execution_count": 17,
   "id": "b0131593",
   "metadata": {},
   "outputs": [
    {
     "data": {
      "text/plain": [
       "[3, 4, 5, 6, 7, 8, 9]"
      ]
     },
     "execution_count": 17,
     "metadata": {},
     "output_type": "execute_result"
    }
   ],
   "source": [
    "list(range(3,10))"
   ]
  },
  {
   "cell_type": "code",
   "execution_count": 18,
   "id": "9e968646",
   "metadata": {},
   "outputs": [
    {
     "data": {
      "text/plain": [
       "[3, 7]"
      ]
     },
     "execution_count": 18,
     "metadata": {},
     "output_type": "execute_result"
    }
   ],
   "source": [
    "list(range(3,10,4))"
   ]
  },
  {
   "cell_type": "code",
   "execution_count": 20,
   "id": "3ba06999",
   "metadata": {},
   "outputs": [
    {
     "data": {
      "text/plain": [
       "[20, 19, 18, 17, 16, 15, 14, 13, 12, 11]"
      ]
     },
     "execution_count": 20,
     "metadata": {},
     "output_type": "execute_result"
    }
   ],
   "source": [
    "list(range(20,10,-1))"
   ]
  },
  {
   "cell_type": "code",
   "execution_count": 21,
   "id": "483f6f55",
   "metadata": {},
   "outputs": [],
   "source": [
    "v=[1,2,2,3,4,5,5,6,7,88,9,0,0,]"
   ]
  },
  {
   "cell_type": "code",
   "execution_count": 22,
   "id": "3e94d8ba",
   "metadata": {},
   "outputs": [
    {
     "data": {
      "text/plain": [
       "13"
      ]
     },
     "execution_count": 22,
     "metadata": {},
     "output_type": "execute_result"
    }
   ],
   "source": [
    "len(v)"
   ]
  },
  {
   "cell_type": "code",
   "execution_count": 23,
   "id": "87db6c76",
   "metadata": {},
   "outputs": [
    {
     "data": {
      "text/plain": [
       "[0, 1, 2, 3, 4, 5, 6, 7, 8, 9, 10, 11, 12]"
      ]
     },
     "execution_count": 23,
     "metadata": {},
     "output_type": "execute_result"
    }
   ],
   "source": [
    "list(range(len(v)))"
   ]
  },
  {
   "cell_type": "code",
   "execution_count": 25,
   "id": "869d45fe",
   "metadata": {},
   "outputs": [
    {
     "name": "stdout",
     "output_type": "stream",
     "text": [
      "2\n",
      "3\n",
      "5\n",
      "6\n",
      "88\n",
      "0\n"
     ]
    }
   ],
   "source": [
    "for i in range(len(v)):\n",
    "    if i%2==1:\n",
    "        print(v[i])"
   ]
  },
  {
   "cell_type": "code",
   "execution_count": 34,
   "id": "1e5ebb46",
   "metadata": {},
   "outputs": [
    {
     "name": "stdout",
     "output_type": "stream",
     "text": [
      "[1, 3, 5, 7, 9, 11, 13, 15, 17, 19]\n",
      "[2, 4, 6, 8, 10, 12, 14, 16, 18, 20]\n"
     ]
    }
   ],
   "source": [
    "L_odd=[]\n",
    "L_even=[]\n",
    "\n",
    "for i in range(1,21):\n",
    "    if i%2==0:\n",
    "        L_even.append(i)\n",
    "    else:\n",
    "        L_odd.append(i)\n",
    "        \n",
    "\n",
    "print(L_odd)\n",
    "print(L_even)\n",
    "        "
   ]
  },
  {
   "cell_type": "code",
   "execution_count": 36,
   "id": "6308d80f",
   "metadata": {},
   "outputs": [
    {
     "name": "stdout",
     "output_type": "stream",
     "text": [
      "[11, 13, 15, 17, 19, 21, 23, 25, 27, 29, 31, 33, 35, 37, 39, 41, 43, 45, 47, 49, 51, 53, 55, 57, 59, 61, 63, 65, 67, 69, 71, 73, 75, 77, 79, 81, 83, 85, 87, 89, 91, 93, 95, 97, 99]\n",
      "[10, 12, 14, 16, 18, 20, 22, 24, 26, 28, 30, 32, 34, 36, 38, 40, 42, 44, 46, 48, 50, 52, 54, 56, 58, 60, 62, 64, 66, 68, 70, 72, 74, 76, 78, 80, 82, 84, 86, 88, 90, 92, 94, 96, 98]\n"
     ]
    }
   ],
   "source": [
    "c=[]\n",
    "d=[]\n",
    "\n",
    "for i in range(10,100):\n",
    "    if i%2==1:\n",
    "        c.append(i)\n",
    "    else:\n",
    "        d.append(i)\n",
    "        \n",
    "print(c)\n",
    "\n",
    "\n",
    "print(d)"
   ]
  },
  {
   "cell_type": "code",
   "execution_count": 37,
   "id": "4ffa9ffa",
   "metadata": {},
   "outputs": [],
   "source": [
    "l=[10,20,30,40,50,60]"
   ]
  },
  {
   "cell_type": "code",
   "execution_count": 38,
   "id": "5086623c",
   "metadata": {},
   "outputs": [
    {
     "data": {
      "text/plain": [
       "[10, 20, 30, 40, 50, 60]"
      ]
     },
     "execution_count": 38,
     "metadata": {},
     "output_type": "execute_result"
    }
   ],
   "source": [
    "l"
   ]
  },
  {
   "cell_type": "code",
   "execution_count": 41,
   "id": "59fd3b3d",
   "metadata": {},
   "outputs": [
    {
     "name": "stdout",
     "output_type": "stream",
     "text": [
      "10\n",
      "20\n",
      "30\n",
      "40\n"
     ]
    }
   ],
   "source": [
    "for j in l:\n",
    "    if j>=50:\n",
    "        break\n",
    "    print(j)"
   ]
  },
  {
   "cell_type": "code",
   "execution_count": 42,
   "id": "b14c0519",
   "metadata": {},
   "outputs": [
    {
     "name": "stdout",
     "output_type": "stream",
     "text": [
      "10\n",
      "20\n",
      "30\n",
      "40\n"
     ]
    }
   ],
   "source": [
    "for j in l:\n",
    "    if j>=50:\n",
    "        continue\n",
    "    print(j)"
   ]
  },
  {
   "cell_type": "code",
   "execution_count": 43,
   "id": "90d453b2",
   "metadata": {},
   "outputs": [],
   "source": [
    "L1=[]\n",
    "for i in l:\n",
    "    L1.append(2*i)"
   ]
  },
  {
   "cell_type": "code",
   "execution_count": 44,
   "id": "ccc5ba57",
   "metadata": {},
   "outputs": [
    {
     "data": {
      "text/plain": [
       "[20, 40, 60, 80, 100, 120]"
      ]
     },
     "execution_count": 44,
     "metadata": {},
     "output_type": "execute_result"
    }
   ],
   "source": [
    "L1"
   ]
  },
  {
   "cell_type": "code",
   "execution_count": 46,
   "id": "d7456d0b",
   "metadata": {},
   "outputs": [
    {
     "data": {
      "text/plain": [
       "[2,\n",
       " 4,\n",
       " 6,\n",
       " 8,\n",
       " 10,\n",
       " 12,\n",
       " 14,\n",
       " 16,\n",
       " 18,\n",
       " 20,\n",
       " 22,\n",
       " 24,\n",
       " 26,\n",
       " 28,\n",
       " 30,\n",
       " 32,\n",
       " 34,\n",
       " 36,\n",
       " 38,\n",
       " 40,\n",
       " 42,\n",
       " 44,\n",
       " 46,\n",
       " 48]"
      ]
     },
     "execution_count": 46,
     "metadata": {},
     "output_type": "execute_result"
    }
   ],
   "source": [
    "list(range(2,50,2))"
   ]
  },
  {
   "cell_type": "code",
   "execution_count": 49,
   "id": "b879da3c",
   "metadata": {},
   "outputs": [],
   "source": [
    "L3=[5*i for i in range(1,26)]"
   ]
  },
  {
   "cell_type": "code",
   "execution_count": 50,
   "id": "5293ef58",
   "metadata": {},
   "outputs": [
    {
     "data": {
      "text/plain": [
       "[5,\n",
       " 10,\n",
       " 15,\n",
       " 20,\n",
       " 25,\n",
       " 30,\n",
       " 35,\n",
       " 40,\n",
       " 45,\n",
       " 50,\n",
       " 55,\n",
       " 60,\n",
       " 65,\n",
       " 70,\n",
       " 75,\n",
       " 80,\n",
       " 85,\n",
       " 90,\n",
       " 95,\n",
       " 100,\n",
       " 105,\n",
       " 110,\n",
       " 115,\n",
       " 120,\n",
       " 125]"
      ]
     },
     "execution_count": 50,
     "metadata": {},
     "output_type": "execute_result"
    }
   ],
   "source": [
    "L3"
   ]
  },
  {
   "cell_type": "code",
   "execution_count": 52,
   "id": "fdff1c54",
   "metadata": {},
   "outputs": [],
   "source": [
    "Q=[i for i in L3 if i>=50]\n"
   ]
  },
  {
   "cell_type": "code",
   "execution_count": 53,
   "id": "67210679",
   "metadata": {},
   "outputs": [
    {
     "data": {
      "text/plain": [
       "[50, 55, 60, 65, 70, 75, 80, 85, 90, 95, 100, 105, 110, 115, 120, 125]"
      ]
     },
     "execution_count": 53,
     "metadata": {},
     "output_type": "execute_result"
    }
   ],
   "source": [
    "Q"
   ]
  },
  {
   "cell_type": "code",
   "execution_count": 54,
   "id": "908d4670",
   "metadata": {},
   "outputs": [],
   "source": [
    "R=['Even' if k%2==0 else 'odd' for k in L]"
   ]
  },
  {
   "cell_type": "code",
   "execution_count": 55,
   "id": "e2a74efc",
   "metadata": {},
   "outputs": [
    {
     "data": {
      "text/plain": [
       "['Even', 'odd', 'Even', 'odd', 'odd', 'odd']"
      ]
     },
     "execution_count": 55,
     "metadata": {},
     "output_type": "execute_result"
    }
   ],
   "source": [
    "R"
   ]
  },
  {
   "cell_type": "code",
   "execution_count": 61,
   "id": "3e348aad",
   "metadata": {},
   "outputs": [],
   "source": [
    "marks=[23,45,76,59,30,19,67,94,56,88,]\n",
    "\n",
    "results=['pass' if m>=50 else 'fail' for m in marks]"
   ]
  },
  {
   "cell_type": "code",
   "execution_count": 62,
   "id": "8fc4f9c1",
   "metadata": {},
   "outputs": [
    {
     "data": {
      "text/plain": [
       "['fail',\n",
       " 'fail',\n",
       " 'pass',\n",
       " 'pass',\n",
       " 'fail',\n",
       " 'fail',\n",
       " 'pass',\n",
       " 'pass',\n",
       " 'pass',\n",
       " 'pass']"
      ]
     },
     "execution_count": 62,
     "metadata": {},
     "output_type": "execute_result"
    }
   ],
   "source": [
    "results"
   ]
  },
  {
   "cell_type": "code",
   "execution_count": 63,
   "id": "5dc4df10",
   "metadata": {},
   "outputs": [],
   "source": [
    "grade=['A' if m>=80 else 'B' if m>=60 else 'C' if m>=50 else 'S' for m in marks]"
   ]
  },
  {
   "cell_type": "code",
   "execution_count": 64,
   "id": "bec12c09",
   "metadata": {},
   "outputs": [
    {
     "data": {
      "text/plain": [
       "['S', 'S', 'B', 'C', 'S', 'S', 'B', 'A', 'C', 'A']"
      ]
     },
     "execution_count": 64,
     "metadata": {},
     "output_type": "execute_result"
    }
   ],
   "source": [
    "grade"
   ]
  },
  {
   "cell_type": "code",
   "execution_count": 65,
   "id": "c25f756d",
   "metadata": {},
   "outputs": [],
   "source": [
    "y=[10,20,30,40,50]\n",
    "z=[100,200,300,400,500]"
   ]
  },
  {
   "cell_type": "code",
   "execution_count": 66,
   "id": "9f28b600",
   "metadata": {},
   "outputs": [
    {
     "data": {
      "text/plain": [
       "<zip at 0x1bedce3ebc0>"
      ]
     },
     "execution_count": 66,
     "metadata": {},
     "output_type": "execute_result"
    }
   ],
   "source": [
    "zip(y,z)"
   ]
  },
  {
   "cell_type": "code",
   "execution_count": 67,
   "id": "3e857b38",
   "metadata": {},
   "outputs": [
    {
     "data": {
      "text/plain": [
       "[(10, 100), (20, 200), (30, 300), (40, 400), (50, 500)]"
      ]
     },
     "execution_count": 67,
     "metadata": {},
     "output_type": "execute_result"
    }
   ],
   "source": [
    "list(zip(y,z))"
   ]
  },
  {
   "cell_type": "code",
   "execution_count": 70,
   "id": "f778b712",
   "metadata": {},
   "outputs": [
    {
     "name": "stdout",
     "output_type": "stream",
     "text": [
      "(10, 100)\n",
      "(20, 200)\n",
      "(30, 300)\n",
      "(40, 400)\n",
      "(50, 500)\n"
     ]
    }
   ],
   "source": [
    "for j in zip(y,z):\n",
    "    print(j)"
   ]
  },
  {
   "cell_type": "code",
   "execution_count": 71,
   "id": "be37f01c",
   "metadata": {},
   "outputs": [
    {
     "name": "stdout",
     "output_type": "stream",
     "text": [
      "10 100\n",
      "20 200\n",
      "30 300\n",
      "40 400\n",
      "50 500\n"
     ]
    }
   ],
   "source": [
    "for j,k in zip(y,z):\n",
    "    print(j,k)"
   ]
  },
  {
   "cell_type": "code",
   "execution_count": 72,
   "id": "84baee1e",
   "metadata": {},
   "outputs": [
    {
     "name": "stdout",
     "output_type": "stream",
     "text": [
      "100\n",
      "200\n",
      "300\n",
      "400\n",
      "500\n"
     ]
    }
   ],
   "source": [
    "for j,k in zip(y,z):\n",
    "    print(k)"
   ]
  },
  {
   "cell_type": "code",
   "execution_count": null,
   "id": "99f409e3",
   "metadata": {},
   "outputs": [],
   "source": []
  }
 ],
 "metadata": {
  "kernelspec": {
   "display_name": "Python 3 (ipykernel)",
   "language": "python",
   "name": "python3"
  },
  "language_info": {
   "codemirror_mode": {
    "name": "ipython",
    "version": 3
   },
   "file_extension": ".py",
   "mimetype": "text/x-python",
   "name": "python",
   "nbconvert_exporter": "python",
   "pygments_lexer": "ipython3",
   "version": "3.9.13"
  }
 },
 "nbformat": 4,
 "nbformat_minor": 5
}
