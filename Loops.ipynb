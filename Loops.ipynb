{
 "cells": [
  {
   "cell_type": "code",
   "execution_count": 3,
   "id": "b1493832",
   "metadata": {},
   "outputs": [
    {
     "name": "stdout",
     "output_type": "stream",
     "text": [
      "2\n",
      "3\n",
      "3\n",
      "4\n",
      "5\n",
      "7\n",
      "9\n"
     ]
    }
   ],
   "source": [
    "L=[2,3,3,4,5,7,9]\n",
    "\n",
    "for k in L:\n",
    "    print(k)"
   ]
  },
  {
   "cell_type": "code",
   "execution_count": 4,
   "id": "6c4568ca",
   "metadata": {},
   "outputs": [
    {
     "data": {
      "text/plain": [
       "False"
      ]
     },
     "execution_count": 4,
     "metadata": {},
     "output_type": "execute_result"
    }
   ],
   "source": [
    "x=5\n",
    "x%2==0"
   ]
  },
  {
   "cell_type": "code",
   "execution_count": 12,
   "id": "2b1e2440",
   "metadata": {},
   "outputs": [
    {
     "name": "stdout",
     "output_type": "stream",
     "text": [
      "8\n",
      "16\n",
      "24\n",
      "32\n",
      "48\n",
      "56\n",
      "64\n",
      "72\n",
      "72\n"
     ]
    }
   ],
   "source": [
    "a=[1,2,3,4,6,7,8,9,9]\n",
    "a1=[]\n",
    "for i in a:\n",
    "    print(8*i)\n",
    "    "
   ]
  },
  {
   "cell_type": "code",
   "execution_count": 6,
   "id": "0cbdd620",
   "metadata": {},
   "outputs": [
    {
     "name": "stdout",
     "output_type": "stream",
     "text": [
      "[2, 4]\n"
     ]
    }
   ],
   "source": [
    "L=[2,3,4,5,7,9]\n",
    "L1=[]\n",
    "for k in L:\n",
    "    if k%2==0:\n",
    "        L1.append(k)\n",
    "        \n",
    "print(L1)\n",
    "       "
   ]
  },
  {
   "cell_type": "code",
   "execution_count": 2,
   "id": "59417e64",
   "metadata": {},
   "outputs": [
    {
     "data": {
      "text/plain": [
       "True"
      ]
     },
     "execution_count": 2,
     "metadata": {},
     "output_type": "execute_result"
    }
   ],
   "source": [
    "x=4\n",
    "x%2==0"
   ]
  },
  {
   "cell_type": "code",
   "execution_count": 7,
   "id": "e49e4a81",
   "metadata": {},
   "outputs": [],
   "source": [
    "?print"
   ]
  },
  {
   "cell_type": "code",
   "execution_count": 11,
   "id": "0d576d13",
   "metadata": {},
   "outputs": [
    {
     "name": "stdout",
     "output_type": "stream",
     "text": [
      "Cat Dog\n"
     ]
    }
   ],
   "source": [
    " print(\"Cat\",end=\" \")\n",
    "print(\"Dog\")"
   ]
  },
  {
   "cell_type": "code",
   "execution_count": 17,
   "id": "20200488",
   "metadata": {},
   "outputs": [
    {
     "data": {
      "text/plain": [
       "[3, 4, 5, 6, 7, 8, 9]"
      ]
     },
     "execution_count": 17,
     "metadata": {},
     "output_type": "execute_result"
    }
   ],
   "source": [
    "list(range(3,10))"
   ]
  },
  {
   "cell_type": "code",
   "execution_count": 18,
   "id": "dbab43c7",
   "metadata": {},
   "outputs": [
    {
     "data": {
      "text/plain": [
       "[3, 7]"
      ]
     },
     "execution_count": 18,
     "metadata": {},
     "output_type": "execute_result"
    }
   ],
   "source": [
    "list(range(3,10,4))"
   ]
  },
  {
   "cell_type": "code",
   "execution_count": 20,
   "id": "d4a0a1b7",
   "metadata": {},
   "outputs": [
    {
     "data": {
      "text/plain": [
       "[20, 19, 18, 17, 16, 15, 14, 13, 12, 11]"
      ]
     },
     "execution_count": 20,
     "metadata": {},
     "output_type": "execute_result"
    }
   ],
   "source": [
    "list(range(20,10,-1))"
   ]
  },
  {
   "cell_type": "code",
   "execution_count": 21,
   "id": "97a1d533",
   "metadata": {},
   "outputs": [],
   "source": [
    "v=[1,2,2,3,4,5,5,6,7,88,9,0,0,]"
   ]
  },
  {
   "cell_type": "code",
   "execution_count": 22,
   "id": "b472eb72",
   "metadata": {},
   "outputs": [
    {
     "data": {
      "text/plain": [
       "13"
      ]
     },
     "execution_count": 22,
     "metadata": {},
     "output_type": "execute_result"
    }
   ],
   "source": [
    "len(v)"
   ]
  },
  {
   "cell_type": "code",
   "execution_count": 23,
   "id": "df9a6618",
   "metadata": {},
   "outputs": [
    {
     "data": {
      "text/plain": [
       "[0, 1, 2, 3, 4, 5, 6, 7, 8, 9, 10, 11, 12]"
      ]
     },
     "execution_count": 23,
     "metadata": {},
     "output_type": "execute_result"
    }
   ],
   "source": [
    "list(range(len(v)))"
   ]
  },
  {
   "cell_type": "code",
   "execution_count": 25,
   "id": "dcb6ce98",
   "metadata": {},
   "outputs": [
    {
     "name": "stdout",
     "output_type": "stream",
     "text": [
      "2\n",
      "3\n",
      "5\n",
      "6\n",
      "88\n",
      "0\n"
     ]
    }
   ],
   "source": [
    "for i in range(len(v)):\n",
    "    if i%2==1:\n",
    "        print(v[i])"
   ]
  },
  {
   "cell_type": "code",
   "execution_count": 34,
   "id": "5f54c63d",
   "metadata": {},
   "outputs": [
    {
     "name": "stdout",
     "output_type": "stream",
     "text": [
      "[1, 3, 5, 7, 9, 11, 13, 15, 17, 19]\n",
      "[2, 4, 6, 8, 10, 12, 14, 16, 18, 20]\n"
     ]
    }
   ],
   "source": [
    "L_odd=[]\n",
    "L_even=[]\n",
    "\n",
    "for i in range(1,21):\n",
    "    if i%2==0:\n",
    "        L_even.append(i)\n",
    "    else:\n",
    "        L_odd.append(i)\n",
    "        \n",
    "\n",
    "print(L_odd)\n",
    "print(L_even)\n",
    "        "
   ]
  },
  {
   "cell_type": "code",
   "execution_count": 36,
   "id": "64505694",
   "metadata": {},
   "outputs": [
    {
     "name": "stdout",
     "output_type": "stream",
     "text": [
      "[11, 13, 15, 17, 19, 21, 23, 25, 27, 29, 31, 33, 35, 37, 39, 41, 43, 45, 47, 49, 51, 53, 55, 57, 59, 61, 63, 65, 67, 69, 71, 73, 75, 77, 79, 81, 83, 85, 87, 89, 91, 93, 95, 97, 99]\n",
      "[10, 12, 14, 16, 18, 20, 22, 24, 26, 28, 30, 32, 34, 36, 38, 40, 42, 44, 46, 48, 50, 52, 54, 56, 58, 60, 62, 64, 66, 68, 70, 72, 74, 76, 78, 80, 82, 84, 86, 88, 90, 92, 94, 96, 98]\n"
     ]
    }
   ],
   "source": [
    "c=[]\n",
    "d=[]\n",
    "\n",
    "for i in range(10,100):\n",
    "    if i%2==1:\n",
    "        c.append(i)\n",
    "    else:\n",
    "        d.append(i)\n",
    "        \n",
    "print(c)\n",
    "\n",
    "\n",
    "print(d)"
   ]
  },
  {
   "cell_type": "code",
   "execution_count": 37,
   "id": "22cc3df9",
   "metadata": {},
   "outputs": [],
   "source": [
    "l=[10,20,30,40,50,60]"
   ]
  },
  {
   "cell_type": "code",
   "execution_count": 38,
   "id": "851736c6",
   "metadata": {},
   "outputs": [
    {
     "data": {
      "text/plain": [
       "[10, 20, 30, 40, 50, 60]"
      ]
     },
     "execution_count": 38,
     "metadata": {},
     "output_type": "execute_result"
    }
   ],
   "source": [
    "l"
   ]
  },
  {
   "cell_type": "code",
   "execution_count": 41,
   "id": "825db8bd",
   "metadata": {},
   "outputs": [
    {
     "name": "stdout",
     "output_type": "stream",
     "text": [
      "10\n",
      "20\n",
      "30\n",
      "40\n"
     ]
    }
   ],
   "source": [
    "for j in l:\n",
    "    if j>=50:\n",
    "        break\n",
    "    print(j)"
   ]
  },
  {
   "cell_type": "code",
   "execution_count": 42,
   "id": "0ad4cace",
   "metadata": {},
   "outputs": [
    {
     "name": "stdout",
     "output_type": "stream",
     "text": [
      "10\n",
      "20\n",
      "30\n",
      "40\n"
     ]
    }
   ],
   "source": [
    "for j in l:\n",
    "    if j>=50:\n",
    "        continue\n",
    "    print(j)"
   ]
  },
  {
   "cell_type": "code",
   "execution_count": 43,
   "id": "fbdaa5d3",
   "metadata": {},
   "outputs": [],
   "source": [
    "L1=[]\n",
    "for i in l:\n",
    "    L1.append(2*i)"
   ]
  },
  {
   "cell_type": "code",
   "execution_count": 44,
   "id": "d017d5b7",
   "metadata": {},
   "outputs": [
    {
     "data": {
      "text/plain": [
       "[20, 40, 60, 80, 100, 120]"
      ]
     },
     "execution_count": 44,
     "metadata": {},
     "output_type": "execute_result"
    }
   ],
   "source": [
    "L1"
   ]
  },
  {
   "cell_type": "code",
   "execution_count": 46,
   "id": "90db9f59",
   "metadata": {},
   "outputs": [
    {
     "data": {
      "text/plain": [
       "[2,\n",
       " 4,\n",
       " 6,\n",
       " 8,\n",
       " 10,\n",
       " 12,\n",
       " 14,\n",
       " 16,\n",
       " 18,\n",
       " 20,\n",
       " 22,\n",
       " 24,\n",
       " 26,\n",
       " 28,\n",
       " 30,\n",
       " 32,\n",
       " 34,\n",
       " 36,\n",
       " 38,\n",
       " 40,\n",
       " 42,\n",
       " 44,\n",
       " 46,\n",
       " 48]"
      ]
     },
     "execution_count": 46,
     "metadata": {},
     "output_type": "execute_result"
    }
   ],
   "source": [
    "list(range(2,50,2))"
   ]
  },
  {
   "cell_type": "code",
   "execution_count": 49,
   "id": "b2eb032c",
   "metadata": {},
   "outputs": [],
   "source": [
    "L3=[5*i for i in range(1,26)]"
   ]
  },
  {
   "cell_type": "code",
   "execution_count": 50,
   "id": "77a8d0b7",
   "metadata": {},
   "outputs": [
    {
     "data": {
      "text/plain": [
       "[5,\n",
       " 10,\n",
       " 15,\n",
       " 20,\n",
       " 25,\n",
       " 30,\n",
       " 35,\n",
       " 40,\n",
       " 45,\n",
       " 50,\n",
       " 55,\n",
       " 60,\n",
       " 65,\n",
       " 70,\n",
       " 75,\n",
       " 80,\n",
       " 85,\n",
       " 90,\n",
       " 95,\n",
       " 100,\n",
       " 105,\n",
       " 110,\n",
       " 115,\n",
       " 120,\n",
       " 125]"
      ]
     },
     "execution_count": 50,
     "metadata": {},
     "output_type": "execute_result"
    }
   ],
   "source": [
    "L3"
   ]
  },
  {
   "cell_type": "code",
   "execution_count": 52,
   "id": "d7bf2821",
   "metadata": {},
   "outputs": [],
   "source": [
    "Q=[i for i in L3 if i>=50]\n"
   ]
  },
  {
   "cell_type": "code",
   "execution_count": 53,
   "id": "820922b1",
   "metadata": {},
   "outputs": [
    {
     "data": {
      "text/plain": [
       "[50, 55, 60, 65, 70, 75, 80, 85, 90, 95, 100, 105, 110, 115, 120, 125]"
      ]
     },
     "execution_count": 53,
     "metadata": {},
     "output_type": "execute_result"
    }
   ],
   "source": [
    "Q"
   ]
  },
  {
   "cell_type": "code",
   "execution_count": 54,
   "id": "3602826d",
   "metadata": {},
   "outputs": [],
   "source": [
    "R=['Even' if k%2==0 else 'odd' for k in L]"
   ]
  },
  {
   "cell_type": "code",
   "execution_count": 55,
   "id": "79ea893b",
   "metadata": {},
   "outputs": [
    {
     "data": {
      "text/plain": [
       "['Even', 'odd', 'Even', 'odd', 'odd', 'odd']"
      ]
     },
     "execution_count": 55,
     "metadata": {},
     "output_type": "execute_result"
    }
   ],
   "source": [
    "R"
   ]
  },
  {
   "cell_type": "code",
   "execution_count": 61,
   "id": "b96fc1ca",
   "metadata": {},
   "outputs": [],
   "source": [
    "marks=[23,45,76,59,30,19,67,94,56,88,]\n",
    "\n",
    "results=['pass' if m>=50 else 'fail' for m in marks]"
   ]
  },
  {
   "cell_type": "code",
   "execution_count": 62,
   "id": "757e0b72",
   "metadata": {},
   "outputs": [
    {
     "data": {
      "text/plain": [
       "['fail',\n",
       " 'fail',\n",
       " 'pass',\n",
       " 'pass',\n",
       " 'fail',\n",
       " 'fail',\n",
       " 'pass',\n",
       " 'pass',\n",
       " 'pass',\n",
       " 'pass']"
      ]
     },
     "execution_count": 62,
     "metadata": {},
     "output_type": "execute_result"
    }
   ],
   "source": [
    "results"
   ]
  },
  {
   "cell_type": "code",
   "execution_count": 63,
   "id": "3827a977",
   "metadata": {},
   "outputs": [],
   "source": [
    "grade=['A' if m>=80 else 'B' if m>=60 else 'C' if m>=50 else 'S' for m in marks]"
   ]
  },
  {
   "cell_type": "code",
   "execution_count": 64,
   "id": "66adf669",
   "metadata": {},
   "outputs": [
    {
     "data": {
      "text/plain": [
       "['S', 'S', 'B', 'C', 'S', 'S', 'B', 'A', 'C', 'A']"
      ]
     },
     "execution_count": 64,
     "metadata": {},
     "output_type": "execute_result"
    }
   ],
   "source": [
    "grade"
   ]
  },
  {
   "cell_type": "code",
   "execution_count": null,
   "id": "e6afba8b",
   "metadata": {},
   "outputs": [],
   "source": []
  }
 ],
 "metadata": {
  "kernelspec": {
   "display_name": "Python 3 (ipykernel)",
   "language": "python",
   "name": "python3"
  },
  "language_info": {
   "codemirror_mode": {
    "name": "ipython",
    "version": 3
   },
   "file_extension": ".py",
   "mimetype": "text/x-python",
   "name": "python",
   "nbconvert_exporter": "python",
   "pygments_lexer": "ipython3",
   "version": "3.9.13"
  }
 },
 "nbformat": 4,
 "nbformat_minor": 5
}
