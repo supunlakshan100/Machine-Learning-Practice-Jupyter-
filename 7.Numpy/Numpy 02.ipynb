{
 "cells": [
  {
   "cell_type": "code",
   "execution_count": 2,
   "id": "2da6032f",
   "metadata": {},
   "outputs": [],
   "source": [
    "import numpy as np"
   ]
  },
  {
   "cell_type": "code",
   "execution_count": 7,
   "id": "24af029e",
   "metadata": {},
   "outputs": [
    {
     "data": {
      "text/plain": [
       "array([4, 3, 3, 2, 3, 4, 4, 4, 3, 2])"
      ]
     },
     "execution_count": 7,
     "metadata": {},
     "output_type": "execute_result"
    }
   ],
   "source": [
    "np.random.randint(2,5,10)"
   ]
  },
  {
   "cell_type": "code",
   "execution_count": 8,
   "id": "ebc6036d",
   "metadata": {},
   "outputs": [
    {
     "data": {
      "text/plain": [
       "array([[3, 4, 2, 4, 3, 2, 2, 3, 4, 4],\n",
       "       [2, 2, 2, 2, 2, 4, 2, 4, 2, 2],\n",
       "       [3, 2, 4, 3, 4, 4, 3, 3, 2, 3],\n",
       "       [2, 3, 3, 3, 2, 3, 2, 3, 3, 3],\n",
       "       [2, 2, 3, 2, 2, 4, 3, 2, 2, 2],\n",
       "       [4, 3, 3, 3, 3, 2, 3, 2, 4, 2],\n",
       "       [2, 4, 3, 4, 4, 2, 2, 3, 3, 4],\n",
       "       [4, 3, 4, 4, 4, 4, 3, 3, 2, 2],\n",
       "       [2, 3, 4, 3, 4, 4, 2, 4, 3, 4],\n",
       "       [4, 3, 3, 4, 4, 2, 2, 2, 3, 4]])"
      ]
     },
     "execution_count": 8,
     "metadata": {},
     "output_type": "execute_result"
    }
   ],
   "source": [
    "np.random.randint(2,5,(10,10))"
   ]
  },
  {
   "cell_type": "code",
   "execution_count": 9,
   "id": "23d2c065",
   "metadata": {},
   "outputs": [
    {
     "data": {
      "text/plain": [
       "array([[2.77145595, 2.96269435, 4.39354197, 3.27019329, 4.51148736,\n",
       "        2.43269253, 3.84141885, 3.34820483, 2.90586639, 4.74772324],\n",
       "       [3.86482289, 2.04855621, 2.1879335 , 2.08379759, 3.58246556,\n",
       "        4.52634395, 3.10430089, 2.43886637, 3.39355632, 3.61619461],\n",
       "       [3.29949589, 2.32523862, 2.73354894, 4.92551467, 4.83442645,\n",
       "        3.78278714, 2.73022514, 2.10620509, 3.12544343, 4.41669113],\n",
       "       [3.36210443, 3.41559387, 3.6928869 , 2.81124152, 2.96493471,\n",
       "        3.87688105, 2.17139982, 2.32580655, 4.5770108 , 2.00122596],\n",
       "       [3.16435694, 2.30688138, 3.4354365 , 3.25979057, 3.93744896,\n",
       "        2.64226924, 2.46567256, 2.94689436, 3.09361212, 3.52966384],\n",
       "       [3.64076195, 3.67802529, 4.75438778, 3.34865093, 2.79150348,\n",
       "        2.4903935 , 3.96764623, 3.9356414 , 4.52548632, 2.57114305],\n",
       "       [2.82351091, 4.7582414 , 4.47666352, 2.65446391, 3.00937433,\n",
       "        2.24549593, 3.89512688, 2.74524168, 3.50368224, 2.69673225],\n",
       "       [2.69441746, 4.7226536 , 2.30113012, 4.52813215, 2.08496906,\n",
       "        2.69848256, 2.62713765, 2.45023431, 3.57133754, 4.10460437],\n",
       "       [3.14759461, 3.0647055 , 2.62192919, 2.91064078, 4.87777564,\n",
       "        4.49991953, 3.30475611, 3.29962922, 4.50312003, 3.44611958],\n",
       "       [2.44681768, 4.75440521, 3.67779486, 4.91739657, 3.71517247,\n",
       "        3.98264088, 3.04678658, 4.44774036, 2.10578657, 4.64103372]])"
      ]
     },
     "execution_count": 9,
     "metadata": {},
     "output_type": "execute_result"
    }
   ],
   "source": [
    "np.random.uniform(2,5,(10,10))"
   ]
  },
  {
   "cell_type": "code",
   "execution_count": 13,
   "id": "a6081462",
   "metadata": {},
   "outputs": [
    {
     "data": {
      "text/plain": [
       "array([0.89732429, 0.19376449, 0.54643211, 0.27884754, 0.53542777,\n",
       "       0.82123714, 0.76844583, 0.68345636, 0.55590552, 0.46168949,\n",
       "       0.59690508, 0.39850873, 0.18722883, 0.93889186, 0.77819105,\n",
       "       0.33201026, 0.06138053, 0.0672897 , 0.3304839 , 0.09846234])"
      ]
     },
     "execution_count": 13,
     "metadata": {},
     "output_type": "execute_result"
    }
   ],
   "source": [
    "np.random.random(20)"
   ]
  },
  {
   "cell_type": "code",
   "execution_count": 14,
   "id": "107075b9",
   "metadata": {},
   "outputs": [
    {
     "data": {
      "text/plain": [
       "array([[0.95715509, 0.11143384, 0.05948171, 0.26583478, 0.56182623,\n",
       "        0.53137871, 0.76700534, 0.46503747, 0.95389419, 0.51853586],\n",
       "       [0.33167003, 0.05073305, 0.68675984, 0.52151351, 0.44007038,\n",
       "        0.44029443, 0.59419332, 0.6751472 , 0.15698199, 0.74622973]])"
      ]
     },
     "execution_count": 14,
     "metadata": {},
     "output_type": "execute_result"
    }
   ],
   "source": [
    "np.random.random(20).reshape(2,10)"
   ]
  },
  {
   "cell_type": "code",
   "execution_count": 17,
   "id": "c2fbcb34",
   "metadata": {},
   "outputs": [
    {
     "data": {
      "text/plain": [
       "[0, 1, 2, 3, 4, 5, 6, 7, 8, 9]"
      ]
     },
     "execution_count": 17,
     "metadata": {},
     "output_type": "execute_result"
    }
   ],
   "source": [
    "list(range(10))"
   ]
  },
  {
   "cell_type": "code",
   "execution_count": 18,
   "id": "3a8cd870",
   "metadata": {},
   "outputs": [
    {
     "data": {
      "text/plain": [
       "(0, 1, 2, 3, 4, 5, 6, 7, 8, 9)"
      ]
     },
     "execution_count": 18,
     "metadata": {},
     "output_type": "execute_result"
    }
   ],
   "source": [
    "tuple(range(10))"
   ]
  },
  {
   "cell_type": "code",
   "execution_count": 20,
   "id": "3ff98145",
   "metadata": {},
   "outputs": [
    {
     "data": {
      "text/plain": [
       "{0, 1, 2, 3, 4, 5, 6, 7, 8, 9}"
      ]
     },
     "execution_count": 20,
     "metadata": {},
     "output_type": "execute_result"
    }
   ],
   "source": [
    "set(range(10))"
   ]
  },
  {
   "cell_type": "code",
   "execution_count": 22,
   "id": "e43fe5d0",
   "metadata": {},
   "outputs": [
    {
     "data": {
      "text/plain": [
       "array([ 1,  2,  3,  4,  5,  6,  7,  8,  9, 10, 11, 12, 13, 14, 15, 16, 17,\n",
       "       18, 19, 20, 21, 22, 23, 24, 25, 26, 27, 28, 29, 30, 31, 32, 33, 34,\n",
       "       35, 36, 37, 38, 39, 40, 41, 42, 43, 44, 45, 46, 47, 48, 49, 50])"
      ]
     },
     "execution_count": 22,
     "metadata": {},
     "output_type": "execute_result"
    }
   ],
   "source": [
    "np.arange(1,51)"
   ]
  },
  {
   "cell_type": "code",
   "execution_count": 23,
   "id": "48312182",
   "metadata": {},
   "outputs": [
    {
     "data": {
      "text/plain": [
       "[1, 3, 5, 7, 9]"
      ]
     },
     "execution_count": 23,
     "metadata": {},
     "output_type": "execute_result"
    }
   ],
   "source": [
    "list(range(1,11,2))"
   ]
  },
  {
   "cell_type": "code",
   "execution_count": 24,
   "id": "9db0cc63",
   "metadata": {},
   "outputs": [],
   "source": [
    "a=np.array([1,2,3,4,5,6,6,7,7])"
   ]
  },
  {
   "cell_type": "code",
   "execution_count": 25,
   "id": "61f6546f",
   "metadata": {},
   "outputs": [
    {
     "data": {
      "text/plain": [
       "array([1, 2, 3, 4, 5, 6, 6, 7, 7])"
      ]
     },
     "execution_count": 25,
     "metadata": {},
     "output_type": "execute_result"
    }
   ],
   "source": [
    "a"
   ]
  },
  {
   "cell_type": "code",
   "execution_count": 26,
   "id": "64f66778",
   "metadata": {},
   "outputs": [
    {
     "data": {
      "text/plain": [
       "7"
      ]
     },
     "execution_count": 26,
     "metadata": {},
     "output_type": "execute_result"
    }
   ],
   "source": [
    "a[-1]"
   ]
  },
  {
   "cell_type": "code",
   "execution_count": 27,
   "id": "e5fa98d4",
   "metadata": {},
   "outputs": [
    {
     "data": {
      "text/plain": [
       "array([[1, 2, 3],\n",
       "       [4, 5, 6],\n",
       "       [6, 7, 7]])"
      ]
     },
     "execution_count": 27,
     "metadata": {},
     "output_type": "execute_result"
    }
   ],
   "source": [
    "a.reshape(3,3)"
   ]
  },
  {
   "cell_type": "code",
   "execution_count": 28,
   "id": "cbdb2a51",
   "metadata": {},
   "outputs": [
    {
     "data": {
      "text/plain": [
       "array([2, 3])"
      ]
     },
     "execution_count": 28,
     "metadata": {},
     "output_type": "execute_result"
    }
   ],
   "source": [
    " a[1:3]"
   ]
  },
  {
   "cell_type": "code",
   "execution_count": 33,
   "id": "e5dad745",
   "metadata": {},
   "outputs": [],
   "source": [
    "Ar1=np.array([1,2,3,4,4,5,5,6,67,7,1,2])"
   ]
  },
  {
   "cell_type": "code",
   "execution_count": 34,
   "id": "1283793e",
   "metadata": {},
   "outputs": [
    {
     "data": {
      "text/plain": [
       "array([ 1,  2,  3,  4,  4,  5,  5,  6, 67,  7,  1,  2])"
      ]
     },
     "execution_count": 34,
     "metadata": {},
     "output_type": "execute_result"
    }
   ],
   "source": [
    "Ar1"
   ]
  },
  {
   "cell_type": "code",
   "execution_count": 36,
   "id": "88680646",
   "metadata": {},
   "outputs": [
    {
     "data": {
      "text/plain": [
       "array([[ 1,  2,  3,  4],\n",
       "       [ 4,  5,  5,  6],\n",
       "       [67,  7,  1,  2]])"
      ]
     },
     "execution_count": 36,
     "metadata": {},
     "output_type": "execute_result"
    }
   ],
   "source": [
    "Ar1.reshape(3,4)"
   ]
  },
  {
   "cell_type": "code",
   "execution_count": 37,
   "id": "046e94ac",
   "metadata": {},
   "outputs": [
    {
     "data": {
      "text/plain": [
       "(12,)"
      ]
     },
     "execution_count": 37,
     "metadata": {},
     "output_type": "execute_result"
    }
   ],
   "source": [
    "Ar1.shape"
   ]
  },
  {
   "cell_type": "code",
   "execution_count": 38,
   "id": "5886956e",
   "metadata": {},
   "outputs": [],
   "source": [
    "Ar2=np.array([[1,2,3],[4,5,6]])"
   ]
  },
  {
   "cell_type": "code",
   "execution_count": 39,
   "id": "8900d58c",
   "metadata": {},
   "outputs": [
    {
     "data": {
      "text/plain": [
       "array([[1, 2, 3],\n",
       "       [4, 5, 6]])"
      ]
     },
     "execution_count": 39,
     "metadata": {},
     "output_type": "execute_result"
    }
   ],
   "source": [
    "Ar2"
   ]
  },
  {
   "cell_type": "code",
   "execution_count": 40,
   "id": "70f13745",
   "metadata": {},
   "outputs": [
    {
     "data": {
      "text/plain": [
       "array([[1, 2, 3, 4, 5, 6]])"
      ]
     },
     "execution_count": 40,
     "metadata": {},
     "output_type": "execute_result"
    }
   ],
   "source": [
    "Ar2.reshape(1,6)"
   ]
  },
  {
   "cell_type": "code",
   "execution_count": 41,
   "id": "f4c2682a",
   "metadata": {},
   "outputs": [
    {
     "data": {
      "text/plain": [
       "numpy.ndarray"
      ]
     },
     "execution_count": 41,
     "metadata": {},
     "output_type": "execute_result"
    }
   ],
   "source": [
    "type(Ar2)"
   ]
  },
  {
   "cell_type": "code",
   "execution_count": 42,
   "id": "13c9aba9",
   "metadata": {},
   "outputs": [],
   "source": [
    "sss=np.array([2,2,2,2,2,2,2,4])"
   ]
  },
  {
   "cell_type": "code",
   "execution_count": 43,
   "id": "7b6444e1",
   "metadata": {},
   "outputs": [
    {
     "data": {
      "text/plain": [
       "array([2, 2, 2, 2, 2, 2, 2, 4])"
      ]
     },
     "execution_count": 43,
     "metadata": {},
     "output_type": "execute_result"
    }
   ],
   "source": [
    "sss"
   ]
  },
  {
   "cell_type": "code",
   "execution_count": null,
   "id": "0afe175e",
   "metadata": {},
   "outputs": [],
   "source": []
  },
  {
   "cell_type": "code",
   "execution_count": null,
   "id": "95e88dfe",
   "metadata": {},
   "outputs": [],
   "source": []
  },
  {
   "cell_type": "code",
   "execution_count": 44,
   "id": "97cbe7c8",
   "metadata": {},
   "outputs": [],
   "source": [
    "m1=np.array([[1,2,3],[2,3,4],[2,3,3]])\n",
    "m2=np.array([[22,33,44],[3,4,55],[44,55,66]])"
   ]
  },
  {
   "cell_type": "code",
   "execution_count": 45,
   "id": "34f69c38",
   "metadata": {},
   "outputs": [
    {
     "data": {
      "text/plain": [
       "array([[1, 2, 3],\n",
       "       [2, 3, 4],\n",
       "       [2, 3, 3]])"
      ]
     },
     "execution_count": 45,
     "metadata": {},
     "output_type": "execute_result"
    }
   ],
   "source": [
    "m1"
   ]
  },
  {
   "cell_type": "code",
   "execution_count": 46,
   "id": "4e2dc70e",
   "metadata": {},
   "outputs": [
    {
     "data": {
      "text/plain": [
       "array([[22, 33, 44],\n",
       "       [ 3,  4, 55],\n",
       "       [44, 55, 66]])"
      ]
     },
     "execution_count": 46,
     "metadata": {},
     "output_type": "execute_result"
    }
   ],
   "source": [
    "m2"
   ]
  },
  {
   "cell_type": "code",
   "execution_count": 47,
   "id": "03718883",
   "metadata": {},
   "outputs": [
    {
     "data": {
      "text/plain": [
       "array([[23, 35, 47],\n",
       "       [ 5,  7, 59],\n",
       "       [46, 58, 69]])"
      ]
     },
     "execution_count": 47,
     "metadata": {},
     "output_type": "execute_result"
    }
   ],
   "source": [
    "m1+m2"
   ]
  },
  {
   "cell_type": "code",
   "execution_count": 48,
   "id": "d6faa97a",
   "metadata": {},
   "outputs": [
    {
     "data": {
      "text/plain": [
       "array([[-21, -31, -41],\n",
       "       [ -1,  -1, -51],\n",
       "       [-42, -52, -63]])"
      ]
     },
     "execution_count": 48,
     "metadata": {},
     "output_type": "execute_result"
    }
   ],
   "source": [
    "m1-m2"
   ]
  },
  {
   "cell_type": "code",
   "execution_count": 55,
   "id": "bd3cc511",
   "metadata": {},
   "outputs": [
    {
     "data": {
      "text/plain": [
       "array([[ 22,  66, 132],\n",
       "       [  6,  12, 220],\n",
       "       [ 88, 165, 198]])"
      ]
     },
     "execution_count": 55,
     "metadata": {},
     "output_type": "execute_result"
    }
   ],
   "source": [
    "m1*m2 # hadamart multiflicaton"
   ]
  },
  {
   "cell_type": "code",
   "execution_count": 56,
   "id": "4c61cba4",
   "metadata": {},
   "outputs": [
    {
     "data": {
      "text/plain": [
       "array([[2200, 3300, 4400],\n",
       "       [ 300,  400, 5500],\n",
       "       [4400, 5500, 6600]])"
      ]
     },
     "execution_count": 56,
     "metadata": {},
     "output_type": "execute_result"
    }
   ],
   "source": [
    "s=100*m2\n",
    "s"
   ]
  },
  {
   "cell_type": "code",
   "execution_count": 57,
   "id": "40349a2b",
   "metadata": {},
   "outputs": [
    {
     "data": {
      "text/plain": [
       "array([[0.22, 0.33, 0.44],\n",
       "       [0.03, 0.04, 0.55],\n",
       "       [0.44, 0.55, 0.66]])"
      ]
     },
     "execution_count": 57,
     "metadata": {},
     "output_type": "execute_result"
    }
   ],
   "source": [
    "m2/100"
   ]
  },
  {
   "cell_type": "code",
   "execution_count": 58,
   "id": "d562e98b",
   "metadata": {},
   "outputs": [
    {
     "data": {
      "text/plain": [
       "array([[22., 33., 44.],\n",
       "       [ 3.,  4., 55.],\n",
       "       [44., 55., 66.]])"
      ]
     },
     "execution_count": 58,
     "metadata": {},
     "output_type": "execute_result"
    }
   ],
   "source": [
    "s/100\n"
   ]
  },
  {
   "cell_type": "code",
   "execution_count": 62,
   "id": "ceb88c80",
   "metadata": {},
   "outputs": [
    {
     "data": {
      "text/plain": [
       "array([[160, 206, 352],\n",
       "       [229, 298, 517],\n",
       "       [185, 243, 451]])"
      ]
     },
     "execution_count": 62,
     "metadata": {},
     "output_type": "execute_result"
    }
   ],
   "source": [
    "np.dot(m1,m2) #real multiflication"
   ]
  },
  {
   "cell_type": "code",
   "execution_count": 63,
   "id": "b9a28130",
   "metadata": {},
   "outputs": [
    {
     "data": {
      "text/plain": [
       "array([[160, 206, 352],\n",
       "       [229, 298, 517],\n",
       "       [185, 243, 451]])"
      ]
     },
     "execution_count": 63,
     "metadata": {},
     "output_type": "execute_result"
    }
   ],
   "source": [
    "m1.dot(m2) #real multiflication"
   ]
  },
  {
   "cell_type": "code",
   "execution_count": 64,
   "id": "e15493b4",
   "metadata": {},
   "outputs": [
    {
     "data": {
      "text/plain": [
       "array([[1, 2, 3],\n",
       "       [2, 3, 4],\n",
       "       [2, 3, 3]])"
      ]
     },
     "execution_count": 64,
     "metadata": {},
     "output_type": "execute_result"
    }
   ],
   "source": [
    "m1\n"
   ]
  },
  {
   "cell_type": "code",
   "execution_count": 67,
   "id": "2a1a5018",
   "metadata": {},
   "outputs": [
    {
     "data": {
      "text/plain": [
       "array([[101, 102, 103],\n",
       "       [102, 103, 104],\n",
       "       [102, 103, 103]])"
      ]
     },
     "execution_count": 67,
     "metadata": {},
     "output_type": "execute_result"
    }
   ],
   "source": [
    "m1+100 # broudcasting, in the matrices is not allow"
   ]
  },
  {
   "cell_type": "code",
   "execution_count": 68,
   "id": "4252df74",
   "metadata": {},
   "outputs": [
    {
     "data": {
      "text/plain": [
       "7"
      ]
     },
     "execution_count": 68,
     "metadata": {},
     "output_type": "execute_result"
    }
   ],
   "source": [
    "np.trace(m1)"
   ]
  },
  {
   "cell_type": "code",
   "execution_count": 69,
   "id": "b1d68123",
   "metadata": {},
   "outputs": [
    {
     "data": {
      "text/plain": [
       "array([[1, 2, 2],\n",
       "       [2, 3, 3],\n",
       "       [3, 4, 3]])"
      ]
     },
     "execution_count": 69,
     "metadata": {},
     "output_type": "execute_result"
    }
   ],
   "source": [
    "np.transpose(m1)"
   ]
  },
  {
   "cell_type": "code",
   "execution_count": 70,
   "id": "453c164a",
   "metadata": {},
   "outputs": [
    {
     "data": {
      "text/plain": [
       "1.0"
      ]
     },
     "execution_count": 70,
     "metadata": {},
     "output_type": "execute_result"
    }
   ],
   "source": [
    "np.linalg.det(m1)"
   ]
  },
  {
   "cell_type": "code",
   "execution_count": 72,
   "id": "b7b5b186",
   "metadata": {},
   "outputs": [
    {
     "data": {
      "text/plain": [
       "array([[-3.,  3., -1.],\n",
       "       [ 2., -3.,  2.],\n",
       "       [-0.,  1., -1.]])"
      ]
     },
     "execution_count": 72,
     "metadata": {},
     "output_type": "execute_result"
    }
   ],
   "source": [
    "np.linalg.inv(m1)"
   ]
  },
  {
   "cell_type": "code",
   "execution_count": 74,
   "id": "69e3f23d",
   "metadata": {},
   "outputs": [],
   "source": [
    "a,b=np.linalg.eig(m1)"
   ]
  },
  {
   "cell_type": "code",
   "execution_count": 75,
   "id": "ea3ebedb",
   "metadata": {},
   "outputs": [
    {
     "data": {
      "text/plain": [
       "array([ 7.90188052, -0.17382122, -0.72805931])"
      ]
     },
     "execution_count": 75,
     "metadata": {},
     "output_type": "execute_result"
    }
   ],
   "source": [
    "a"
   ]
  },
  {
   "cell_type": "code",
   "execution_count": 76,
   "id": "c7d92e4e",
   "metadata": {},
   "outputs": [
    {
     "data": {
      "text/plain": [
       "array([[-0.45096957, -0.75208699, -0.77373366],\n",
       "       [-0.66749798,  0.64494428, -0.22166747],\n",
       "       [-0.59251405, -0.13569097,  0.5934642 ]])"
      ]
     },
     "execution_count": 76,
     "metadata": {},
     "output_type": "execute_result"
    }
   ],
   "source": [
    "b"
   ]
  },
  {
   "cell_type": "code",
   "execution_count": null,
   "id": "af8307e6",
   "metadata": {},
   "outputs": [],
   "source": []
  },
  {
   "cell_type": "code",
   "execution_count": 77,
   "id": "eb93ee04",
   "metadata": {},
   "outputs": [],
   "source": [
    "a=np.array([1,2,3,4,5,5,6,7,87,8,98,9,9,9,1])"
   ]
  },
  {
   "cell_type": "code",
   "execution_count": 78,
   "id": "3b5646ba",
   "metadata": {},
   "outputs": [
    {
     "data": {
      "text/plain": [
       "array([ 1,  2,  3,  4,  5,  5,  6,  7, 87,  8, 98,  9,  9,  9,  1])"
      ]
     },
     "execution_count": 78,
     "metadata": {},
     "output_type": "execute_result"
    }
   ],
   "source": [
    "a"
   ]
  },
  {
   "cell_type": "code",
   "execution_count": 80,
   "id": "70956d07",
   "metadata": {},
   "outputs": [
    {
     "data": {
      "text/plain": [
       "array([False, False, False, False, False, False, False, False,  True,\n",
       "       False,  True, False, False, False, False])"
      ]
     },
     "execution_count": 80,
     "metadata": {},
     "output_type": "execute_result"
    }
   ],
   "source": [
    "a>=20"
   ]
  },
  {
   "cell_type": "code",
   "execution_count": 81,
   "id": "f8088328",
   "metadata": {},
   "outputs": [
    {
     "data": {
      "text/plain": [
       "array([ 4,  5,  5,  6,  7, 87,  8, 98,  9,  9,  9])"
      ]
     },
     "execution_count": 81,
     "metadata": {},
     "output_type": "execute_result"
    }
   ],
   "source": [
    "a[a>=4]"
   ]
  },
  {
   "cell_type": "code",
   "execution_count": 82,
   "id": "9cfcb4bb",
   "metadata": {},
   "outputs": [
    {
     "data": {
      "text/plain": [
       "22026.465794806718"
      ]
     },
     "execution_count": 82,
     "metadata": {},
     "output_type": "execute_result"
    }
   ],
   "source": [
    "np.exp(10) #e**10"
   ]
  },
  {
   "cell_type": "code",
   "execution_count": 101,
   "id": "426dff72",
   "metadata": {},
   "outputs": [
    {
     "data": {
      "text/plain": [
       "22026.465794806703"
      ]
     },
     "execution_count": 101,
     "metadata": {},
     "output_type": "execute_result"
    }
   ],
   "source": [
    "np.e**10"
   ]
  },
  {
   "cell_type": "code",
   "execution_count": 83,
   "id": "7c94d64d",
   "metadata": {},
   "outputs": [
    {
     "data": {
      "text/plain": [
       "0.27090578830786904"
      ]
     },
     "execution_count": 83,
     "metadata": {},
     "output_type": "execute_result"
    }
   ],
   "source": [
    "np.sin(28)"
   ]
  },
  {
   "cell_type": "code",
   "execution_count": 84,
   "id": "8d0eb865",
   "metadata": {},
   "outputs": [
    {
     "data": {
      "text/plain": [
       "0.9887046181866692"
      ]
     },
     "execution_count": 84,
     "metadata": {},
     "output_type": "execute_result"
    }
   ],
   "source": [
    "np.cos(19)"
   ]
  },
  {
   "cell_type": "code",
   "execution_count": 85,
   "id": "dfec7d0b",
   "metadata": {},
   "outputs": [
    {
     "data": {
      "text/plain": [
       "0.6483608274590866"
      ]
     },
     "execution_count": 85,
     "metadata": {},
     "output_type": "execute_result"
    }
   ],
   "source": [
    "np.tan(10)"
   ]
  },
  {
   "cell_type": "code",
   "execution_count": 86,
   "id": "bc8bddd0",
   "metadata": {},
   "outputs": [
    {
     "data": {
      "text/plain": [
       "9"
      ]
     },
     "execution_count": 86,
     "metadata": {},
     "output_type": "execute_result"
    }
   ],
   "source": [
    "np.power(3,2)"
   ]
  },
  {
   "cell_type": "code",
   "execution_count": 87,
   "id": "475a50d4",
   "metadata": {},
   "outputs": [
    {
     "data": {
      "text/plain": [
       "12.0"
      ]
     },
     "execution_count": 87,
     "metadata": {},
     "output_type": "execute_result"
    }
   ],
   "source": [
    "np.round(12.2222345)"
   ]
  },
  {
   "cell_type": "code",
   "execution_count": 89,
   "id": "431b6cad",
   "metadata": {},
   "outputs": [],
   "source": [
    "pi=(27/3)"
   ]
  },
  {
   "cell_type": "code",
   "execution_count": 90,
   "id": "d0d47546",
   "metadata": {},
   "outputs": [
    {
     "data": {
      "text/plain": [
       "9.0"
      ]
     },
     "execution_count": 90,
     "metadata": {},
     "output_type": "execute_result"
    }
   ],
   "source": [
    "pi"
   ]
  },
  {
   "cell_type": "code",
   "execution_count": 91,
   "id": "536650bb",
   "metadata": {},
   "outputs": [
    {
     "data": {
      "text/plain": [
       "3.141592653589793"
      ]
     },
     "execution_count": 91,
     "metadata": {},
     "output_type": "execute_result"
    }
   ],
   "source": [
    "np.pi"
   ]
  },
  {
   "cell_type": "code",
   "execution_count": 94,
   "id": "91acf03a",
   "metadata": {},
   "outputs": [
    {
     "data": {
      "text/plain": [
       "3.141592653589793"
      ]
     },
     "execution_count": 94,
     "metadata": {},
     "output_type": "execute_result"
    }
   ],
   "source": [
    "np.pi\n"
   ]
  },
  {
   "cell_type": "code",
   "execution_count": 95,
   "id": "bd0246f3",
   "metadata": {},
   "outputs": [
    {
     "data": {
      "text/plain": [
       "2.718281828459045"
      ]
     },
     "execution_count": 95,
     "metadata": {},
     "output_type": "execute_result"
    }
   ],
   "source": [
    "np.e"
   ]
  },
  {
   "cell_type": "code",
   "execution_count": 96,
   "id": "45d9ba8c",
   "metadata": {},
   "outputs": [
    {
     "data": {
      "text/plain": [
       "inf"
      ]
     },
     "execution_count": 96,
     "metadata": {},
     "output_type": "execute_result"
    }
   ],
   "source": [
    "np.inf"
   ]
  },
  {
   "cell_type": "code",
   "execution_count": 97,
   "id": "e5ddd406",
   "metadata": {},
   "outputs": [
    {
     "data": {
      "text/plain": [
       "-inf"
      ]
     },
     "execution_count": 97,
     "metadata": {},
     "output_type": "execute_result"
    }
   ],
   "source": [
    "np.NINF"
   ]
  },
  {
   "cell_type": "code",
   "execution_count": 98,
   "id": "8347649a",
   "metadata": {},
   "outputs": [
    {
     "data": {
      "text/plain": [
       "-inf"
      ]
     },
     "execution_count": 98,
     "metadata": {},
     "output_type": "execute_result"
    }
   ],
   "source": [
    "-np.inf\n"
   ]
  },
  {
   "cell_type": "code",
   "execution_count": 99,
   "id": "0898c8d9",
   "metadata": {},
   "outputs": [
    {
     "data": {
      "text/plain": [
       "nan"
      ]
     },
     "execution_count": 99,
     "metadata": {},
     "output_type": "execute_result"
    }
   ],
   "source": [
    "np.nan #nothing"
   ]
  },
  {
   "cell_type": "code",
   "execution_count": 102,
   "id": "f36d8fbe",
   "metadata": {},
   "outputs": [],
   "source": [
    "z=np.array([22,3,44,45556,6,7,7,87,898,9,2])"
   ]
  },
  {
   "cell_type": "code",
   "execution_count": 103,
   "id": "eb432427",
   "metadata": {},
   "outputs": [
    {
     "data": {
      "text/plain": [
       "array([   22,     3,    44, 45556,     6,     7,     7,    87,   898,\n",
       "           9,     2])"
      ]
     },
     "execution_count": 103,
     "metadata": {},
     "output_type": "execute_result"
    }
   ],
   "source": [
    "z"
   ]
  },
  {
   "cell_type": "code",
   "execution_count": 104,
   "id": "bc3ec0df",
   "metadata": {},
   "outputs": [
    {
     "data": {
      "text/plain": [
       "2"
      ]
     },
     "execution_count": 104,
     "metadata": {},
     "output_type": "execute_result"
    }
   ],
   "source": [
    "z.min()"
   ]
  },
  {
   "cell_type": "code",
   "execution_count": 106,
   "id": "3e24ecbf",
   "metadata": {},
   "outputs": [
    {
     "data": {
      "text/plain": [
       "45556"
      ]
     },
     "execution_count": 106,
     "metadata": {},
     "output_type": "execute_result"
    }
   ],
   "source": [
    "z.max()"
   ]
  },
  {
   "cell_type": "code",
   "execution_count": 107,
   "id": "617b9d50",
   "metadata": {},
   "outputs": [
    {
     "data": {
      "text/plain": [
       "4240.090909090909"
      ]
     },
     "execution_count": 107,
     "metadata": {},
     "output_type": "execute_result"
    }
   ],
   "source": [
    "z.mean()"
   ]
  },
  {
   "cell_type": "code",
   "execution_count": 108,
   "id": "8d216ac3",
   "metadata": {},
   "outputs": [
    {
     "data": {
      "text/plain": [
       "46641"
      ]
     },
     "execution_count": 108,
     "metadata": {},
     "output_type": "execute_result"
    }
   ],
   "source": [
    "z.sum()"
   ]
  },
  {
   "cell_type": "code",
   "execution_count": 110,
   "id": "1db69380",
   "metadata": {},
   "outputs": [
    {
     "data": {
      "text/plain": [
       "45556"
      ]
     },
     "execution_count": 110,
     "metadata": {},
     "output_type": "execute_result"
    }
   ],
   "source": [
    "np.max(z)"
   ]
  },
  {
   "cell_type": "code",
   "execution_count": 111,
   "id": "b2f1bc5f",
   "metadata": {},
   "outputs": [
    {
     "data": {
      "text/plain": [
       "2"
      ]
     },
     "execution_count": 111,
     "metadata": {},
     "output_type": "execute_result"
    }
   ],
   "source": [
    "np.min(z)"
   ]
  },
  {
   "cell_type": "code",
   "execution_count": 113,
   "id": "f56dab47",
   "metadata": {},
   "outputs": [],
   "source": [
    "z.sort()"
   ]
  },
  {
   "cell_type": "code",
   "execution_count": 122,
   "id": "50002da8",
   "metadata": {},
   "outputs": [
    {
     "data": {
      "text/plain": [
       "array([    2,     3,     6,     7,     7,     9,    22,    44,    87,\n",
       "         898, 45556])"
      ]
     },
     "execution_count": 122,
     "metadata": {},
     "output_type": "execute_result"
    }
   ],
   "source": [
    "z"
   ]
  },
  {
   "cell_type": "code",
   "execution_count": 123,
   "id": "227d3f0e",
   "metadata": {},
   "outputs": [],
   "source": [
    "L=[2,47,8,4,22,2,1]"
   ]
  },
  {
   "cell_type": "code",
   "execution_count": 124,
   "id": "a3a6a861",
   "metadata": {},
   "outputs": [],
   "source": [
    "L.sort(reverse=True)"
   ]
  },
  {
   "cell_type": "code",
   "execution_count": 125,
   "id": "83b4d0e2",
   "metadata": {},
   "outputs": [
    {
     "data": {
      "text/plain": [
       "[47, 22, 8, 4, 2, 2, 1]"
      ]
     },
     "execution_count": 125,
     "metadata": {},
     "output_type": "execute_result"
    }
   ],
   "source": [
    "L"
   ]
  },
  {
   "cell_type": "code",
   "execution_count": 126,
   "id": "4a2f7557",
   "metadata": {},
   "outputs": [],
   "source": [
    "a=np.array([[1,2,3],[4,5,56]])\n",
    "b=np.array([[1,2,6],[33,44,55]])"
   ]
  },
  {
   "cell_type": "code",
   "execution_count": 127,
   "id": "47f41817",
   "metadata": {},
   "outputs": [
    {
     "data": {
      "text/plain": [
       "array([[ 1,  2,  3,  1,  2,  6],\n",
       "       [ 4,  5, 56, 33, 44, 55]])"
      ]
     },
     "execution_count": 127,
     "metadata": {},
     "output_type": "execute_result"
    }
   ],
   "source": [
    "np.hstack((a,b))"
   ]
  },
  {
   "cell_type": "code",
   "execution_count": 130,
   "id": "872f3dce",
   "metadata": {},
   "outputs": [
    {
     "data": {
      "text/plain": [
       "[array([[1, 2, 3]]), array([[ 4,  5, 56]])]"
      ]
     },
     "execution_count": 130,
     "metadata": {},
     "output_type": "execute_result"
    }
   ],
   "source": [
    "np.vsplit(a,2)"
   ]
  },
  {
   "cell_type": "code",
   "execution_count": 132,
   "id": "be965e9b",
   "metadata": {},
   "outputs": [
    {
     "data": {
      "text/plain": [
       "array([[ 1,  2,  3],\n",
       "       [ 4,  5, 56],\n",
       "       [ 1,  2,  6],\n",
       "       [33, 44, 55]])"
      ]
     },
     "execution_count": 132,
     "metadata": {},
     "output_type": "execute_result"
    }
   ],
   "source": [
    "np.vstack((a,b))"
   ]
  },
  {
   "cell_type": "code",
   "execution_count": 136,
   "id": "8f54d345",
   "metadata": {},
   "outputs": [
    {
     "data": {
      "text/plain": [
       "[array([[1, 2, 3]]), array([[ 4,  5, 56]])]"
      ]
     },
     "execution_count": 136,
     "metadata": {},
     "output_type": "execute_result"
    }
   ],
   "source": [
    "np.vsplit(a,2)"
   ]
  },
  {
   "cell_type": "code",
   "execution_count": null,
   "id": "89925a7c",
   "metadata": {},
   "outputs": [],
   "source": []
  },
  {
   "cell_type": "code",
   "execution_count": null,
   "id": "37f5d9a9",
   "metadata": {},
   "outputs": [],
   "source": []
  },
  {
   "cell_type": "code",
   "execution_count": 137,
   "id": "0387d00d",
   "metadata": {},
   "outputs": [],
   "source": [
    "L=[11,22,33,44,55,66,77,888]"
   ]
  },
  {
   "cell_type": "code",
   "execution_count": 139,
   "id": "cf03bbbe",
   "metadata": {},
   "outputs": [
    {
     "data": {
      "text/plain": [
       "<map at 0x1f8c053bdc0>"
      ]
     },
     "execution_count": 139,
     "metadata": {},
     "output_type": "execute_result"
    }
   ],
   "source": [
    "map(str,L)"
   ]
  },
  {
   "cell_type": "code",
   "execution_count": 140,
   "id": "411f249a",
   "metadata": {},
   "outputs": [
    {
     "data": {
      "text/plain": [
       "['11', '22', '33', '44', '55', '66', '77', '888']"
      ]
     },
     "execution_count": 140,
     "metadata": {},
     "output_type": "execute_result"
    }
   ],
   "source": [
    "list(map(str,L))"
   ]
  },
  {
   "cell_type": "code",
   "execution_count": 141,
   "id": "12f9718c",
   "metadata": {},
   "outputs": [
    {
     "data": {
      "text/plain": [
       "[11.0, 22.0, 33.0, 44.0, 55.0, 66.0, 77.0, 888.0]"
      ]
     },
     "execution_count": 141,
     "metadata": {},
     "output_type": "execute_result"
    }
   ],
   "source": [
    "list(map(float,L))"
   ]
  },
  {
   "cell_type": "code",
   "execution_count": 142,
   "id": "e0226182",
   "metadata": {},
   "outputs": [],
   "source": [
    "L=[11,22,33,44,55,66,77,888]\n",
    "arr=np.array(L)"
   ]
  },
  {
   "cell_type": "code",
   "execution_count": 143,
   "id": "93b22e4a",
   "metadata": {},
   "outputs": [
    {
     "data": {
      "text/plain": [
       "array([ 11,  22,  33,  44,  55,  66,  77, 888])"
      ]
     },
     "execution_count": 143,
     "metadata": {},
     "output_type": "execute_result"
    }
   ],
   "source": [
    "arr"
   ]
  },
  {
   "cell_type": "code",
   "execution_count": 144,
   "id": "29aec1f9",
   "metadata": {},
   "outputs": [
    {
     "data": {
      "text/plain": [
       "array([ 11.,  22.,  33.,  44.,  55.,  66.,  77., 888.])"
      ]
     },
     "execution_count": 144,
     "metadata": {},
     "output_type": "execute_result"
    }
   ],
   "source": [
    "arr.astype(float)"
   ]
  },
  {
   "cell_type": "code",
   "execution_count": null,
   "id": "ba2fd78d",
   "metadata": {},
   "outputs": [],
   "source": []
  }
 ],
 "metadata": {
  "kernelspec": {
   "display_name": "Python 3 (ipykernel)",
   "language": "python",
   "name": "python3"
  },
  "language_info": {
   "codemirror_mode": {
    "name": "ipython",
    "version": 3
   },
   "file_extension": ".py",
   "mimetype": "text/x-python",
   "name": "python",
   "nbconvert_exporter": "python",
   "pygments_lexer": "ipython3",
   "version": "3.9.13"
  }
 },
 "nbformat": 4,
 "nbformat_minor": 5
}
