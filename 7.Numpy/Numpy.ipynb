{
 "cells": [
  {
   "cell_type": "code",
   "execution_count": 23,
   "id": "54667e31",
   "metadata": {},
   "outputs": [],
   "source": [
    "import numpy as np "
   ]
  },
  {
   "cell_type": "code",
   "execution_count": 24,
   "id": "730d9589",
   "metadata": {},
   "outputs": [],
   "source": [
    "L=[1,2,3,4,45,5,6,6,]\n",
    "arr1=np.array(L)"
   ]
  },
  {
   "cell_type": "code",
   "execution_count": 25,
   "id": "59dbae50",
   "metadata": {},
   "outputs": [
    {
     "data": {
      "text/plain": [
       "array([ 1,  2,  3,  4, 45,  5,  6,  6])"
      ]
     },
     "execution_count": 25,
     "metadata": {},
     "output_type": "execute_result"
    }
   ],
   "source": [
    "arr1"
   ]
  },
  {
   "cell_type": "code",
   "execution_count": 26,
   "id": "e447a97e",
   "metadata": {},
   "outputs": [
    {
     "data": {
      "text/plain": [
       "numpy.ndarray"
      ]
     },
     "execution_count": 26,
     "metadata": {},
     "output_type": "execute_result"
    }
   ],
   "source": [
    "type(arr1)"
   ]
  },
  {
   "cell_type": "code",
   "execution_count": 27,
   "id": "d4352f00",
   "metadata": {},
   "outputs": [],
   "source": [
    "LN=[[2,3,4],[5,6,7]]\n",
    "arr2=np.array(LN)"
   ]
  },
  {
   "cell_type": "code",
   "execution_count": 28,
   "id": "97359cc2",
   "metadata": {},
   "outputs": [
    {
     "data": {
      "text/plain": [
       "array([[2, 3, 4],\n",
       "       [5, 6, 7]])"
      ]
     },
     "execution_count": 28,
     "metadata": {},
     "output_type": "execute_result"
    }
   ],
   "source": [
    "arr2"
   ]
  },
  {
   "cell_type": "code",
   "execution_count": 29,
   "id": "3f9275fd",
   "metadata": {},
   "outputs": [
    {
     "data": {
      "text/plain": [
       "numpy.ndarray"
      ]
     },
     "execution_count": 29,
     "metadata": {},
     "output_type": "execute_result"
    }
   ],
   "source": [
    "type(arr2)"
   ]
  },
  {
   "cell_type": "code",
   "execution_count": 30,
   "id": "e74fc104",
   "metadata": {},
   "outputs": [
    {
     "name": "stdout",
     "output_type": "stream",
     "text": [
      "1\n",
      "2\n"
     ]
    }
   ],
   "source": [
    "print(arr1.ndim)\n",
    "print(arr2.ndim)"
   ]
  },
  {
   "cell_type": "code",
   "execution_count": 31,
   "id": "ae6e122b",
   "metadata": {},
   "outputs": [
    {
     "name": "stdout",
     "output_type": "stream",
     "text": [
      "(8,)\n",
      "(2, 3)\n"
     ]
    }
   ],
   "source": [
    "print(arr1.shape)\n",
    "print(arr2.shape)"
   ]
  },
  {
   "cell_type": "code",
   "execution_count": 32,
   "id": "ee0e3a4c",
   "metadata": {},
   "outputs": [
    {
     "name": "stdout",
     "output_type": "stream",
     "text": [
      "int32\n",
      "int32\n"
     ]
    }
   ],
   "source": [
    "print(arr1.dtype)\n",
    "print(arr2.dtype)"
   ]
  },
  {
   "cell_type": "code",
   "execution_count": 33,
   "id": "374ce748",
   "metadata": {},
   "outputs": [],
   "source": [
    "arr3=np.array([2,3,4,5,6,6,7,8,89])\n"
   ]
  },
  {
   "cell_type": "code",
   "execution_count": 34,
   "id": "4b0eeffc",
   "metadata": {},
   "outputs": [
    {
     "data": {
      "text/plain": [
       "dtype('int32')"
      ]
     },
     "execution_count": 34,
     "metadata": {},
     "output_type": "execute_result"
    }
   ],
   "source": [
    "arr3.dtype"
   ]
  },
  {
   "cell_type": "code",
   "execution_count": 35,
   "id": "6f29949b",
   "metadata": {},
   "outputs": [],
   "source": [
    "S=[1,2,34,4,55,6]\n",
    "ARR1=np.array(S)"
   ]
  },
  {
   "cell_type": "code",
   "execution_count": 36,
   "id": "5d386bc9",
   "metadata": {},
   "outputs": [
    {
     "data": {
      "text/plain": [
       "array([ 1,  2, 34,  4, 55,  6])"
      ]
     },
     "execution_count": 36,
     "metadata": {},
     "output_type": "execute_result"
    }
   ],
   "source": [
    "ARR1"
   ]
  },
  {
   "cell_type": "code",
   "execution_count": 39,
   "id": "080946df",
   "metadata": {},
   "outputs": [],
   "source": [
    "S2=[[1,2,2,3,45,5,6],[23,4,55,6,78,9,9]]\n",
    "ARR2=np.array(S2)"
   ]
  },
  {
   "cell_type": "code",
   "execution_count": 40,
   "id": "e8000762",
   "metadata": {},
   "outputs": [
    {
     "data": {
      "text/plain": [
       "array([[ 1,  2,  2,  3, 45,  5,  6],\n",
       "       [23,  4, 55,  6, 78,  9,  9]])"
      ]
     },
     "execution_count": 40,
     "metadata": {},
     "output_type": "execute_result"
    }
   ],
   "source": [
    "ARR2"
   ]
  },
  {
   "cell_type": "code",
   "execution_count": 41,
   "id": "f243ae4d",
   "metadata": {},
   "outputs": [
    {
     "data": {
      "text/plain": [
       "array([0., 0., 0., 0., 0., 0., 0., 0., 0., 0.])"
      ]
     },
     "execution_count": 41,
     "metadata": {},
     "output_type": "execute_result"
    }
   ],
   "source": [
    "np.zeros(10)"
   ]
  },
  {
   "cell_type": "code",
   "execution_count": 45,
   "id": "1e51ddcd",
   "metadata": {},
   "outputs": [
    {
     "data": {
      "text/plain": [
       "array([[1., 1., 1., 1., 1.],\n",
       "       [1., 1., 1., 1., 1.],\n",
       "       [1., 1., 1., 1., 1.],\n",
       "       [1., 1., 1., 1., 1.],\n",
       "       [1., 1., 1., 1., 1.]])"
      ]
     },
     "execution_count": 45,
     "metadata": {},
     "output_type": "execute_result"
    }
   ],
   "source": [
    "np.ones((5,5))"
   ]
  },
  {
   "cell_type": "code",
   "execution_count": 53,
   "id": "0eff6293",
   "metadata": {},
   "outputs": [
    {
     "data": {
      "text/plain": [
       "array([[1., 1., 1., 1.],\n",
       "       [1., 1., 1., 1.],\n",
       "       [1., 1., 1., 1.]])"
      ]
     },
     "execution_count": 53,
     "metadata": {},
     "output_type": "execute_result"
    }
   ],
   "source": [
    "np.ones((3,4))"
   ]
  },
  {
   "cell_type": "code",
   "execution_count": 55,
   "id": "5bbda717",
   "metadata": {},
   "outputs": [
    {
     "data": {
      "text/plain": [
       "array([[1., 0., 0., 0., 0.],\n",
       "       [0., 1., 0., 0., 0.],\n",
       "       [0., 0., 1., 0., 0.],\n",
       "       [0., 0., 0., 1., 0.],\n",
       "       [0., 0., 0., 0., 1.]])"
      ]
     },
     "execution_count": 55,
     "metadata": {},
     "output_type": "execute_result"
    }
   ],
   "source": [
    "np.eye(5) # diagonal metrix"
   ]
  },
  {
   "cell_type": "code",
   "execution_count": 58,
   "id": "b3e834f7",
   "metadata": {},
   "outputs": [
    {
     "data": {
      "text/plain": [
       "array([[1., 0., 0., 0., 0.],\n",
       "       [0., 1., 0., 0., 0.],\n",
       "       [0., 0., 1., 0., 0.],\n",
       "       [0., 0., 0., 1., 0.],\n",
       "       [0., 0., 0., 0., 1.]])"
      ]
     },
     "execution_count": 58,
     "metadata": {},
     "output_type": "execute_result"
    }
   ],
   "source": [
    "np.eye(5) # diagonal metrix"
   ]
  },
  {
   "cell_type": "code",
   "execution_count": null,
   "id": "1430b03b",
   "metadata": {},
   "outputs": [],
   "source": []
  },
  {
   "cell_type": "code",
   "execution_count": 78,
   "id": "bfc48b95",
   "metadata": {},
   "outputs": [
    {
     "data": {
      "text/plain": [
       "array([74.72353044, 76.86229387, 55.67390569])"
      ]
     },
     "execution_count": 78,
     "metadata": {},
     "output_type": "execute_result"
    }
   ],
   "source": [
    "np.random.uniform(1,100,3)"
   ]
  },
  {
   "cell_type": "code",
   "execution_count": 79,
   "id": "308432d1",
   "metadata": {},
   "outputs": [
    {
     "data": {
      "text/plain": [
       "array([[89.59209628, 60.78628916,  2.29921982, 74.06169305, 89.29052683,\n",
       "        67.30569218],\n",
       "       [ 9.2354441 , 75.20388449, 29.14351601, 49.30045406, 95.61325809,\n",
       "        29.13035617],\n",
       "       [46.36433041, 84.43322374, 39.73354799, 29.06275647, 81.96437009,\n",
       "        48.60436142]])"
      ]
     },
     "execution_count": 79,
     "metadata": {},
     "output_type": "execute_result"
    }
   ],
   "source": [
    "np.random.uniform(1,100,(3,6)) "
   ]
  },
  {
   "cell_type": "code",
   "execution_count": 92,
   "id": "662dcdd9",
   "metadata": {},
   "outputs": [],
   "source": [
    "#How can be change this shape "
   ]
  },
  {
   "cell_type": "code",
   "execution_count": 93,
   "id": "77af731f",
   "metadata": {},
   "outputs": [],
   "source": [
    "arr=np.array([2,3,4,5,6,6,6,7,7,8,8,8])"
   ]
  },
  {
   "cell_type": "code",
   "execution_count": 94,
   "id": "6569dc04",
   "metadata": {},
   "outputs": [
    {
     "data": {
      "text/plain": [
       "(12,)"
      ]
     },
     "execution_count": 94,
     "metadata": {},
     "output_type": "execute_result"
    }
   ],
   "source": [
    "arr.shape"
   ]
  },
  {
   "cell_type": "code",
   "execution_count": 95,
   "id": "ad7f9062",
   "metadata": {},
   "outputs": [],
   "source": [
    "arr.shape=(3,4)"
   ]
  },
  {
   "cell_type": "code",
   "execution_count": 96,
   "id": "829c02ea",
   "metadata": {},
   "outputs": [
    {
     "data": {
      "text/plain": [
       "array([[2, 3, 4, 5],\n",
       "       [6, 6, 6, 7],\n",
       "       [7, 8, 8, 8]])"
      ]
     },
     "execution_count": 96,
     "metadata": {},
     "output_type": "execute_result"
    }
   ],
   "source": [
    "arr"
   ]
  },
  {
   "cell_type": "code",
   "execution_count": 97,
   "id": "f704ce5b",
   "metadata": {},
   "outputs": [
    {
     "data": {
      "text/plain": [
       "2"
      ]
     },
     "execution_count": 97,
     "metadata": {},
     "output_type": "execute_result"
    }
   ],
   "source": [
    "arr.ndim"
   ]
  },
  {
   "cell_type": "code",
   "execution_count": 98,
   "id": "f9a5afe1",
   "metadata": {},
   "outputs": [],
   "source": [
    "arr.shape=(12,1) #vector"
   ]
  },
  {
   "cell_type": "code",
   "execution_count": 99,
   "id": "6efb920d",
   "metadata": {},
   "outputs": [
    {
     "data": {
      "text/plain": [
       "array([[2],\n",
       "       [3],\n",
       "       [4],\n",
       "       [5],\n",
       "       [6],\n",
       "       [6],\n",
       "       [6],\n",
       "       [7],\n",
       "       [7],\n",
       "       [8],\n",
       "       [8],\n",
       "       [8]])"
      ]
     },
     "execution_count": 99,
     "metadata": {},
     "output_type": "execute_result"
    }
   ],
   "source": [
    "arr"
   ]
  },
  {
   "cell_type": "code",
   "execution_count": 100,
   "id": "1078acdb",
   "metadata": {},
   "outputs": [
    {
     "data": {
      "text/plain": [
       "numpy.ndarray"
      ]
     },
     "execution_count": 100,
     "metadata": {},
     "output_type": "execute_result"
    }
   ],
   "source": [
    "type(arr)"
   ]
  },
  {
   "cell_type": "code",
   "execution_count": 102,
   "id": "82e9464d",
   "metadata": {},
   "outputs": [],
   "source": [
    "arr.shape=(1,12) #Row vector"
   ]
  },
  {
   "cell_type": "code",
   "execution_count": 103,
   "id": "9066aa32",
   "metadata": {},
   "outputs": [
    {
     "data": {
      "text/plain": [
       "array([[2, 3, 4, 5, 6, 6, 6, 7, 7, 8, 8, 8]])"
      ]
     },
     "execution_count": 103,
     "metadata": {},
     "output_type": "execute_result"
    }
   ],
   "source": [
    "arr"
   ]
  },
  {
   "cell_type": "code",
   "execution_count": null,
   "id": "8e786272",
   "metadata": {},
   "outputs": [],
   "source": []
  }
 ],
 "metadata": {
  "kernelspec": {
   "display_name": "Python 3 (ipykernel)",
   "language": "python",
   "name": "python3"
  },
  "language_info": {
   "codemirror_mode": {
    "name": "ipython",
    "version": 3
   },
   "file_extension": ".py",
   "mimetype": "text/x-python",
   "name": "python",
   "nbconvert_exporter": "python",
   "pygments_lexer": "ipython3",
   "version": "3.9.13"
  }
 },
 "nbformat": 4,
 "nbformat_minor": 5
}
