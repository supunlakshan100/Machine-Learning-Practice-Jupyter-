{
 "cells": [
  {
   "cell_type": "markdown",
   "id": "d0019ce1",
   "metadata": {},
   "source": [
    "# Machine Learning- LIST"
   ]
  },
  {
   "cell_type": "code",
   "execution_count": null,
   "id": "a87a5408",
   "metadata": {},
   "outputs": [],
   "source": [
    "name='supun'\n",
    "age=26"
   ]
  },
  {
   "cell_type": "code",
   "execution_count": 8,
   "id": "355fb355",
   "metadata": {},
   "outputs": [
    {
     "data": {
      "text/plain": [
       "26"
      ]
     },
     "execution_count": 8,
     "metadata": {},
     "output_type": "execute_result"
    }
   ],
   "source": [
    "age"
   ]
  },
  {
   "cell_type": "code",
   "execution_count": 9,
   "id": "1ab063bc",
   "metadata": {},
   "outputs": [
    {
     "data": {
      "text/plain": [
       "'supun'"
      ]
     },
     "execution_count": 9,
     "metadata": {},
     "output_type": "execute_result"
    }
   ],
   "source": [
    "name"
   ]
  },
  {
   "cell_type": "code",
   "execution_count": 10,
   "id": "fedb4929",
   "metadata": {},
   "outputs": [
    {
     "name": "stdout",
     "output_type": "stream",
     "text": [
      "Enter your name = supun\n"
     ]
    }
   ],
   "source": [
    "name=input('Enter your name = ')"
   ]
  },
  {
   "cell_type": "code",
   "execution_count": 11,
   "id": "22006c1f",
   "metadata": {},
   "outputs": [
    {
     "data": {
      "text/plain": [
       "40"
      ]
     },
     "execution_count": 11,
     "metadata": {},
     "output_type": "execute_result"
    }
   ],
   "source": [
    "10+30"
   ]
  },
  {
   "cell_type": "code",
   "execution_count": 12,
   "id": "254eab55",
   "metadata": {},
   "outputs": [
    {
     "name": "stdout",
     "output_type": "stream",
     "text": [
      "Enter your name= 56\n"
     ]
    }
   ],
   "source": [
    " age =input('Enter your name= ')"
   ]
  },
  {
   "cell_type": "code",
   "execution_count": 13,
   "id": "db93d771",
   "metadata": {},
   "outputs": [
    {
     "data": {
      "text/plain": [
       "str"
      ]
     },
     "execution_count": 13,
     "metadata": {},
     "output_type": "execute_result"
    }
   ],
   "source": [
    "type(age)"
   ]
  },
  {
   "cell_type": "code",
   "execution_count": 14,
   "id": "de73ed76",
   "metadata": {},
   "outputs": [
    {
     "data": {
      "text/plain": [
       "56"
      ]
     },
     "execution_count": 14,
     "metadata": {},
     "output_type": "execute_result"
    }
   ],
   "source": [
    "a=int(age)"
   ]
  },
  {
   "cell_type": "code",
   "execution_count": 18,
   "id": "8ac7e6b0",
   "metadata": {},
   "outputs": [
    {
     "name": "stdout",
     "output_type": "stream",
     "text": [
      "Enter your age= 20\n"
     ]
    }
   ],
   "source": [
    "a=input('Enter your age= ')"
   ]
  },
  {
   "cell_type": "markdown",
   "id": "2f7134ba",
   "metadata": {},
   "source": [
    "LIST"
   ]
  },
  {
   "cell_type": "code",
   "execution_count": 20,
   "id": "716dff08",
   "metadata": {},
   "outputs": [],
   "source": [
    "L=[2,3,4,2,45,7,9]"
   ]
  },
  {
   "cell_type": "code",
   "execution_count": 29,
   "id": "4a9665f1",
   "metadata": {},
   "outputs": [],
   "source": [
    "L1=[23,45,'Hi',[2,4,6],True]"
   ]
  },
  {
   "cell_type": "code",
   "execution_count": 30,
   "id": "fc5a02a0",
   "metadata": {},
   "outputs": [
    {
     "data": {
      "text/plain": [
       "list"
      ]
     },
     "execution_count": 30,
     "metadata": {},
     "output_type": "execute_result"
    }
   ],
   "source": [
    "type(L1)"
   ]
  },
  {
   "cell_type": "code",
   "execution_count": 31,
   "id": "d1c9fa76",
   "metadata": {},
   "outputs": [
    {
     "data": {
      "text/plain": [
       "5"
      ]
     },
     "execution_count": 31,
     "metadata": {},
     "output_type": "execute_result"
    }
   ],
   "source": [
    "len(L1)"
   ]
  },
  {
   "cell_type": "code",
   "execution_count": 32,
   "id": "cb766fb3",
   "metadata": {},
   "outputs": [],
   "source": [
    "S=[2,4,5,6,'Supun',False,[23,[5,66],78]]"
   ]
  },
  {
   "cell_type": "code",
   "execution_count": 33,
   "id": "079c7670",
   "metadata": {},
   "outputs": [
    {
     "data": {
      "text/plain": [
       "list"
      ]
     },
     "execution_count": 33,
     "metadata": {},
     "output_type": "execute_result"
    }
   ],
   "source": [
    "type(S)"
   ]
  },
  {
   "cell_type": "code",
   "execution_count": 34,
   "id": "b90df55d",
   "metadata": {},
   "outputs": [
    {
     "data": {
      "text/plain": [
       "7"
      ]
     },
     "execution_count": 34,
     "metadata": {},
     "output_type": "execute_result"
    }
   ],
   "source": [
    "len(S)"
   ]
  },
  {
   "cell_type": "code",
   "execution_count": 35,
   "id": "36df491c",
   "metadata": {},
   "outputs": [
    {
     "data": {
      "text/plain": [
       "[2, 4, 5, 6, 'Supun', False, [23, 5, 66, 78]]"
      ]
     },
     "execution_count": 35,
     "metadata": {},
     "output_type": "execute_result"
    }
   ],
   "source": [
    "S"
   ]
  },
  {
   "cell_type": "code",
   "execution_count": 36,
   "id": "9638a254",
   "metadata": {},
   "outputs": [
    {
     "name": "stdout",
     "output_type": "stream",
     "text": [
      "[2, 4, 5, 6, 'Supun', False, [23, 5, 66, 78]]\n"
     ]
    }
   ],
   "source": [
    "print(S)"
   ]
  },
  {
   "cell_type": "code",
   "execution_count": 37,
   "id": "f27c3b04",
   "metadata": {},
   "outputs": [
    {
     "name": "stdout",
     "output_type": "stream",
     "text": [
      "<class 'list'>\n"
     ]
    }
   ],
   "source": [
    "print(type(S))"
   ]
  },
  {
   "cell_type": "code",
   "execution_count": 39,
   "id": "c8b20a03",
   "metadata": {},
   "outputs": [
    {
     "data": {
      "text/plain": [
       "'Supun'"
      ]
     },
     "execution_count": 39,
     "metadata": {},
     "output_type": "execute_result"
    }
   ],
   "source": [
    "S[4]"
   ]
  },
  {
   "cell_type": "code",
   "execution_count": 45,
   "id": "51bdbd94",
   "metadata": {},
   "outputs": [
    {
     "data": {
      "text/plain": [
       "[2, 4, 5, 6, 'Supun']"
      ]
     },
     "execution_count": 45,
     "metadata": {},
     "output_type": "execute_result"
    }
   ],
   "source": [
    "S[0:5] #Slising"
   ]
  },
  {
   "cell_type": "code",
   "execution_count": 46,
   "id": "cf09f32c",
   "metadata": {},
   "outputs": [],
   "source": [
    "f=['Tharidu',2,3,7,8,9,{'kamal',\"sarath\"},True,[34,56]]"
   ]
  },
  {
   "cell_type": "code",
   "execution_count": 47,
   "id": "31a85594",
   "metadata": {},
   "outputs": [
    {
     "data": {
      "text/plain": [
       "['Tharidu', 2, 3, 7, 8, 9, {'kamal', 'sarath'}, True, [34, 56]]"
      ]
     },
     "execution_count": 47,
     "metadata": {},
     "output_type": "execute_result"
    }
   ],
   "source": [
    "f"
   ]
  },
  {
   "cell_type": "code",
   "execution_count": 49,
   "id": "ff3d4e7d",
   "metadata": {},
   "outputs": [
    {
     "data": {
      "text/plain": [
       "9"
      ]
     },
     "execution_count": 49,
     "metadata": {},
     "output_type": "execute_result"
    }
   ],
   "source": [
    "len(f)"
   ]
  },
  {
   "cell_type": "code",
   "execution_count": 50,
   "id": "a5032e04",
   "metadata": {},
   "outputs": [
    {
     "data": {
      "text/plain": [
       "list"
      ]
     },
     "execution_count": 50,
     "metadata": {},
     "output_type": "execute_result"
    }
   ],
   "source": [
    "type(f)"
   ]
  },
  {
   "cell_type": "code",
   "execution_count": 51,
   "id": "8ce590e1",
   "metadata": {},
   "outputs": [
    {
     "data": {
      "text/plain": [
       "8"
      ]
     },
     "execution_count": 51,
     "metadata": {},
     "output_type": "execute_result"
    }
   ],
   "source": [
    "f[4]"
   ]
  },
  {
   "cell_type": "code",
   "execution_count": 52,
   "id": "587b3753",
   "metadata": {},
   "outputs": [
    {
     "data": {
      "text/plain": [
       "[7, 8, 9]"
      ]
     },
     "execution_count": 52,
     "metadata": {},
     "output_type": "execute_result"
    }
   ],
   "source": [
    "f[3:6]"
   ]
  },
  {
   "cell_type": "code",
   "execution_count": 53,
   "id": "8434e119",
   "metadata": {},
   "outputs": [
    {
     "data": {
      "text/plain": [
       "[8, 9, {'kamal', 'sarath'}, True, [34, 56]]"
      ]
     },
     "execution_count": 53,
     "metadata": {},
     "output_type": "execute_result"
    }
   ],
   "source": [
    "f[4:54]"
   ]
  },
  {
   "cell_type": "code",
   "execution_count": 54,
   "id": "4fe7ade4",
   "metadata": {},
   "outputs": [],
   "source": [
    "f[1]=34"
   ]
  },
  {
   "cell_type": "code",
   "execution_count": 55,
   "id": "1f8d1bff",
   "metadata": {},
   "outputs": [
    {
     "data": {
      "text/plain": [
       "['Tharidu', 34, 3, 7, 8, 9, {'kamal', 'sarath'}, True, [34, 56]]"
      ]
     },
     "execution_count": 55,
     "metadata": {},
     "output_type": "execute_result"
    }
   ],
   "source": [
    "f"
   ]
  },
  {
   "cell_type": "code",
   "execution_count": 58,
   "id": "d2244678",
   "metadata": {},
   "outputs": [
    {
     "data": {
      "text/plain": [
       "[{'kamal', 'sarath'}]"
      ]
     },
     "execution_count": 58,
     "metadata": {},
     "output_type": "execute_result"
    }
   ],
   "source": [
    "f[-3:-2]"
   ]
  },
  {
   "cell_type": "code",
   "execution_count": 59,
   "id": "0e299916",
   "metadata": {},
   "outputs": [
    {
     "data": {
      "text/plain": [
       "[7, 8, 9, {'kamal', 'sarath'}, True, [34, 56]]"
      ]
     },
     "execution_count": 59,
     "metadata": {},
     "output_type": "execute_result"
    }
   ],
   "source": [
    "f[3:]"
   ]
  },
  {
   "cell_type": "code",
   "execution_count": 60,
   "id": "425a27f8",
   "metadata": {},
   "outputs": [
    {
     "data": {
      "text/plain": [
       "[{'kamal', 'sarath'}, True, [34, 56]]"
      ]
     },
     "execution_count": 60,
     "metadata": {},
     "output_type": "execute_result"
    }
   ],
   "source": [
    "f[-3:]"
   ]
  },
  {
   "cell_type": "code",
   "execution_count": 61,
   "id": "c9aefb18",
   "metadata": {},
   "outputs": [
    {
     "data": {
      "text/plain": [
       "['Tharidu', 3, 8, {'kamal', 'sarath'}, [34, 56]]"
      ]
     },
     "execution_count": 61,
     "metadata": {},
     "output_type": "execute_result"
    }
   ],
   "source": [
    " f[::2]"
   ]
  },
  {
   "cell_type": "code",
   "execution_count": 62,
   "id": "009cdada",
   "metadata": {},
   "outputs": [
    {
     "data": {
      "text/plain": [
       "['Tharidu', 7, {'kamal', 'sarath'}]"
      ]
     },
     "execution_count": 62,
     "metadata": {},
     "output_type": "execute_result"
    }
   ],
   "source": [
    "f[::3]"
   ]
  },
  {
   "cell_type": "code",
   "execution_count": 65,
   "id": "362b4786",
   "metadata": {},
   "outputs": [
    {
     "data": {
      "text/plain": [
       "[[34, 56], 8, 'Tharidu']"
      ]
     },
     "execution_count": 65,
     "metadata": {},
     "output_type": "execute_result"
    }
   ],
   "source": [
    "f[::-4]"
   ]
  },
  {
   "cell_type": "code",
   "execution_count": 66,
   "id": "374b491f",
   "metadata": {},
   "outputs": [
    {
     "data": {
      "text/plain": [
       "['Tharidu', 34, 3, 7, 8, 9, {'kamal', 'sarath'}, True, [34, 56]]"
      ]
     },
     "execution_count": 66,
     "metadata": {},
     "output_type": "execute_result"
    }
   ],
   "source": [
    "f"
   ]
  },
  {
   "cell_type": "code",
   "execution_count": 67,
   "id": "f41f2258",
   "metadata": {},
   "outputs": [],
   "source": [
    "f[2]=1000"
   ]
  },
  {
   "cell_type": "code",
   "execution_count": 68,
   "id": "fb02b3e7",
   "metadata": {},
   "outputs": [
    {
     "data": {
      "text/plain": [
       "['Tharidu', 34, 1000, 7, 8, 9, {'kamal', 'sarath'}, True, [34, 56]]"
      ]
     },
     "execution_count": 68,
     "metadata": {},
     "output_type": "execute_result"
    }
   ],
   "source": [
    "f"
   ]
  },
  {
   "cell_type": "code",
   "execution_count": 69,
   "id": "7a26aee9",
   "metadata": {},
   "outputs": [],
   "source": [
    "f[1:3]=[300,400]"
   ]
  },
  {
   "cell_type": "code",
   "execution_count": 70,
   "id": "d255b50e",
   "metadata": {},
   "outputs": [
    {
     "data": {
      "text/plain": [
       "['Tharidu', 300, 400, 7, 8, 9, {'kamal', 'sarath'}, True, [34, 56]]"
      ]
     },
     "execution_count": 70,
     "metadata": {},
     "output_type": "execute_result"
    }
   ],
   "source": [
    "f"
   ]
  },
  {
   "cell_type": "code",
   "execution_count": 71,
   "id": "5a95d03e",
   "metadata": {},
   "outputs": [],
   "source": [
    "L1=[1,2,3,4]\n",
    "L2=[5,6,7,8]"
   ]
  },
  {
   "cell_type": "code",
   "execution_count": 74,
   "id": "d4809c22",
   "metadata": {},
   "outputs": [],
   "source": [
    "L=L1+L2"
   ]
  },
  {
   "cell_type": "code",
   "execution_count": 75,
   "id": "e2507562",
   "metadata": {},
   "outputs": [
    {
     "data": {
      "text/plain": [
       "[1, 2, 3, 4, 5, 6, 7, 8]"
      ]
     },
     "execution_count": 75,
     "metadata": {},
     "output_type": "execute_result"
    }
   ],
   "source": [
    "L"
   ]
  },
  {
   "cell_type": "code",
   "execution_count": 73,
   "id": "32029e25",
   "metadata": {},
   "outputs": [
    {
     "data": {
      "text/plain": [
       "[1, 2, 3, 4, 1, 2, 3, 4, 1, 2, 3, 4]"
      ]
     },
     "execution_count": 73,
     "metadata": {},
     "output_type": "execute_result"
    }
   ],
   "source": [
    "L1*3"
   ]
  },
  {
   "cell_type": "code",
   "execution_count": 78,
   "id": "26131ece",
   "metadata": {},
   "outputs": [
    {
     "data": {
      "text/plain": [
       "[1, 2, 3, 4, 5, 6, 7, 8, 1, 2, 3, 4, 5, 6, 7, 8]"
      ]
     },
     "execution_count": 78,
     "metadata": {},
     "output_type": "execute_result"
    }
   ],
   "source": [
    "L*2"
   ]
  },
  {
   "cell_type": "code",
   "execution_count": 79,
   "id": "6deff47b",
   "metadata": {},
   "outputs": [
    {
     "data": {
      "text/plain": [
       "8"
      ]
     },
     "execution_count": 79,
     "metadata": {},
     "output_type": "execute_result"
    }
   ],
   "source": [
    "len(L)"
   ]
  },
  {
   "cell_type": "code",
   "execution_count": 80,
   "id": "d44ee9da",
   "metadata": {},
   "outputs": [
    {
     "data": {
      "text/plain": [
       "[1, 2, 3, 4, 5, 6, 7, 8]"
      ]
     },
     "execution_count": 80,
     "metadata": {},
     "output_type": "execute_result"
    }
   ],
   "source": [
    "L"
   ]
  },
  {
   "cell_type": "code",
   "execution_count": 81,
   "id": "d4741e3a",
   "metadata": {},
   "outputs": [],
   "source": [
    "L.append(100)"
   ]
  },
  {
   "cell_type": "code",
   "execution_count": 82,
   "id": "91f9ed19",
   "metadata": {},
   "outputs": [
    {
     "data": {
      "text/plain": [
       "[1, 2, 3, 4, 5, 6, 7, 8, 100]"
      ]
     },
     "execution_count": 82,
     "metadata": {},
     "output_type": "execute_result"
    }
   ],
   "source": [
    "L"
   ]
  },
  {
   "cell_type": "code",
   "execution_count": 83,
   "id": "d93e9425",
   "metadata": {},
   "outputs": [],
   "source": [
    "L.append(['supun','Tharidu','Kamal'])"
   ]
  },
  {
   "cell_type": "code",
   "execution_count": 84,
   "id": "01e8942c",
   "metadata": {},
   "outputs": [
    {
     "data": {
      "text/plain": [
       "[1, 2, 3, 4, 5, 6, 7, 8, 100, ['supun', 'Tharidu', 'Kamal']]"
      ]
     },
     "execution_count": 84,
     "metadata": {},
     "output_type": "execute_result"
    }
   ],
   "source": [
    "L"
   ]
  },
  {
   "cell_type": "code",
   "execution_count": 88,
   "id": "cafacb2b",
   "metadata": {},
   "outputs": [],
   "source": [
    "L.append(['x','y'])"
   ]
  },
  {
   "cell_type": "code",
   "execution_count": 89,
   "id": "b34f64bd",
   "metadata": {},
   "outputs": [
    {
     "data": {
      "text/plain": [
       "[1, 2, 3, 4, 5, 6, 7, 8, 100, ['supun', 'Tharidu', 'Kamal'], ['x', 'y']]"
      ]
     },
     "execution_count": 89,
     "metadata": {},
     "output_type": "execute_result"
    }
   ],
   "source": [
    "L"
   ]
  },
  {
   "cell_type": "code",
   "execution_count": 90,
   "id": "1c407088",
   "metadata": {},
   "outputs": [],
   "source": [
    "L.extend({100,500})"
   ]
  },
  {
   "cell_type": "code",
   "execution_count": 91,
   "id": "df5fff6a",
   "metadata": {},
   "outputs": [
    {
     "data": {
      "text/plain": [
       "[1,\n",
       " 2,\n",
       " 3,\n",
       " 4,\n",
       " 5,\n",
       " 6,\n",
       " 7,\n",
       " 8,\n",
       " 100,\n",
       " ['supun', 'Tharidu', 'Kamal'],\n",
       " ['x', 'y'],\n",
       " 100,\n",
       " 500]"
      ]
     },
     "execution_count": 91,
     "metadata": {},
     "output_type": "execute_result"
    }
   ],
   "source": [
    "L"
   ]
  },
  {
   "cell_type": "code",
   "execution_count": 94,
   "id": "60dcf615",
   "metadata": {},
   "outputs": [],
   "source": [
    "L.insert(2,'Q')"
   ]
  },
  {
   "cell_type": "code",
   "execution_count": 95,
   "id": "5c17cbff",
   "metadata": {},
   "outputs": [
    {
     "data": {
      "text/plain": [
       "[1,\n",
       " 2,\n",
       " 'Q',\n",
       " 3,\n",
       " 4,\n",
       " 5,\n",
       " 6,\n",
       " 7,\n",
       " 8,\n",
       " 100,\n",
       " ['supun', 'Tharidu', 'Kamal'],\n",
       " ['x', 'y'],\n",
       " 100,\n",
       " 500,\n",
       " 'Q']"
      ]
     },
     "execution_count": 95,
     "metadata": {},
     "output_type": "execute_result"
    }
   ],
   "source": [
    "L"
   ]
  },
  {
   "cell_type": "code",
   "execution_count": 96,
   "id": "284b8014",
   "metadata": {},
   "outputs": [],
   "source": [
    " L.remove(2)"
   ]
  },
  {
   "cell_type": "code",
   "execution_count": 97,
   "id": "e5fcc8b6",
   "metadata": {},
   "outputs": [
    {
     "data": {
      "text/plain": [
       "[1,\n",
       " 'Q',\n",
       " 3,\n",
       " 4,\n",
       " 5,\n",
       " 6,\n",
       " 7,\n",
       " 8,\n",
       " 100,\n",
       " ['supun', 'Tharidu', 'Kamal'],\n",
       " ['x', 'y'],\n",
       " 100,\n",
       " 500,\n",
       " 'Q']"
      ]
     },
     "execution_count": 97,
     "metadata": {},
     "output_type": "execute_result"
    }
   ],
   "source": [
    "L"
   ]
  },
  {
   "cell_type": "code",
   "execution_count": 99,
   "id": "84488f91",
   "metadata": {},
   "outputs": [
    {
     "data": {
      "text/plain": [
       "3"
      ]
     },
     "execution_count": 99,
     "metadata": {},
     "output_type": "execute_result"
    }
   ],
   "source": [
    "L[2]"
   ]
  },
  {
   "cell_type": "code",
   "execution_count": 100,
   "id": "17f25ee8",
   "metadata": {},
   "outputs": [],
   "source": [
    "del(L[2])"
   ]
  },
  {
   "cell_type": "code",
   "execution_count": 101,
   "id": "befc7ea0",
   "metadata": {},
   "outputs": [
    {
     "data": {
      "text/plain": [
       "[1,\n",
       " 'Q',\n",
       " 4,\n",
       " 5,\n",
       " 6,\n",
       " 7,\n",
       " 8,\n",
       " 100,\n",
       " ['supun', 'Tharidu', 'Kamal'],\n",
       " ['x', 'y'],\n",
       " 100,\n",
       " 500,\n",
       " 'Q']"
      ]
     },
     "execution_count": 101,
     "metadata": {},
     "output_type": "execute_result"
    }
   ],
   "source": [
    "L"
   ]
  },
  {
   "cell_type": "code",
   "execution_count": 102,
   "id": "13815cd7",
   "metadata": {},
   "outputs": [
    {
     "data": {
      "text/plain": [
       "[4, 5, 6]"
      ]
     },
     "execution_count": 102,
     "metadata": {},
     "output_type": "execute_result"
    }
   ],
   "source": [
    "L[2:5]"
   ]
  },
  {
   "cell_type": "code",
   "execution_count": 104,
   "id": "71db7cd0",
   "metadata": {},
   "outputs": [],
   "source": [
    "del(L[2:5])"
   ]
  },
  {
   "cell_type": "code",
   "execution_count": 105,
   "id": "dd773f67",
   "metadata": {},
   "outputs": [
    {
     "data": {
      "text/plain": [
       "[1, 'Q', 7, 8, 100, ['supun', 'Tharidu', 'Kamal'], ['x', 'y'], 100, 500, 'Q']"
      ]
     },
     "execution_count": 105,
     "metadata": {},
     "output_type": "execute_result"
    }
   ],
   "source": [
    "L"
   ]
  },
  {
   "cell_type": "code",
   "execution_count": 106,
   "id": "e9b9a956",
   "metadata": {},
   "outputs": [],
   "source": [
    "Q=[1,2,3,4,5,6,7,8]"
   ]
  },
  {
   "cell_type": "code",
   "execution_count": 107,
   "id": "accfcb9d",
   "metadata": {},
   "outputs": [
    {
     "data": {
      "text/plain": [
       "[1, 2, 3, 4, 5, 6, 7, 8]"
      ]
     },
     "execution_count": 107,
     "metadata": {},
     "output_type": "execute_result"
    }
   ],
   "source": [
    "Q"
   ]
  },
  {
   "cell_type": "code",
   "execution_count": 108,
   "id": "e2593d73",
   "metadata": {},
   "outputs": [],
   "source": [
    "z=Q.remove(2)"
   ]
  },
  {
   "cell_type": "code",
   "execution_count": 109,
   "id": "f120a1a7",
   "metadata": {},
   "outputs": [],
   "source": [
    "z"
   ]
  },
  {
   "cell_type": "code",
   "execution_count": 116,
   "id": "7691b7ac",
   "metadata": {},
   "outputs": [
    {
     "data": {
      "text/plain": [
       "[1, 3, 4, 5, 6, 7, 8]"
      ]
     },
     "execution_count": 116,
     "metadata": {},
     "output_type": "execute_result"
    }
   ],
   "source": [
    "Q"
   ]
  },
  {
   "cell_type": "code",
   "execution_count": 119,
   "id": "2f8f926c",
   "metadata": {},
   "outputs": [],
   "source": [
    "z=Q.pop(4)"
   ]
  },
  {
   "cell_type": "code",
   "execution_count": 120,
   "id": "3fe1ed83",
   "metadata": {},
   "outputs": [
    {
     "data": {
      "text/plain": [
       "6"
      ]
     },
     "execution_count": 120,
     "metadata": {},
     "output_type": "execute_result"
    }
   ],
   "source": [
    "z"
   ]
  },
  {
   "cell_type": "code",
   "execution_count": 121,
   "id": "197b83da",
   "metadata": {},
   "outputs": [],
   "source": [
    "u=[2,3,6,7,4,9,0]"
   ]
  },
  {
   "cell_type": "code",
   "execution_count": 122,
   "id": "61a71727",
   "metadata": {},
   "outputs": [],
   "source": [
    "u.sort(reverse=True)"
   ]
  },
  {
   "cell_type": "code",
   "execution_count": 123,
   "id": "62a49bf3",
   "metadata": {},
   "outputs": [
    {
     "data": {
      "text/plain": [
       "[9, 7, 6, 4, 3, 2, 0]"
      ]
     },
     "execution_count": 123,
     "metadata": {},
     "output_type": "execute_result"
    }
   ],
   "source": [
    "u"
   ]
  },
  {
   "cell_type": "code",
   "execution_count": 127,
   "id": "ec7400a3",
   "metadata": {},
   "outputs": [],
   "source": [
    "u.sort()"
   ]
  },
  {
   "cell_type": "code",
   "execution_count": 133,
   "id": "2a426f25",
   "metadata": {},
   "outputs": [],
   "source": [
    "u=[3,4,5,63,0,3,4,6,22,13]"
   ]
  },
  {
   "cell_type": "code",
   "execution_count": 134,
   "id": "919d940d",
   "metadata": {},
   "outputs": [],
   "source": [
    "u.sort(reverse=False)"
   ]
  },
  {
   "cell_type": "code",
   "execution_count": 135,
   "id": "0ffed7ca",
   "metadata": {},
   "outputs": [
    {
     "data": {
      "text/plain": [
       "[0, 3, 3, 4, 4, 5, 6, 13, 22, 63]"
      ]
     },
     "execution_count": 135,
     "metadata": {},
     "output_type": "execute_result"
    }
   ],
   "source": [
    "u"
   ]
  },
  {
   "cell_type": "code",
   "execution_count": 136,
   "id": "cf61084a",
   "metadata": {},
   "outputs": [
    {
     "data": {
      "text/plain": [
       "2"
      ]
     },
     "execution_count": 136,
     "metadata": {},
     "output_type": "execute_result"
    }
   ],
   "source": [
    "u.count(3)"
   ]
  },
  {
   "cell_type": "code",
   "execution_count": 137,
   "id": "5c868d80",
   "metadata": {},
   "outputs": [],
   "source": [
    "p=[20,30,40,60,10,20,80]"
   ]
  },
  {
   "cell_type": "code",
   "execution_count": 138,
   "id": "a158cd01",
   "metadata": {},
   "outputs": [
    {
     "data": {
      "text/plain": [
       "True"
      ]
     },
     "execution_count": 138,
     "metadata": {},
     "output_type": "execute_result"
    }
   ],
   "source": [
    "30 in p"
   ]
  },
  {
   "cell_type": "code",
   "execution_count": 139,
   "id": "88ee5560",
   "metadata": {},
   "outputs": [
    {
     "data": {
      "text/plain": [
       "False"
      ]
     },
     "execution_count": 139,
     "metadata": {},
     "output_type": "execute_result"
    }
   ],
   "source": [
    "100 in p"
   ]
  },
  {
   "cell_type": "code",
   "execution_count": 140,
   "id": "9a59e3e9",
   "metadata": {},
   "outputs": [
    {
     "data": {
      "text/plain": [
       "False"
      ]
     },
     "execution_count": 140,
     "metadata": {},
     "output_type": "execute_result"
    }
   ],
   "source": [
    "(20 in p) and (100 in p)"
   ]
  },
  {
   "cell_type": "code",
   "execution_count": 141,
   "id": "6ebe07cd",
   "metadata": {},
   "outputs": [
    {
     "data": {
      "text/plain": [
       "True"
      ]
     },
     "execution_count": 141,
     "metadata": {},
     "output_type": "execute_result"
    }
   ],
   "source": [
    "(20 in p) or (100 in p)"
   ]
  },
  {
   "cell_type": "code",
   "execution_count": 142,
   "id": "6e6296f2",
   "metadata": {},
   "outputs": [
    {
     "data": {
      "text/plain": [
       "True"
      ]
     },
     "execution_count": 142,
     "metadata": {},
     "output_type": "execute_result"
    }
   ],
   "source": [
    "not 100 in p"
   ]
  },
  {
   "cell_type": "code",
   "execution_count": null,
   "id": "40bfb85d",
   "metadata": {},
   "outputs": [],
   "source": [
    "a,b,c=[20,30,40] #unpacking,"
   ]
  },
  {
   "cell_type": "code",
   "execution_count": 1,
   "id": "07c2696f",
   "metadata": {},
   "outputs": [
    {
     "ename": "NameError",
     "evalue": "name 'a' is not defined",
     "output_type": "error",
     "traceback": [
      "\u001b[1;31m---------------------------------------------------------------------------\u001b[0m",
      "\u001b[1;31mNameError\u001b[0m                                 Traceback (most recent call last)",
      "Cell \u001b[1;32mIn[1], line 1\u001b[0m\n\u001b[1;32m----> 1\u001b[0m a\n",
      "\u001b[1;31mNameError\u001b[0m: name 'a' is not defined"
     ]
    }
   ],
   "source": []
  },
  {
   "cell_type": "code",
   "execution_count": 2,
   "id": "5c339d61",
   "metadata": {},
   "outputs": [
    {
     "ename": "NameError",
     "evalue": "name 'b' is not defined",
     "output_type": "error",
     "traceback": [
      "\u001b[1;31m---------------------------------------------------------------------------\u001b[0m",
      "\u001b[1;31mNameError\u001b[0m                                 Traceback (most recent call last)",
      "Cell \u001b[1;32mIn[2], line 1\u001b[0m\n\u001b[1;32m----> 1\u001b[0m b\n",
      "\u001b[1;31mNameError\u001b[0m: name 'b' is not defined"
     ]
    }
   ],
   "source": [
    "b"
   ]
  },
  {
   "cell_type": "code",
   "execution_count": null,
   "id": "1bbe9860",
   "metadata": {},
   "outputs": [
    {
     "data": {
      "text/plain": [
       "40"
      ]
     },
     "execution_count": 146,
     "metadata": {},
     "output_type": "execute_result"
    }
   ],
   "source": [
    "c"
   ]
  },
  {
   "cell_type": "code",
   "execution_count": 3,
   "id": "83944e50",
   "metadata": {},
   "outputs": [
    {
     "ename": "NameError",
     "evalue": "name 'a' is not defined",
     "output_type": "error",
     "traceback": [
      "\u001b[1;31m---------------------------------------------------------------------------\u001b[0m",
      "\u001b[1;31mNameError\u001b[0m                                 Traceback (most recent call last)",
      "Cell \u001b[1;32mIn[3], line 1\u001b[0m\n\u001b[1;32m----> 1\u001b[0m \u001b[39mprint\u001b[39m(a,b,c)\n",
      "\u001b[1;31mNameError\u001b[0m: name 'a' is not defined"
     ]
    }
   ],
   "source": [
    "print(a,b,c)"
   ]
  },
  {
   "cell_type": "code",
   "execution_count": 5,
   "id": "356fd94c",
   "metadata": {},
   "outputs": [],
   "source": [
    "a=[1,2,3,4,5,6,7,8,9,10]"
   ]
  },
  {
   "cell_type": "code",
   "execution_count": 6,
   "id": "69788879",
   "metadata": {},
   "outputs": [
    {
     "name": "stdout",
     "output_type": "stream",
     "text": [
      "[1, 3, 5, 7, 9]\n"
     ]
    }
   ],
   "source": [
    "print(a[0:10:2])"
   ]
  },
  {
   "cell_type": "code",
   "execution_count": null,
   "id": "a22aba80",
   "metadata": {},
   "outputs": [],
   "source": []
  },
  {
   "cell_type": "markdown",
   "id": "d1b83e5f",
   "metadata": {},
   "source": []
  }
 ],
 "metadata": {
  "kernelspec": {
   "display_name": "Python 3 (ipykernel)",
   "language": "python",
   "name": "python3"
  },
  "language_info": {
   "codemirror_mode": {
    "name": "ipython",
    "version": 3
   },
   "file_extension": ".py",
   "mimetype": "text/x-python",
   "name": "python",
   "nbconvert_exporter": "python",
   "pygments_lexer": "ipython3",
   "version": "3.10.7"
  }
 },
 "nbformat": 4,
 "nbformat_minor": 5
}
